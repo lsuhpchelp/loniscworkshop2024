{
  "nbformat": 4,
  "nbformat_minor": 0,
  "metadata": {
    "colab": {
      "provenance": [],
      "include_colab_link": true
    },
    "kernelspec": {
      "name": "python3",
      "display_name": "Python 3"
    },
    "language_info": {
      "name": "python"
    }
  },
  "cells": [
    {
      "cell_type": "markdown",
      "metadata": {
        "id": "view-in-github",
        "colab_type": "text"
      },
      "source": [
        "<a href=\"https://colab.research.google.com/github/lsuhpchelp/loniscworkshop2024/blob/main/day1/Python101.ipynb\" target=\"_parent\"><img src=\"https://colab.research.google.com/assets/colab-badge.svg\" alt=\"Open In Colab\"/></a>"
      ]
    },
    {
      "cell_type": "markdown",
      "source": [
        "# **Introduction to Python**\n",
        "\n",
        "Date: June 2nd, 2025\n",
        "\n",
        "LONI Scientific Computing Bootcamp, 9:00 am\n",
        "\n",
        "by Oleg N. Starovoytov\n",
        "\n",
        "olegs@lsu.edu"
      ],
      "metadata": {
        "id": "IIB88iwPO5F-"
      }
    },
    {
      "cell_type": "markdown",
      "source": [
        "![image.png](data:image/png;base64,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)\n",
        "\n",
        "www.python.org"
      ],
      "metadata": {
        "id": "YVC2HlIwRwmd"
      }
    },
    {
      "cell_type": "markdown",
      "source": [
        "Disclamer\n",
        "\n",
        "---\n",
        "The information, examples, or code provided are for educational and informational purposes only. I make no representations or warranties of any kind, express or implied, about the completeness, accuracy, relability, or suitability of the content. Any reliance you place on such information is strictly at your own risk. I am not liable for any loss or damage, direct or indirect, arising from the use or misuse of this content."
      ],
      "metadata": {
        "id": "BcNwHLg6fOd6"
      }
    },
    {
      "cell_type": "markdown",
      "source": [
        "The content of this file is organized and presented to the reader in several sections to help understand and learn Python programming language more effectively. Each section is devided into Description, Note, Syntax, and Examples. This structure is designed to make the material clear, practical, and easy to follow.\n",
        "---"
      ],
      "metadata": {
        "id": "_DjwcfdWhEG8"
      }
    },
    {
      "cell_type": "markdown",
      "source": [
        "Description\n",
        "\n",
        "---\n",
        "The Description section explains a particular concept that is used in Python for operator, function, module, class etc. Its gives an overview of its pupose, the behavior, and when it can typically be used. This section helps students to better understand and get familiar with the concept."
      ],
      "metadata": {
        "id": "HR5RGUBsdF94"
      }
    },
    {
      "cell_type": "markdown",
      "source": [
        "Note\n",
        "\n",
        "---\n",
        "The Note section is used to share additional information that may be helpful but is not essential to the main topic. This can include related concepts with more context, tips, warnings, or reminders. The Note section may also mention useful ideas that could support your overall understanding or learning process. It can be helpful extra insight or advice to deepen the understanding."
      ],
      "metadata": {
        "id": "Zk3XOCkqgFHN"
      }
    },
    {
      "cell_type": "markdown",
      "source": [
        "Syntax\n",
        "\n",
        "---\n",
        "The Syntax section shows the correct way of writing the concept in Python. It focuses on the structure and format, such as the order of elements, used symbols, and required components. This section is essential for learning how to apply the concept while programming."
      ],
      "metadata": {
        "id": "aUNfYRNKd-tv"
      }
    },
    {
      "cell_type": "markdown",
      "source": [
        "Examples\n",
        "\n",
        "---\n",
        "The Examples section provides practical code snippets that demonstrate how the concept is used in real scenarious. This section helps to reinforce understanding by showing the concept in action."
      ],
      "metadata": {
        "id": "-0BWignIekHd"
      }
    },
    {
      "cell_type": "markdown",
      "source": [
        "# Outline\n",
        "\n",
        "Section 1: **Python programming basics**\n",
        "\n",
        "Section 2: **Operators**\n",
        "\n",
        "Section 3: **Data collections**\n",
        "   \n",
        "Section 4: **Control flow**\n",
        "\n",
        "Section 5: **Functions**\n",
        "\n",
        "Section 6: **Modules**\n",
        "\n",
        "Section 7: **Classes**\n",
        "\n",
        "Section 8: **Exceptions**\n",
        "\n",
        "Section 9: **Input and output (I/O) operations**\n",
        "\n",
        "Section 10: **Miscellaneous**"
      ],
      "metadata": {
        "id": "Ptut8gykhIuv"
      }
    },
    {
      "cell_type": "markdown",
      "source": [
        "Python Version Notice\n",
        "\n",
        "---\n",
        "In this quide, we will be using Python 3.11.12 (main, Apr  9 2025, 08:55:54) [GCC 11.4.0] (e.g., Python 3.12). All examples and syntax are compatible with Python3 and may not work as expected in Python 2. It is recommended to run this code in an environment where Python 3.x is installed, such as Google Colab, Jupyter Notebook, or local Python 3 setup."
      ],
      "metadata": {
        "id": "B9aInqPDdHPI"
      }
    },
    {
      "cell_type": "code",
      "source": [
        "import sys\n",
        "print(sys.version)"
      ],
      "metadata": {
        "id": "h_VtmFPreuEm"
      },
      "execution_count": null,
      "outputs": []
    },
    {
      "cell_type": "code",
      "source": [
        "!python3 --version"
      ],
      "metadata": {
        "id": "pH6aR9mwezkF"
      },
      "execution_count": null,
      "outputs": []
    },
    {
      "cell_type": "markdown",
      "source": [
        "Note\n",
        "\n",
        "---\n",
        "In this guide, we will use specific variables for clarity and consistency. The variables *a* and *b* will be used for demonstrating bitwise operations, as they typically involve integer values at the binary level. For all other examples, including arithmetic, comparison, logical, assignment, and string operations, we will be using variables defined according to Camel Case convention like *myVariable*. We may use simple names like *x*, *y*, and *z* for clarity purposes. This helps keep the examples organized and makes it easier to distinguish between general purpose and low-level bitwise operations."
      ],
      "metadata": {
        "id": "5ug1OePhfEmu"
      }
    },
    {
      "cell_type": "markdown",
      "source": [
        "# Section 1: Python programming basics\n",
        "\n",
        "1.1 Print function\n",
        "\n",
        "1.2 Comments\n",
        "\n",
        "1.3 Variables\n",
        "\n",
        "1.4 Datatypes\n",
        "\n",
        "1.5 Literals\n",
        "\n",
        "1.6 Numbers\n",
        "\n",
        "1.7 Casting\n",
        "\n",
        "1.8 Boolean\n",
        "\n",
        "1.9 String"
      ],
      "metadata": {
        "id": "fKMS-GhxE04A"
      }
    },
    {
      "cell_type": "markdown",
      "source": [
        "1.1 Print function\n",
        "---"
      ],
      "metadata": {
        "id": "v1p1Jg8o0t0h"
      }
    },
    {
      "cell_type": "markdown",
      "source": [
        "Description\n",
        "\n",
        "---\n",
        "The print() function is used to display output on the screen. We will use it frequently to check values, debug your code, and show your results. That is why I would like you to get familiar with this function first."
      ],
      "metadata": {
        "id": "N6GufoSED1p3"
      }
    },
    {
      "cell_type": "markdown",
      "source": [
        "Syntax\n",
        "\n",
        "---\n",
        "\n",
        "          print(arguments)"
      ],
      "metadata": {
        "id": "wKgL5oQY8VOH"
      }
    },
    {
      "cell_type": "markdown",
      "source": [
        "Examples\n",
        "\n",
        "---"
      ],
      "metadata": {
        "id": "oWOB0ZutTBiJ"
      }
    },
    {
      "cell_type": "code",
      "source": [
        "print(\"Hello, World!\")"
      ],
      "metadata": {
        "id": "SvLbKqgN3AZN"
      },
      "execution_count": null,
      "outputs": []
    },
    {
      "cell_type": "markdown",
      "source": [
        "1.2 Comments\n",
        "---"
      ],
      "metadata": {
        "id": "P735N2xU0feW"
      }
    },
    {
      "cell_type": "markdown",
      "source": [
        "Description\n",
        "\n",
        "---\n",
        "Comments are an essential part of programming. It is encouraged to leave comments inside of your code, making it easier for others to understand your code. Comments in Python are made using a ( # ) sign to comment on a single line and using three single quotes ( ' ' ' ) or three double quotes ( \" \" \" ) to comment on multiple lines. Triple-quoted strings are technically string literals, not true comments. They are often used for docstrings (documentation strings) inside functions, classes, and modules."
      ],
      "metadata": {
        "id": "VHByrPxTELm1"
      }
    },
    {
      "cell_type": "markdown",
      "source": [
        "Note\n",
        "\n",
        "---\n",
        "The \"Lorem ipsum dolor sit amet ...\" is not random Latin, it is a scrambled section of a passage from Cicero's writings in 45 BC. Its use became widespread in the 1960s with typesetting software. This passage is used to focus on layout and design elements rather than readable content. It is a placeholder text commonly used in publishing graphic design, and web development to fill a space on a page and give an impression of how the final text will look. It is known as \"dummy text\".\n",
        "\n",
        "\"*Lorem ipsum dolor sit amet, consectetur adipiscing elit, sed do eiusmod tempor incididunt ut labore et dolore magna aliqua. Ut enim ad minim veniam, quis nostrud exercitation ullamco laboris nisi ut aliquip ex ea commodo consequat. Duis aute irure dolor in reprehenderit in voluptate velit esse cillum dolore eu fugiat nulla pariatur. Excepteur sint occaecat cupidatat non proident, sunt in culpa qui officia deserunt mollit anim id est laborum.*\""
      ],
      "metadata": {
        "id": "ZnDqUnkCfWFA"
      }
    },
    {
      "cell_type": "markdown",
      "source": [
        "Syntax\n",
        "\n",
        "---\n",
        "            # Lorem ipsum dolor sit amet ...\n",
        "        \n",
        "          ''' Lorem ipsum dolor sit amet ... '''\n",
        "\n",
        "        \" \" \" Lorem ipsum dolor sit amet ... \" \" \""
      ],
      "metadata": {
        "id": "28pythp28oHy"
      }
    },
    {
      "cell_type": "markdown",
      "source": [
        "Examples\n",
        "\n",
        "---"
      ],
      "metadata": {
        "id": "kJ3NhuG0T-MR"
      }
    },
    {
      "cell_type": "code",
      "source": [
        "# This is my first comment\n",
        "\n",
        "print(\"Hello, World!\")"
      ],
      "metadata": {
        "id": "EzgnB7SAF2Hs"
      },
      "execution_count": null,
      "outputs": []
    },
    {
      "cell_type": "code",
      "source": [
        "# Using three single quotes to make a multiple line comment\n",
        "\n",
        "''' This is a multiple\n",
        "    line\n",
        "    comment '''\n",
        "\n",
        "print(\"Hello, World!\")"
      ],
      "metadata": {
        "id": "d0bAZiB2FzEQ"
      },
      "execution_count": null,
      "outputs": []
    },
    {
      "cell_type": "code",
      "source": [
        "# Using three double quotes to make a multiple line comment\n",
        "\n",
        "\"\"\" This is a multiple\n",
        "    line\n",
        "    comment \"\"\"\n",
        "\n",
        "print(\"Hello, World!\")"
      ],
      "metadata": {
        "id": "oVfXjlu-GHb3"
      },
      "execution_count": null,
      "outputs": []
    },
    {
      "cell_type": "markdown",
      "source": [
        "Note\n",
        "\n",
        "---\n",
        "Professional programmers often include a header comment at the top of each source code file. This section provides essential information such as author's name, creation date, a brief description of the code, version or update history, license or contact information, and other important information. See example below."
      ],
      "metadata": {
        "id": "ALsNm8DsLo2d"
      }
    },
    {
      "cell_type": "markdown",
      "source": [
        "Examples\n",
        "\n",
        "---"
      ],
      "metadata": {
        "id": "JMWgY3mEEpR0"
      }
    },
    {
      "cell_type": "code",
      "source": [
        "# function sortedArray = sort(myFirstArray)\n",
        "\n",
        "# Author:  First name Second name (somename@address.edu)\n",
        "# Date:    12/10/1815\n",
        "# Updated: 06/10/1835\n",
        "# Description: The sort function is sorting an array of integers\n",
        "# Parameters: Array\n",
        "# Return: Sorted array\n",
        "# Example of usage: myFirstArray = [23,20,45,14,2]\n",
        "#                   sortedArray  = [2,14,20,23,45]"
      ],
      "metadata": {
        "id": "V0eM_w4IL85E"
      },
      "execution_count": null,
      "outputs": []
    },
    {
      "cell_type": "markdown",
      "source": [
        "1.3 Variables\n",
        "---"
      ],
      "metadata": {
        "id": "Obdgar5uk9bO"
      }
    },
    {
      "cell_type": "markdown",
      "source": [
        "Description\n",
        "\n",
        "---\n",
        "Variables are used to store data values that can be referenced and manipulated later in a program. A variable is created when you assign it a value using assignemnt operator (=). No particular type is used upon variable declaration.You do not need to declare the variable type explicitly like in other programming languages, Python determines that authomatically based on the datatype that being assignd to it. A variable's name references or points to an object. Each object can have various data types with some stored values."
      ],
      "metadata": {
        "id": "iruemVSmE-fn"
      }
    },
    {
      "cell_type": "markdown",
      "source": [
        "Syntax\n",
        "\n",
        "---\n",
        "          myVariable = value"
      ],
      "metadata": {
        "id": "QmHae8n69CUG"
      }
    },
    {
      "cell_type": "markdown",
      "source": [
        " Examples\n",
        "\n",
        "---"
      ],
      "metadata": {
        "id": "f8JD139EUCIF"
      }
    },
    {
      "cell_type": "code",
      "source": [
        "# Illegal declaration of variables\n",
        "\n",
        "100myFirstVariable  = \"Lorem\"  # can not start with a number\n",
        "my-first-variable   = \"Lorem\"  # can not have dash in the name\n",
        "my first variable   = \"Lorem\"  # can not have spaces in the variable's name\n",
        "&myFirstVariable    = \"Lorem\"  # can not have special characters in the name\n",
        "              for   = \"Lorem\"  # can not use reserved python keywords"
      ],
      "metadata": {
        "id": "WkzKQsuNMQbN"
      },
      "execution_count": null,
      "outputs": []
    },
    {
      "cell_type": "code",
      "source": [
        "# Correct declaration of variables\n",
        "\n",
        "myFirstVariable     = \"Lorem\"\n",
        "MyFirstVariable     = \"Lorem\"\n",
        "my_first_variable   = \"Lorem\"\n",
        "_my_first_Variable  = \"Lorem\"\n",
        "MY_FIRST_VARIABLE   = \"Lorem\"\n",
        "myFirst_Variable363 = \"Lorem\""
      ],
      "metadata": {
        "id": "7hkrjOPCLysP"
      },
      "execution_count": null,
      "outputs": []
    },
    {
      "cell_type": "code",
      "source": [
        "# Usual declaration of variables\n",
        "\n",
        "a = 1\n",
        "b = 'Hello, World'\n",
        "c = -100000000000\n",
        "d = 0.345\n",
        "e = True\n",
        "f = 5.0E-51\n",
        "g = 1_000_000_000\n",
        "A_65_ASCII = \"A\""
      ],
      "metadata": {
        "id": "DEUIIbhRRAfx"
      },
      "execution_count": null,
      "outputs": []
    },
    {
      "cell_type": "markdown",
      "source": [
        "Note\n",
        "\n",
        "---\n",
        "\n",
        "There are naming conventions that are commonly used in programming to make variable, function, and class names easier to read. You can use any of these three conventions to develop your code. However, class names should start with a capital letter or using Pascal case."
      ],
      "metadata": {
        "id": "KbhL2URwEWcM"
      }
    },
    {
      "cell_type": "markdown",
      "source": [
        "Syntax\n",
        "\n",
        "---\n",
        "\n",
        "   **Camel Case** - each word starts with a capital letter except the first one.\n",
        "\n",
        "        myVariableName\n",
        "\n",
        "   **Pascal Case** - each word starts with a capital letter.\n",
        "\n",
        "        MyVariableName\n",
        "\n",
        "   **Snake Case** - each word is connected by underscore.\n",
        "\n",
        "        my_variable_name\n"
      ],
      "metadata": {
        "id": "TpJWtD7KFdFu"
      }
    },
    {
      "cell_type": "markdown",
      "source": [
        "Examples\n",
        "\n",
        "---"
      ],
      "metadata": {
        "id": "z9INaDFyUF1r"
      }
    },
    {
      "cell_type": "code",
      "source": [
        "# Declaration of a variable using Camel Case\n",
        "\n",
        "myCamelCase = \"Camel Case\"\n",
        "\n",
        "print(myCamelCase)"
      ],
      "metadata": {
        "id": "ulabfaGSKdH2"
      },
      "execution_count": null,
      "outputs": []
    },
    {
      "cell_type": "code",
      "source": [
        "# Declaration of a variable using Pascal Case\n",
        "\n",
        "MyPascalCase = \"Pascal Case\"\n",
        "\n",
        "print(MyPascalCase)"
      ],
      "metadata": {
        "id": "kzDovAizKr9o"
      },
      "execution_count": null,
      "outputs": []
    },
    {
      "cell_type": "code",
      "source": [
        "# Declaration of a variable using Snake Case\n",
        "\n",
        "my_snake_case = \"Snake Case\"\n",
        "\n",
        "print(my_snake_case)"
      ],
      "metadata": {
        "id": "vW3-ecGDK6Lu"
      },
      "execution_count": null,
      "outputs": []
    },
    {
      "cell_type": "markdown",
      "source": [
        "Note\n",
        "\n",
        "---\n",
        "Variables are created and initialized when you first assign a value to them. Unlike some other programming languages, you do not need to declare the type of the variable beforehand. Python will automatically determine the type of a variable based on the assigned value. There are various ways to assign values to variables in Python."
      ],
      "metadata": {
        "id": "WjnMkWGKqB4b"
      }
    },
    {
      "cell_type": "markdown",
      "source": [
        "Examples\n",
        "\n",
        "---"
      ],
      "metadata": {
        "id": "fhoa4iuvaUM8"
      }
    },
    {
      "cell_type": "code",
      "source": [
        "# Assign multiple values to multiple variables in one line\n",
        "\n",
        "x, y, z = 23.4, 35.6, 45.1\n",
        "\n",
        "print(x)\n",
        "print(y)\n",
        "print(z)"
      ],
      "metadata": {
        "id": "6PUy49h1Ov7F"
      },
      "execution_count": null,
      "outputs": []
    },
    {
      "cell_type": "code",
      "source": [
        "# Assign multiple values of multiple data types to multiple variables in one line\n",
        "\n",
        "x, atomName, stateID = 23.4, \"Carbon\", True\n",
        "\n",
        "print(x)\n",
        "print(atomName)\n",
        "print(stateID)"
      ],
      "metadata": {
        "id": "utu2h8QPPpog"
      },
      "execution_count": null,
      "outputs": []
    },
    {
      "cell_type": "code",
      "source": [
        "# Assign one value to multiple variables\n",
        "\n",
        "x = y = z = 2.25\n",
        "\n",
        "print(x)\n",
        "print(y)\n",
        "print(z)"
      ],
      "metadata": {
        "id": "cxAe_TDSQGy2"
      },
      "execution_count": null,
      "outputs": []
    },
    {
      "cell_type": "code",
      "source": [
        "# Using unpacking method to assign values to variables\n",
        "\n",
        "coordinates = [2.35, 6.37, -8.94]\n",
        "x, y, z = coordinates\n",
        "\n",
        "print(x)\n",
        "print(y)\n",
        "print(z)"
      ],
      "metadata": {
        "id": "x5i3eTHMQerG"
      },
      "execution_count": null,
      "outputs": []
    },
    {
      "cell_type": "code",
      "source": [
        "# When unpacking a list, you can use _ to ignore certan values.\n",
        "\n",
        "coordinates = [2.35, 6.37, -8.94]\n",
        "x, _, z = coordinates\n",
        "\n",
        "print(x)\n",
        "print(z)"
      ],
      "metadata": {
        "id": "C-a3HcSdVPiq"
      },
      "execution_count": null,
      "outputs": []
    },
    {
      "cell_type": "markdown",
      "source": [
        "Note\n",
        "\n",
        "---\n",
        "Variables are references to objects, and while you can reassign them or modify their content, sometimes you might need to remove them or delete an object from memory. To delete a variable you need to use the del statement."
      ],
      "metadata": {
        "id": "fSxKgaAjtrx9"
      }
    },
    {
      "cell_type": "markdown",
      "source": [
        "Syntax\n",
        "\n",
        "---\n",
        "          del myVariable"
      ],
      "metadata": {
        "id": "MOiX2aEGGDYS"
      }
    },
    {
      "cell_type": "markdown",
      "source": [
        "Examples\n",
        "\n",
        "---"
      ],
      "metadata": {
        "id": "2BaeD6FPZTW1"
      }
    },
    {
      "cell_type": "code",
      "source": [
        "# Deleting a variable using the del command\n",
        "\n",
        "myTenthVariable = 65\n",
        "\n",
        "print (myTenthVariable)\n",
        "del myTenthVariable"
      ],
      "metadata": {
        "id": "lRo1hsnza_fH"
      },
      "execution_count": null,
      "outputs": []
    },
    {
      "cell_type": "markdown",
      "source": [
        "Note\n",
        "\n",
        "---\n",
        "**Global and local variables:**\n",
        "\n",
        "Global variables are the variables that can be accessed from anywhere in your code. Local variables are accessible within a local scope. Please see the Function section for more information about global and local variables."
      ],
      "metadata": {
        "id": "P9P61uxDRk-I"
      }
    },
    {
      "cell_type": "markdown",
      "source": [
        "Note\n",
        "\n",
        "---\n",
        "Single leading underscore ( _myVariable ) indicates that a variable is intended for internal use or should be treated as private, however, it does not enforce\n",
        "strict privacy. It is convention among programmers to indicate that a variable or a method is not meant for public use.\n",
        "\n",
        "Double leading underscore ( _ _myVaraible ) triggers name mangling, where the interpreter changes the variable name to prevent accidental overriding in subclasses, protecting its name.\n",
        "\n",
        "Single trailing underscore ( myVariable_ ) can be used to avoid naming conflicts with python keywords. For instance, ( class_ ) can be used instead of class, which is reserved keyword."
      ],
      "metadata": {
        "id": "4hvE-vKtl5aY"
      }
    },
    {
      "cell_type": "markdown",
      "source": [
        "1.4 Data types\n",
        "---"
      ],
      "metadata": {
        "id": "WMmwlGM-hbfY"
      }
    },
    {
      "cell_type": "markdown",
      "source": [
        "Description\n",
        "\n",
        "---\n",
        "Data types define the kind of values a variable can hold. The datatype of a variable is determined at runtime in Python. It supports many built-in data types, including numeric types like int, float, and complex for numbers; sequence types like str, list, and tuple for ordered collections; mapping type like dictionary or dict for key-value pairs; and set types like set and frozenset for unordered collections of unique elements. There are also Boolean type, bool, and NoneType for the absence of a value. Python allows you to create your own data type using classes. Understanding data types is essential for writing correct and efficient Python code, as different operations and methods apply to different types."
      ],
      "metadata": {
        "id": "Y7yT1GbLGoIB"
      }
    },
    {
      "cell_type": "markdown",
      "source": [
        "Note\n",
        "\n",
        "---\n",
        "The five primitive data types are *int, float, str, bool, and NoneType*. All other are types are non-primitive, including *lists, tuples, dictionary, set, file*, and etc. Python uses classes to define its data types, including its primitive types. These types are the foundation of all data structures and expressions in Python, and they are immutable, meaning that their values can not be changed after they are created."
      ],
      "metadata": {
        "id": "uhSo93D6R-M6"
      }
    },
    {
      "cell_type": "markdown",
      "source": [
        "Syntax\n",
        "\n",
        "---\n",
        "* Numeric Types:\t*int, float, complex*\n",
        "* Text Type: *str*\n",
        "* Boolean Type:\t*bool*\n",
        "* Sequence Types:\t*list, tuple, range*\n",
        "* Mapping Type:\t*dict*\n",
        "* Set Types:\t*set, frozenset*\n",
        "* Binary Types:\t*bytes, bytearray, memoryview*\n",
        "* None Type:\t*None*"
      ],
      "metadata": {
        "id": "vZjpDP7dYq5-"
      }
    },
    {
      "cell_type": "markdown",
      "source": [
        "Note\n",
        "\n",
        "---\n",
        "One can use the *type()* function to determine the data type of a variable."
      ],
      "metadata": {
        "id": "OjBePD9i_H8X"
      }
    },
    {
      "cell_type": "markdown",
      "source": [
        "Syntax\n",
        "\n",
        "---\n",
        "          type(myVariable)"
      ],
      "metadata": {
        "id": "00iSRq4O9aSz"
      }
    },
    {
      "cell_type": "markdown",
      "source": [
        "Examples\n",
        "\n",
        "---"
      ],
      "metadata": {
        "id": "oantEs0JUfLU"
      }
    },
    {
      "cell_type": "code",
      "source": [
        "# Using type function: type()\n",
        "\n",
        "myFirstVariable   = 23\n",
        "mySecondVariable  = 0.00036\n",
        "myThirdVariable   = 10+5j\n",
        "myFourthVariable  = True\n",
        "\n",
        "myFifthVariable   = \"Hello, World!\"\n",
        "mySixthVariable   = [0, 1, 2, 3, 4, 5, 6, 7, 8, 9]\n",
        "mySeventhVariable = (\"John\", \"Mikle\", \"Desbey\")\n",
        "\n",
        "myEighthVariable  = {\"Name\":\"John\", \"Age\":41, \"Occupation\":\"Doctor\"}\n",
        "\n",
        "myNinthVariable   = {\"apple\", \"banana\", \"cherry\"}\n",
        "\n",
        "myTenthVariable   = frozenset({\"apple\", \"banana\", \"cherry\"})\n",
        "\n",
        "myEleventhVariable   = b\"Hello\"\n",
        "myTwelvefthVariable  = bytearray(5)\n",
        "myThirteenthVariable = memoryview(bytes(5))\n",
        "\n",
        "myFourteenthVariable = None\n",
        "myFifteenthVariable  = range(12)\n",
        "\n",
        "print(type(myFirstVariable))\n",
        "print(type(mySecondVariable))\n",
        "print(type(myThirdVariable))\n",
        "print(type(myFourthVariable))\n",
        "print(type(myFifthVariable))\n",
        "print(type(mySixthVariable))\n",
        "print(type(mySeventhVariable))\n",
        "print(type(myEighthVariable))\n",
        "print(type(myNinthVariable))\n",
        "print(type(myTenthVariable))\n",
        "print(type(myEleventhVariable))\n",
        "print(type(myTwelvefthVariable))\n",
        "print(type(myThirteenthVariable))\n",
        "print(type(myFourteenthVariable))\n",
        "print(type(myFifteenthVariable))"
      ],
      "metadata": {
        "id": "jixgkK8OWZgi"
      },
      "execution_count": null,
      "outputs": []
    },
    {
      "cell_type": "markdown",
      "source": [
        "1.5 Literals\n",
        "---"
      ],
      "metadata": {
        "id": "XPbGZCHVTcR8"
      }
    },
    {
      "cell_type": "markdown",
      "source": [
        "Description\n",
        "\n",
        "---\n",
        "Literals are data that are assigned to the variables or constants when they are declared. In other words, it is a fixed value. There are five types of literals in Python: Numeric literals, Boolean literals, String literals, Collection literals, and Special literals. Literals are not the same as objects, but they create objects. Variables refer to or point to those objects. Python creates an object in memory to represent a literal, when a literal is assigned to a variable. Everything in Python is an object. In fact, every object in Python is an instance of a class."
      ],
      "metadata": {
        "id": "xsUNUx5zHCXe"
      }
    },
    {
      "cell_type": "markdown",
      "source": [
        "Note\n",
        "\n",
        "---\n",
        "\n",
        "Numeric literals:    *integer, float, complex*\n",
        "\n",
        "Boolean literals:    *True, False*\n",
        "\n",
        "String literals:     *text surrounded by single, double, or triple quotes*\n",
        "\n",
        "Collection literals: *List, Tuple, Dict, Set*\n",
        "\n",
        "Special literal:     *None*"
      ],
      "metadata": {
        "id": "wGU9gSJucIQl"
      }
    },
    {
      "cell_type": "markdown",
      "source": [
        "Syntax\n",
        "\n",
        "---\n",
        "\n",
        "          myVariable = literal"
      ],
      "metadata": {
        "id": "GUESbZptBw5H"
      }
    },
    {
      "cell_type": "markdown",
      "source": [
        "Examples\n",
        "\n",
        "---"
      ],
      "metadata": {
        "id": "Vu6WRXQIbYL8"
      }
    },
    {
      "cell_type": "code",
      "source": [
        "# Example of literals\n",
        "\n",
        "# Integer literal\n",
        "\n",
        "numLiteralInt = 0\n",
        "\n",
        "# Binary literal\n",
        "\n",
        "numLiteralBin = 0b10100\n",
        "\n",
        "# Decimal literal\n",
        "\n",
        "numLiteralDec = 50\n",
        "\n",
        "# Float literal\n",
        "\n",
        "numLiteralFloat = 234.8\n",
        "\n",
        "# Complex literal\n",
        "\n",
        "numLiteralComp = 2 + 3j\n",
        "\n",
        "# Boolean literal\n",
        "\n",
        "numLiteralBool = True\n",
        "\n",
        "# List listeral\n",
        "\n",
        "numLiteralList = [1,2,3]\n",
        "\n",
        "# Special literal\n",
        "\n",
        "numLiteralSpecial = None"
      ],
      "metadata": {
        "id": "jTJbFxhzVlJb"
      },
      "execution_count": null,
      "outputs": []
    },
    {
      "cell_type": "markdown",
      "source": [
        "Note\n",
        "\n",
        "---\n",
        "\n",
        "Literals are not the same as objects, but they create objects. Variables refer to or point to those objects. Everything in Python is an object. Python language creates an object in memory to represent the literal. The literal value is an object of a class. Each object is an instance of a class. Every value is an instance of a class. Each class defines the behavior of its instances."
      ],
      "metadata": {
        "id": "3odxGZvXnBm_"
      }
    },
    {
      "cell_type": "markdown",
      "source": [
        "1.6 Numbers\n",
        "---"
      ],
      "metadata": {
        "id": "pzwaES8qVO_z"
      }
    },
    {
      "cell_type": "markdown",
      "source": [
        "Description\n",
        "\n",
        "---\n",
        "Primary numeric data types in Python are integers, floating-point numbers, and complex numbers. Integers are whole numbers, no decimal point, no fractional part. They can be positive, nagative, or zero. They also have arbitrary precision, htey can grow as large as memory allows. Floating-point numbers are eal numbers with decimals, fractional parts. They follow the IEEE 754 (IEEE Standard for Floating-Point Arithmetic. IEEE STD 754-2019 pp. 1–84. ISBN 978-1-5044-5924-2) double-precision standard. Precision is limited about 15-17 decimal digits. Complex numbers represent numbers with real and imaginary part. The imaginary unit is written as j. These numbers are mostly used in mathimatical, engineering, and physical contexts."
      ],
      "metadata": {
        "id": "Wuyia5FYHhu-"
      }
    },
    {
      "cell_type": "markdown",
      "source": [
        "Syntax\n",
        "\n",
        "---\n",
        "          myVariable = numeric datatype"
      ],
      "metadata": {
        "id": "jutNzWei-Ai4"
      }
    },
    {
      "cell_type": "markdown",
      "source": [
        "Examples\n",
        "\n",
        "---"
      ],
      "metadata": {
        "id": "Ayr4Kj76bgj7"
      }
    },
    {
      "cell_type": "code",
      "source": [
        "# Integer\n",
        "myIntNumber = 1\n",
        "\n",
        "# Float\n",
        "myFloatNumber = 1.0\n",
        "\n",
        "# Complex\n",
        "myComplexNumber = 1.0j"
      ],
      "metadata": {
        "id": "d47Fr9E-dOgb"
      },
      "execution_count": null,
      "outputs": []
    },
    {
      "cell_type": "markdown",
      "source": [
        "Binary, octal, and hexadecimal numbers\n",
        "---"
      ],
      "metadata": {
        "id": "cGt6kilef_tk"
      }
    },
    {
      "cell_type": "markdown",
      "source": [
        "Description\n",
        "\n",
        "---\n",
        "In Python, you can work with *binary*, *octal*, and *hexadecimal* numbers using different prefixes and built-in functions. Here's how you can represent and work with these numeric bases."
      ],
      "metadata": {
        "id": "MomcgDlRH7PE"
      }
    },
    {
      "cell_type": "markdown",
      "source": [
        "Examples\n",
        "\n",
        "---"
      ],
      "metadata": {
        "id": "76xdEJHf4L-o"
      }
    },
    {
      "cell_type": "markdown",
      "source": [
        "**Binary (base 2)** can be represented by two digits [0,1] Base 2. The **bin()** function can be used to convert numbers to octal in Python. The prefix **‘0b’** is used with octal numbers with a zero followed by a lowercase **b**."
      ],
      "metadata": {
        "id": "eLpdZ1E4e2nq"
      }
    },
    {
      "cell_type": "code",
      "source": [
        "# Binary numbers uses bin()\n",
        "\n",
        "myFirstVariable  = 0b101 # The binary numbers start with 0b\n",
        "mySecondVariable = 5\n",
        "\n",
        "print(myFirstVariable)\n",
        "print(mySecondVariable)"
      ],
      "metadata": {
        "id": "iwhNYh20YtCN"
      },
      "execution_count": null,
      "outputs": []
    },
    {
      "cell_type": "markdown",
      "source": [
        "**Octal (Base 8)** — can be represented by 8 digits [0–7] Base 8. The **oct()** function can be used to convert numbers to octal in Python. The prefix **‘0o’** is used with octal numbers with a zero followed by a lowercase **o**."
      ],
      "metadata": {
        "id": "723mcHbpfMDh"
      }
    },
    {
      "cell_type": "code",
      "source": [
        "# Octal numbers use oct()\n",
        "\n",
        "myFirstVariable  = 0o05    # The octal numbers start with \"0o\"\n",
        "mySecondVariable = 5\n",
        "\n",
        "print(myFirstVariable)\n",
        "print(mySecondVariable)"
      ],
      "metadata": {
        "id": "zuBmZkUzdAAT"
      },
      "execution_count": null,
      "outputs": []
    },
    {
      "cell_type": "markdown",
      "source": [
        "**Hexadecimal (Base 16)** — can be represented by 10 digits [0–9] and 6 characters [A, B, C, D, E, F] Base 16. Where A is ten, B is eleven, C is twelve, D is thirteen, E is fourteen, and F is fifteen. The **hex()** function can be used to convert numbers to hexadecimal in Python. The prefix **‘0x’** is used with octal numbers with a zero followed by a lowercase **x**."
      ],
      "metadata": {
        "id": "6VG8LTuzg2bZ"
      }
    },
    {
      "cell_type": "code",
      "source": [
        "# Hexadecimal numbers uses hex()\n",
        "\n",
        "myFirstVariable  = 0x5 # The hexadecimal numbers start with \"0x\"\n",
        "mySecondVariable = 5\n",
        "\n",
        "print(myFirstVariable)\n",
        "print(mySecondVariable)"
      ],
      "metadata": {
        "id": "UebpCLJ0cUdB"
      },
      "execution_count": null,
      "outputs": []
    },
    {
      "cell_type": "markdown",
      "source": [
        "1.7 Casting\n",
        "---"
      ],
      "metadata": {
        "id": "ui1wtk7V1BaN"
      }
    },
    {
      "cell_type": "markdown",
      "source": [
        "Description\n",
        "\n",
        "---\n",
        "Casting refers to the process of converting a value from one data type to another. This is useful when you need to perform operations that require a specific type. There can be implicit conversions or explicit conversions using built-in functions. Explicit conversions can be performed with built-in functions like int(), float(), or str() as they act like constructors of different data types."
      ],
      "metadata": {
        "id": "NmM1JSHwIPw2"
      }
    },
    {
      "cell_type": "markdown",
      "source": [
        "Syntax\n",
        "\n",
        "---\n",
        "          myVariable = function(VariableName)"
      ],
      "metadata": {
        "id": "ZexMWVWl_1e5"
      }
    },
    {
      "cell_type": "markdown",
      "source": [
        "Examples\n",
        "\n",
        "---"
      ],
      "metadata": {
        "id": "pdRLy1yIbyzE"
      }
    },
    {
      "cell_type": "code",
      "source": [
        "# Implicit conversion\n",
        "\n",
        "myCastTest = 70\n",
        "print(type(myCastTest))\n",
        "\n",
        "myCastTest = myCastTest + 0.25\n",
        "print(type(myCastTest))"
      ],
      "metadata": {
        "id": "lYMEftsE15Ic"
      },
      "execution_count": null,
      "outputs": []
    },
    {
      "cell_type": "code",
      "source": [
        "# Explicit conversion\n",
        "\n",
        "myCastNumber = 7234\n",
        "myCastString = str(myCastNumber)\n",
        "myCastFloat  = float(myCastNumber)\n",
        "\n",
        "print(type(myCastNumber))\n",
        "print(type(myCastString))\n",
        "print(type(myCastFloat))"
      ],
      "metadata": {
        "id": "mY6UxcSF21mR"
      },
      "execution_count": null,
      "outputs": []
    },
    {
      "cell_type": "code",
      "source": [
        "# Using casting to specify the data type\n",
        "\n",
        "x = 5\n",
        "y = 2\n",
        "\n",
        "myFirstVariable  = complex(2 + 9)\n",
        "mySecondVariable = complex( x )\n",
        "myThirdVariable  = complex( x, y )\n",
        "\n",
        "print(\"My complex number \", myFirstVariable )\n",
        "print(\"My complex number \", mySecondVariable)\n",
        "print(\"My complex number \", myThirdVariable )"
      ],
      "metadata": {
        "id": "uLUf9O_vTkxd"
      },
      "execution_count": null,
      "outputs": []
    },
    {
      "cell_type": "markdown",
      "source": [
        "1.8 Boolean\n",
        "---"
      ],
      "metadata": {
        "id": "w3eG246wLZ2Q"
      }
    },
    {
      "cell_type": "markdown",
      "source": [
        "Description\n",
        "\n",
        "---\n",
        "Booleans can be either True or False. True corresponds to the value of 1 and False corresponds to the value of 0. Please, keep in mind that **True** is not the same as **TRUE** or **true**. Similarly, **False** is not the same as **FALSE** or **false**. Booleans are often used in conditionals, comparisons, and logical operations."
      ],
      "metadata": {
        "id": "ctg7EDHBIj7Q"
      }
    },
    {
      "cell_type": "markdown",
      "source": [
        "Syntax\n",
        "\n",
        "---\n",
        "          myVariable = Boolean value"
      ],
      "metadata": {
        "id": "ivGLT7RIIvd4"
      }
    },
    {
      "cell_type": "markdown",
      "source": [
        "Examples\n",
        "\n",
        "---"
      ],
      "metadata": {
        "id": "R-qbbh1pb3mz"
      }
    },
    {
      "cell_type": "code",
      "source": [
        "# Boolean\n",
        "\n",
        "print(True)\n",
        "print(False)"
      ],
      "metadata": {
        "id": "XVftY_1d4z51"
      },
      "execution_count": null,
      "outputs": []
    },
    {
      "cell_type": "code",
      "source": [
        "# Casting of boolean\n",
        "\n",
        "print(int(True))\n",
        "print(int(False))"
      ],
      "metadata": {
        "id": "Xzbzux7D5V3p"
      },
      "execution_count": null,
      "outputs": []
    },
    {
      "cell_type": "code",
      "source": [
        "# Boolean + number example\n",
        "\n",
        "print(True + 1)\n",
        "print(False + 1)"
      ],
      "metadata": {
        "id": "KqMMGcRhjj99"
      },
      "execution_count": null,
      "outputs": []
    },
    {
      "cell_type": "code",
      "source": [
        "# Boolean == number\n",
        "\n",
        "print(True == 1)\n",
        "print(False == 0)"
      ],
      "metadata": {
        "id": "6XWESFURj04z"
      },
      "execution_count": null,
      "outputs": []
    },
    {
      "cell_type": "markdown",
      "source": [
        "\n",
        "1.9 Strings\n",
        "---"
      ],
      "metadata": {
        "id": "J1qJwmTj40sQ"
      }
    },
    {
      "cell_type": "markdown",
      "source": [
        "Description\n",
        "\n",
        "---\n",
        "Strings are an immutable collection of alphanumeric characters that are enclosed with single or double quotes. Strings literals can not be changed after they have been created. A double-quoted string literal may contain single quotes. Characters within a string can be accessed using indexing reference values starting with zero. If the reference index is out of range, Python will raise an IndexError. To access a range of characters, you can use slicing. You can indicate the start index and the end index enclosed with square brackets to access a range of characters as shown below."
      ],
      "metadata": {
        "id": "uzTJv6kgCiM3"
      }
    },
    {
      "cell_type": "markdown",
      "source": [
        "Syntax\n",
        "\n",
        "---\n",
        "\n",
        "          myString = \"Lorem ...\""
      ],
      "metadata": {
        "id": "zKmrBz0y827D"
      }
    },
    {
      "cell_type": "markdown",
      "source": [
        "Examples\n",
        "\n",
        "---"
      ],
      "metadata": {
        "id": "dw9pfuODb6xe"
      }
    },
    {
      "cell_type": "code",
      "source": [
        "# Assign string to a variable using single quotes\n",
        "\n",
        "myFirstString = 'This is my first string'\n",
        "print(myFirstString)"
      ],
      "metadata": {
        "id": "4eNwO4Uk5SOg"
      },
      "execution_count": null,
      "outputs": []
    },
    {
      "cell_type": "code",
      "source": [
        "# Assign string to a variable using double quotes\n",
        "\n",
        "mySecondString = \"This is my second string\"\n",
        "print(mySecondString)"
      ],
      "metadata": {
        "id": "_g1SyRCS5ee2"
      },
      "execution_count": null,
      "outputs": []
    },
    {
      "cell_type": "code",
      "source": [
        "# Assign string to a variable using single and double quotes\n",
        "\n",
        "myThirdString = \"This's my third string\"\n",
        "print(myThirdString)"
      ],
      "metadata": {
        "id": "z3uhsXjW5pJj"
      },
      "execution_count": null,
      "outputs": []
    },
    {
      "cell_type": "code",
      "source": [
        "# Assign string to a variable using single quotes\n",
        "\n",
        "myFourthString = 'That's my fourth string'"
      ],
      "metadata": {
        "id": "L0XxJ4Sz5-yS"
      },
      "execution_count": null,
      "outputs": []
    },
    {
      "cell_type": "code",
      "source": [
        "# Escaping sequence - you can have more than one escaping character\n",
        "\n",
        "myFourthString = 'That\\'s my fourth string'\n",
        "print(myFourthString)"
      ],
      "metadata": {
        "id": "JqibuLeAUR1_"
      },
      "execution_count": null,
      "outputs": []
    },
    {
      "cell_type": "code",
      "source": [
        "# Printing the backslash\n",
        "\n",
        "myBackSlash = \"\\\\\"\n",
        "print(myBackSlash)"
      ],
      "metadata": {
        "id": "h6929nAUVfOp"
      },
      "execution_count": null,
      "outputs": []
    },
    {
      "cell_type": "code",
      "source": [
        "# Assign string to a variable using double quotes with single quotes inside\n",
        "\n",
        "myFifthString = \"I'm an instructor and you're a good student!\"\n",
        "print(myFifthString)"
      ],
      "metadata": {
        "id": "4DNHOVVkTJLD"
      },
      "execution_count": null,
      "outputs": []
    },
    {
      "cell_type": "code",
      "source": [
        "# Assign a multiple line string to a variable - single quotes\n",
        "\n",
        "myTestVariable = ''' Lorem ipsum dolor sit amet,\n",
        "consectetur adipiscing elit,\n",
        "sed do eiusmod tempor incididunt\n",
        "ut labore et dolore magna aliqua.'''\n",
        "\n",
        "print(myTestVariable)"
      ],
      "metadata": {
        "id": "oB6SzZ4phtlO"
      },
      "execution_count": null,
      "outputs": []
    },
    {
      "cell_type": "code",
      "source": [
        "# Assign a multiple line string to a variable - double quotes\n",
        "\n",
        "myTestVariable = \"\"\" Lorem ipsum dolor sit amet,\n",
        "consectetur adipiscing elit,\n",
        "sed do eiusmod tempor incididunt\n",
        "ut labore et dolore magna aliqua.\"\"\"\n",
        "\n",
        "print(myTestVariable)"
      ],
      "metadata": {
        "id": "QOwBfXwLhlcl"
      },
      "execution_count": null,
      "outputs": []
    },
    {
      "cell_type": "markdown",
      "source": [
        "String indexing\n",
        "---"
      ],
      "metadata": {
        "id": "6tczVnHv6dGx"
      }
    },
    {
      "cell_type": "markdown",
      "source": [
        "Description\n",
        "\n",
        "---\n",
        "Indexing is an important concept. Each character of a string has a unique index number. To access any characters of a string, we need to use the corresponding index number. Indexing of a string is the same as for a list, tuple, and dictionary but not a set. Sets are not indexed. The element of a string can be accessed using an index starting with 0."
      ],
      "metadata": {
        "id": "oHgvHx86JLna"
      }
    },
    {
      "cell_type": "markdown",
      "source": [
        "Syntax\n",
        "\n",
        "---\n",
        "          myString[index]"
      ],
      "metadata": {
        "id": "9Z64MPuDJYdp"
      }
    },
    {
      "cell_type": "markdown",
      "source": [
        "Examples\n",
        "\n",
        "---"
      ],
      "metadata": {
        "id": "cQy0x_aWb_BM"
      }
    },
    {
      "cell_type": "code",
      "source": [
        "# Strings elements can be accessed by their index\n",
        "\n",
        "# The indexes\n",
        "# myTestString   =   [1,  2,  3,  4,  5,  6,  7,  8,  9, ..., 26]\n",
        "# --------------------------\n",
        "# index               0,  1,  2,  3,  4,  5,  6,  7,  8, ..., n-1\n",
        "# negative index     -n,                                 ...,  -1\n",
        "# myTestString[index]\n",
        "\n",
        "myTestString=\"Lorem ipsum dolor sit amet\"\n",
        "\n",
        "print(myTestString[4])\n",
        "print(myTestString[5])\n",
        "print(myTestString[6])\n",
        "print(myTestString[18])\n",
        "print(myTestString[-1])\n",
        "print(myTestString[-26])\n",
        "print(len(myTestString))"
      ],
      "metadata": {
        "id": "QZAktJJks_ix"
      },
      "execution_count": null,
      "outputs": []
    },
    {
      "cell_type": "markdown",
      "source": [
        "String slicing\n",
        "---"
      ],
      "metadata": {
        "id": "y9bRmLFBOrHv"
      }
    },
    {
      "cell_type": "markdown",
      "source": [
        "Description\n",
        "\n",
        "---\n",
        "The slicing technique allows one to access a range of characters in a string. The range of characters can be indicated by a start index number and an end index number in square brackets. The start index number has always an inclusive bound and the end index number has always an exclusive bound. In other words, the start index number is included in the range and the end index number is not."
      ],
      "metadata": {
        "id": "GJasUK8LJvYm"
      }
    },
    {
      "cell_type": "markdown",
      "source": [
        "Syntax\n",
        "\n",
        "---\n",
        "          myString[start index: end index: step]"
      ],
      "metadata": {
        "id": "0ikq0NeqJ6N3"
      }
    },
    {
      "cell_type": "markdown",
      "source": [
        "Examples\n",
        "\n",
        "---"
      ],
      "metadata": {
        "id": "2gF1Bl6KcDL1"
      }
    },
    {
      "cell_type": "code",
      "source": [
        "# Strings elements can be accessed by index\n",
        "\n",
        "# The indexes\n",
        "# myTestString   =   [1,  2,  3,  4,  5,  6,  7,  8,  9, ..., 26]\n",
        "# --------------------------\n",
        "# index               0,  1,  2,  3,  4,  5,  6,  7,  8, ..., n-1\n",
        "# negative index     -n,                                 ...,  -1\n",
        "# myTestString[start index: end index]\n",
        "\n",
        "myTestString=\"Lorem ipsum dolor sit amet\"\n",
        "\n",
        "print(myTestString[:4])\n",
        "print(myTestString[0:5])\n",
        "print(myTestString[0:6])\n",
        "print(myTestString[0:18])\n",
        "print(myTestString[-12:-1])\n",
        "print(myTestString[-26:-25])\n",
        "print(len(myTestString))"
      ],
      "metadata": {
        "id": "3pb2hOAUP8Fv"
      },
      "execution_count": null,
      "outputs": []
    },
    {
      "cell_type": "markdown",
      "source": [
        "String methods\n",
        "---"
      ],
      "metadata": {
        "id": "qAAUwj_l9kBL"
      }
    },
    {
      "cell_type": "markdown",
      "source": [
        "Description\n",
        "\n",
        "---\n",
        "String are one of the most commonly used data types in Python. To help you work woth them efficiently, Pyhton provides many built-in methods that allow you to perform a variety of operations on string values. Here are some widely used string methods with examples."
      ],
      "metadata": {
        "id": "ZdeQGULSKOsr"
      }
    },
    {
      "cell_type": "markdown",
      "source": [
        "Syntax\n",
        "\n",
        "---\n",
        "          myString.method()"
      ],
      "metadata": {
        "id": "I2iLOQqg7xk1"
      }
    },
    {
      "cell_type": "markdown",
      "source": [
        "Examples\n",
        "\n",
        "---"
      ],
      "metadata": {
        "id": "yhSXWcjicHgF"
      }
    },
    {
      "cell_type": "code",
      "source": [
        "# Upper case method: upper() - returns an upper case string\n",
        "\n",
        "myFirstString = \"Hello, World!\"\n",
        "print(myFirstString.upper())"
      ],
      "metadata": {
        "id": "Pphb8Rg79sPt"
      },
      "execution_count": null,
      "outputs": []
    },
    {
      "cell_type": "code",
      "source": [
        "# Lower case method: lower() - returns a lower case string\n",
        "\n",
        "myFirstString = \"Hello, World!\"\n",
        "print(myFirstString.lower())"
      ],
      "metadata": {
        "id": "snzVeBzj-r27"
      },
      "execution_count": null,
      "outputs": []
    },
    {
      "cell_type": "code",
      "source": [
        "# Strip method: strip() - removes whitespace before and after the actual text\n",
        "\n",
        "myFirstString = \" Hello, World ! \"\n",
        "print(myFirstString.strip())"
      ],
      "metadata": {
        "id": "dxFZlBy0-3BU"
      },
      "execution_count": null,
      "outputs": []
    },
    {
      "cell_type": "code",
      "source": [
        "# Replace method: replace() - replaces a string with another string\n",
        "\n",
        "myFirstString = \"Hello, World!\"\n",
        "print(myFirstString.replace(\"Hello\", \"Good morning\"))"
      ],
      "metadata": {
        "id": "k_peXrJq_e4c"
      },
      "execution_count": null,
      "outputs": []
    },
    {
      "cell_type": "code",
      "source": [
        "# Split method: split() - returns a list with the specified separator\n",
        "\n",
        "myFirstString = \"Good morning, World!\"\n",
        "\n",
        "print(myFirstString.split())"
      ],
      "metadata": {
        "id": "_dFtnebS_2rN"
      },
      "execution_count": null,
      "outputs": []
    },
    {
      "cell_type": "code",
      "source": [
        "# Split and replace methods together: split() and replace()\n",
        "\n",
        "myFirstString = \"Good morning, World!\"\n",
        "\n",
        "myFirstString = myFirstString.replace(',','')\n",
        "\n",
        "print(myFirstString.strip())"
      ],
      "metadata": {
        "id": "7NGHN2rSJdR0"
      },
      "execution_count": null,
      "outputs": []
    },
    {
      "cell_type": "markdown",
      "source": [
        "String operations\n",
        "---"
      ],
      "metadata": {
        "id": "DvltvXr_7odu"
      }
    },
    {
      "cell_type": "markdown",
      "source": [
        "Description\n",
        "\n",
        "---\n",
        "Some basic operations can be performed on strings. These operations include concatenation (+), repetition (*), indexing ([]), slicing ([:]), and checking membership (in). These operations allow you to combine, repeat, access, and manipulate parts of a string efficiently in Python."
      ],
      "metadata": {
        "id": "JmC6zZoTKjn-"
      }
    },
    {
      "cell_type": "markdown",
      "source": [
        "Syntax\n",
        "\n",
        "---\n",
        "          See examples below."
      ],
      "metadata": {
        "id": "xq1bmJ-F6z87"
      }
    },
    {
      "cell_type": "markdown",
      "source": [
        "Examples\n",
        "\n",
        "---"
      ],
      "metadata": {
        "id": "9FCXi3TNdJLz"
      }
    },
    {
      "cell_type": "code",
      "source": [
        "# Strings are immutable\n",
        "\n",
        "myFirstString = \"Hello, World!\"\n",
        "myFirstString[0] = \"G\""
      ],
      "metadata": {
        "id": "5gZp8fgHaH_o"
      },
      "execution_count": null,
      "outputs": []
    },
    {
      "cell_type": "code",
      "source": [
        "# String concatenation\n",
        "\n",
        "myFirstString  = \"Hello\"\n",
        "mySecondString = \"World!\"\n",
        "\n",
        "print (myFirstString + mySecondString)"
      ],
      "metadata": {
        "id": "IiPjvudO7_GI"
      },
      "execution_count": null,
      "outputs": []
    },
    {
      "cell_type": "code",
      "source": [
        "# String concatenation\n",
        "\n",
        "myFirstString  = \"Hello\"\n",
        "mySecondString = \"World\"\n",
        "\n",
        "print (myFirstString, mySecondString, sep=\", \", end = \"!\")"
      ],
      "metadata": {
        "id": "2uN3uIKy8ZMN"
      },
      "execution_count": null,
      "outputs": []
    },
    {
      "cell_type": "code",
      "source": [
        "# String multiplication\n",
        "\n",
        "myStarString  = \"*\"\n",
        "mySmileString = \")\"\n",
        "\n",
        "print (myStarString * 2)\n",
        "print (myStarString * 4)\n",
        "print (myStarString * 6 + \" \" + mySmileString)\n"
      ],
      "metadata": {
        "id": "0qYophhd8vEf"
      },
      "execution_count": null,
      "outputs": []
    },
    {
      "cell_type": "code",
      "source": [
        "# String indexing\n",
        "\n",
        "myTestString=\"Lorem ipsum dolor sit amet\"\n",
        "\n",
        "print(myTestString[4])\n",
        "print(myTestString[5])\n",
        "print(myTestString[6])\n",
        "print(myTestString[18])\n",
        "print(myTestString[-1])"
      ],
      "metadata": {
        "id": "wg9JyDu_eah-"
      },
      "execution_count": null,
      "outputs": []
    },
    {
      "cell_type": "code",
      "source": [
        "# String slicing\n",
        "\n",
        "myTestString=\"Lorem ipsum dolor sit amet\"\n",
        "\n",
        "print(myTestString[:4])\n",
        "print(myTestString[0:5])\n",
        "print(myTestString[0:6])\n",
        "print(myTestString[0:18])"
      ],
      "metadata": {
        "id": "XEQCru6Oe358"
      },
      "execution_count": null,
      "outputs": []
    },
    {
      "cell_type": "code",
      "source": [
        "# String membership\n",
        "\n",
        "myTestString=\"Lorem ipsum dolor sit amet\"\n",
        "\n",
        "print(\"Lorem\" in myTestString)\n",
        "print(\"lorem\" in myTestString)"
      ],
      "metadata": {
        "id": "fnMU6-KnfL5E"
      },
      "execution_count": null,
      "outputs": []
    },
    {
      "cell_type": "markdown",
      "source": [
        "# Section 2: Operators\n",
        "\n",
        "2.1 Arithmetic operators\n",
        "\n",
        "2.2 Comparison operators\n",
        "\n",
        "2.3 Logical operators\n",
        "\n",
        "2.4 Bitwise operators\n",
        "\n",
        "2.5 Identity operators\n",
        "\n",
        "2.6 Membership operators\n",
        "\n",
        "2.7 Operator precedence"
      ],
      "metadata": {
        "id": "Tl3Mp1dVVvQf"
      }
    },
    {
      "cell_type": "markdown",
      "source": [
        "2.1 Arithmetic operators\n",
        "---"
      ],
      "metadata": {
        "id": "RL1xNU8wkmfW"
      }
    },
    {
      "cell_type": "markdown",
      "source": [
        "Description\n",
        "\n",
        "---\n",
        "Arithmetic operators in Python are used to perform basic mathematical operations. The primary operators include addition (+), subtraction (-), multiplication ( * ), exponentiation ( ** ), division (/), modulus (%), and floor division (//). Please keep in mind that division operator (/) always returns a float. Modulus operator (%) returns the remainder of a division. Floor division (//) returns the largest integer less than or equal to the result. These operators work with integers, floats, and even with complex numbers."
      ],
      "metadata": {
        "id": "wvUD0fWYXD3o"
      }
    },
    {
      "cell_type": "markdown",
      "source": [
        "Syntax\n",
        "\n",
        "---\n",
        "* Addition:\t                x   +   y\n",
        "* Subtraction:\t            x   -   y\n",
        "*\tMultiplication:\t          x   *   y\n",
        "* Exponentiation:\t          x   **  y\n",
        "* Division:\t                x   /   y\n",
        "* Modulus:\t                x   %   y\n",
        "* Floor division:\t          x   //  y   "
      ],
      "metadata": {
        "id": "LaQdK7YUWQgj"
      }
    },
    {
      "cell_type": "markdown",
      "source": [
        "Examples\n",
        "\n",
        "---"
      ],
      "metadata": {
        "id": "45UokmtUxXAu"
      }
    },
    {
      "cell_type": "code",
      "source": [
        "# Exponentiation operator: **\n",
        "\n",
        "myFirstVariable  = 2\n",
        "mySecondVariable = 8\n",
        "\n",
        "myExponentResult = myFirstVariable ** mySecondVariable\n",
        "\n",
        "print(myExponentResult)"
      ],
      "metadata": {
        "id": "sDpmZxnn9n9L"
      },
      "execution_count": null,
      "outputs": []
    },
    {
      "cell_type": "code",
      "source": [
        "# Division operator: /     (will always result in float type)\n",
        "\n",
        "myFirstVariable  = 8\n",
        "mySecondVariable = 2\n",
        "\n",
        "myDivisionResult = myFirstVariable / mySecondVariable\n",
        "\n",
        "print(myDivisionResult)"
      ],
      "metadata": {
        "id": "pn9rlk7Djybh"
      },
      "execution_count": null,
      "outputs": []
    },
    {
      "cell_type": "code",
      "source": [
        "# Floor division operator: //       quotient = (dividend // divisor)\n",
        "#                          quotient = (   10    //    3   )\n",
        "\n",
        "myFirstVariable  =  10\n",
        "mySecondVariable =   3\n",
        "\n",
        "myFloorResult = myFirstVariable // mySecondVariable\n",
        "\n",
        "print(myFloorResult)"
      ],
      "metadata": {
        "id": "gMw0cZzA40M4"
      },
      "execution_count": null,
      "outputs": []
    },
    {
      "cell_type": "code",
      "source": [
        "# Floor division operator: //       quotient = -ceil(-dividend / divisor)\n",
        "#                          quotient = -ceil(-( -10  ) /    3   )\n",
        "#                          quotient = -ceil(          4        )\n",
        "\n",
        "myFirstVariable  = -10\n",
        "mySecondVariable =   3\n",
        "\n",
        "myFloorResult = myFirstVariable // mySecondVariable\n",
        "\n",
        "print(myFloorResult)"
      ],
      "metadata": {
        "id": "cAV_0TlX1Sf-"
      },
      "execution_count": null,
      "outputs": []
    },
    {
      "cell_type": "code",
      "source": [
        "# Floor division operator: //       quotient =  (dividend // divisor)\n",
        "#                          quotient =  (  10     //   -3   )\n",
        "#                          quotient =  (         -4        )\n",
        "\n",
        "myFirstVariable  =  10\n",
        "mySecondVariable =  -3\n",
        "\n",
        "myFloorResult = myFirstVariable // mySecondVariable\n",
        "\n",
        "print(myFloorResult)"
      ],
      "metadata": {
        "id": "lD27nSdN3p9J"
      },
      "execution_count": null,
      "outputs": []
    },
    {
      "cell_type": "code",
      "source": [
        "# Modulus operator: %  reminder = dividend - (divisor * quotient)\n",
        "#                      reminder =    8     - (   2    *    4    )\n",
        "#                      reminder =    0\n",
        "\n",
        "myFirstVariable  = 8\n",
        "mySecondVariable = 2\n",
        "\n",
        "myModulusResult = myFirstVariable % mySecondVariable\n",
        "\n",
        "print(myModulusResult)"
      ],
      "metadata": {
        "id": "PAhvqSOC4d5X"
      },
      "execution_count": null,
      "outputs": []
    },
    {
      "cell_type": "code",
      "source": [
        "# Modulus operator: %  reminder = dividend - (divisor * (dividend // divisor))\n",
        "#                      reminder =   -10    - (   3    * (   -10   //   3    ))\n",
        "#                      reminder =   -10    - (   3    * (         -4        ))\n",
        "#                      reminder =     2\n",
        "\n",
        "myFirstVariable  = -10\n",
        "mySecondVariable =   3\n",
        "\n",
        "myModulusResult = myFirstVariable % mySecondVariable\n",
        "\n",
        "print(myModulusResult)"
      ],
      "metadata": {
        "id": "qXEFr1Grwall"
      },
      "execution_count": null,
      "outputs": []
    },
    {
      "cell_type": "code",
      "source": [
        "# Modulus operator: %  reminder = dividend - (divisor * (dividend // divisor))\n",
        "#                      reminder =   -10    - (  -3    * (   -10   //   -3   ))\n",
        "#                      reminder =   -10    - (  -3    * (          3        ))\n",
        "#                      reminder =    -1\n",
        "\n",
        "myFirstVariable  = -10\n",
        "mySecondVariable =  -3\n",
        "\n",
        "myModulusResult = myFirstVariable % mySecondVariable\n",
        "\n",
        "print(myModulusResult)"
      ],
      "metadata": {
        "id": "RTwph5j_yAnx"
      },
      "execution_count": null,
      "outputs": []
    },
    {
      "cell_type": "code",
      "source": [
        "# You can add, subtract, multiply, and divide complex numbers\n",
        "# z1 = a + bj\n",
        "# z2 = c + dj\n",
        "#\n",
        "# z1 + z2 =  (a + c) + (b + d)j\n",
        "# z1 - z2 =  (a - c) + (b - d)j\n",
        "# z1 * z2 =  (a*c - b*d) + (a*d + b*c)j\n",
        "# z1 / z2 = [(a*c + b*d) / (c*c + d*d)] + [(b*c - a*d)/(c*c + d*d)]j\n",
        "\n",
        "z1 = 3 + 4j\n",
        "z2 = 1 + 5j\n",
        "\n",
        "print(\"Addition :\", z1 + z2 )\n",
        "print(\"Subtract :\", z1 - z2 )\n",
        "print(\"Multiply :\", z1 * z2 )\n",
        "print(\"Divide :\"  , z1 / z2 )"
      ],
      "metadata": {
        "id": "9SQ61J0VRuCX"
      },
      "execution_count": null,
      "outputs": []
    },
    {
      "cell_type": "markdown",
      "source": [
        "Assignment operators\n",
        "---"
      ],
      "metadata": {
        "id": "QvjMM-n7jVuT"
      }
    },
    {
      "cell_type": "markdown",
      "source": [
        "Description\n",
        "\n",
        "---\n",
        "Assignment operators are used to assign values to variables. Mathematical operations can be performed while assining. The basic assignment operator is  (=), which assignes the value on the right to the variable on the left. Python language also supports compound assignment operators that combine assignment with arithmetic or bitwise operations. These shorthand assignemnt operators include add and assign (+=) operator, subtruct and assign (-=) operator, multiply and assign ( *=) operator, divide and assign (/=) operator, floor divide and assign (//=) operator, modulus and assign (%=) operator, exponentiate and assign ( * *=) operator, and assignment expression (:=)operator."
      ],
      "metadata": {
        "id": "plClOw_qXRGd"
      }
    },
    {
      "cell_type": "markdown",
      "source": [
        "Syntax\n",
        "\n",
        "---\n",
        "* Assignment:\t                x   =  y\n",
        "* Add and assign:\t            x  +=  y\n",
        "*\tSubtract and assign:\t      x  -=  y\n",
        "* Multiply and assign:\t      x  *=  y\n",
        "* Divide and assign:\t        x  /=  y\n",
        "* Floor divide and assign:\t  x //=  y\n",
        "* Modulus and assign:\t        x  %=  y   \n",
        "* Exponentiate and assign:    x **=  y"
      ],
      "metadata": {
        "id": "n8PRD3ABXY4d"
      }
    },
    {
      "cell_type": "markdown",
      "source": [
        "Examples\n",
        "\n",
        "---"
      ],
      "metadata": {
        "id": "mQHmnU28xdsl"
      }
    },
    {
      "cell_type": "code",
      "source": [
        "# Assignment operator: =\n",
        "\n",
        "myFirstVariable  = 5\n",
        "\n",
        "myTestVariable = myFirstVariable\n",
        "\n",
        "print(myTestVariable)"
      ],
      "metadata": {
        "id": "43hdLurcjIu_"
      },
      "execution_count": null,
      "outputs": []
    },
    {
      "cell_type": "code",
      "source": [
        "# Assignment operator: +=\n",
        "\n",
        "myFirstVariable = 5\n",
        "\n",
        "myFirstVariable += 30          # myFirstVariable = myFirstVariable + 30\n",
        "\n",
        "print(myFirstVariable)"
      ],
      "metadata": {
        "id": "xbBsUBMXjCO3"
      },
      "execution_count": null,
      "outputs": []
    },
    {
      "cell_type": "code",
      "source": [
        "# Assignment operator: *=\n",
        "\n",
        "myFirstVariable = 3\n",
        "\n",
        "myFirstVariable *= 30          # myFirstVariable = myFirstVariable * 30\n",
        "\n",
        "print(myFirstVariable)"
      ],
      "metadata": {
        "id": "XAxvRhIgjO7-"
      },
      "execution_count": null,
      "outputs": []
    },
    {
      "cell_type": "code",
      "source": [
        "# Assignment operator: /=\n",
        "\n",
        "myFirstVariable = 6\n",
        "\n",
        "myFirstVariable /= 4.0         # myFirstVariable = myFirstVariable / 4.0\n",
        "\n",
        "print(myFirstVariable)"
      ],
      "metadata": {
        "id": "ulRZn5q8jqa7"
      },
      "execution_count": null,
      "outputs": []
    },
    {
      "cell_type": "code",
      "source": [
        "# Assignment operator: //=  (divident //= divisor = quotient returns a quotient)\n",
        "\n",
        "myFirstVariable = 13\n",
        "\n",
        "myFirstVariable //= 4          # myFirstVariable = myFirstVariable // 4\n",
        "\n",
        "print(myFirstVariable)"
      ],
      "metadata": {
        "id": "Uifrcwskvd9p"
      },
      "execution_count": null,
      "outputs": []
    },
    {
      "cell_type": "code",
      "source": [
        "# Assignment operator:  %=  (divident %= divisor = quotient returns a remainder)\n",
        "\n",
        "myFirstVariable = 6\n",
        "\n",
        "myFirstVariable %= 4          # myFirstVariable = myFirstVariable % 4\n",
        "\n",
        "print(myFirstVariable)"
      ],
      "metadata": {
        "id": "zst5H8ZMkIT-"
      },
      "execution_count": null,
      "outputs": []
    },
    {
      "cell_type": "code",
      "source": [
        "# Assignment operator: **=\n",
        "\n",
        "myFirstVariable = 2\n",
        "\n",
        "myFirstVariable **= 8          # myFirstVariable = myFirstVariable ** 4\n",
        "\n",
        "print(myFirstVariable)"
      ],
      "metadata": {
        "id": "504BnBHsCF5X"
      },
      "execution_count": null,
      "outputs": []
    },
    {
      "cell_type": "markdown",
      "source": [
        "Note\n",
        "\n",
        "---\n",
        "Assignment syntax operator ( := ) reminds a walrus with tusks - the Walrus operator. It is very useful for *if*, *while* conditional statements, *list comprehensions*, for *filtering* and *mapping* will be discussed below. You can assign a value to a variable and use that value within an expression. The walrus operator (:=) was introduced in Python 3.8 and allows assignemnt and return of a value in a single expression. Please, see Section 4, Control flow."
      ],
      "metadata": {
        "id": "9QOD8wzZa332"
      }
    },
    {
      "cell_type": "markdown",
      "source": [
        "Syntax\n",
        "\n",
        "---\n",
        "        myVariable := expression"
      ],
      "metadata": {
        "id": "uqt-HpjGagcr"
      }
    },
    {
      "cell_type": "markdown",
      "source": [
        "Examples\n",
        "\n",
        "---"
      ],
      "metadata": {
        "id": "yY55nxmYay-P"
      }
    },
    {
      "cell_type": "code",
      "source": [
        "# Usual way\n",
        "\n",
        "myVariable = input(\"Enter your name: \")\n",
        "print(f\"Hello, {myVariable}\")"
      ],
      "metadata": {
        "id": "Zn5ZYRnFa2Al"
      },
      "execution_count": null,
      "outputs": []
    },
    {
      "cell_type": "code",
      "source": [
        "# Using Walrus operator\n",
        "\n",
        "if (myVariable := input(\"Enter your name: \")) != \"\":\n",
        "  print(f\"Hello, {myVariable}\")"
      ],
      "metadata": {
        "id": "SmskSQZ4bKkT"
      },
      "execution_count": null,
      "outputs": []
    },
    {
      "cell_type": "markdown",
      "source": [
        "2.2 Comparison operators\n",
        "---"
      ],
      "metadata": {
        "id": "MCHjIC-foBxE"
      }
    },
    {
      "cell_type": "markdown",
      "source": [
        "Description\n",
        "\n",
        "---\n",
        "Comparison operators are used to compare two values and return a Boolean result: either True or False. The operators include equal to (==), not equal to (!=), greater than (>), less than (<), greater or equal to (>=), less than or equal to (<=). They are commonly used in conditional statements such as if, while, and logical expressions to control the data flow of a program. Comparison operators work with numbers, strings, and other data types, they help evaluate relationships between values or expressions."
      ],
      "metadata": {
        "id": "NF-nvSQCkn-s"
      }
    },
    {
      "cell_type": "markdown",
      "source": [
        "Syntax\n",
        "\n",
        "---\n",
        "* Equal:\tx == y\n",
        "* Not equal:\tx != y\n",
        "* Greater than:\tx > y\n",
        "* Less than:\tx < y\n",
        "* Greater than or equal to:\tx >= y\n",
        "* Less than or equal to:\tx <= y"
      ],
      "metadata": {
        "id": "PcI5i1z4kjVE"
      }
    },
    {
      "cell_type": "markdown",
      "source": [
        "Examples:\n",
        "\n",
        "---"
      ],
      "metadata": {
        "id": "pd1rdSEPzgHq"
      }
    },
    {
      "cell_type": "code",
      "source": [
        "# Equal operator: ==\n",
        "\n",
        "myFirstVariable  = 10.0\n",
        "mySecondVariable = 10.0\n",
        "\n",
        "print(myFirstVariable == mySecondVariable)"
      ],
      "metadata": {
        "id": "R6y_Zu1uqPcG"
      },
      "execution_count": null,
      "outputs": []
    },
    {
      "cell_type": "code",
      "source": [
        "# Not equal operator: !=\n",
        "\n",
        "myFirstVariable  = 10.0\n",
        "mySecondVariable =  9.0\n",
        "\n",
        "print(myFirstVariable != mySecondVariable)"
      ],
      "metadata": {
        "id": "npZBbm8BRpr8"
      },
      "execution_count": null,
      "outputs": []
    },
    {
      "cell_type": "code",
      "source": [
        "# Greater than operator: >\n",
        "\n",
        "myFirstVariable  = 10.0\n",
        "mySecondVariable =  9.0\n",
        "\n",
        "print(myFirstVariable > mySecondVariable)"
      ],
      "metadata": {
        "id": "e-dgVlhlrOm3"
      },
      "execution_count": null,
      "outputs": []
    },
    {
      "cell_type": "code",
      "source": [
        "# Less than operator: <\n",
        "\n",
        "myFirstVariable  = 10.0\n",
        "mySecondVariable =  9.0\n",
        "\n",
        "print(mySecondVariable < myFirstVariable)"
      ],
      "metadata": {
        "id": "EiGGpaXrrcaO"
      },
      "execution_count": null,
      "outputs": []
    },
    {
      "cell_type": "code",
      "source": [
        "# Greater than or equal to operator: >=\n",
        "\n",
        "myFirstVariable  = 10.0\n",
        "mySecondVariable = 10.0\n",
        "\n",
        "print(mySecondVariable >= myFirstVariable)"
      ],
      "metadata": {
        "id": "uUb5rcTpqz3Y"
      },
      "execution_count": null,
      "outputs": []
    },
    {
      "cell_type": "code",
      "source": [
        "# Less than or equal to operator: <=\n",
        "\n",
        "myFirstVariable  = 10.0\n",
        "mySecondVariable = 10.0\n",
        "\n",
        "print(mySecondVariable <= myFirstVariable)"
      ],
      "metadata": {
        "id": "P7Is_YtasDTP"
      },
      "execution_count": null,
      "outputs": []
    },
    {
      "cell_type": "code",
      "source": [
        "# String comparison -> ASCII Table: A = 65, B = 66, C = 67, D = 68, a = 97, b = 98, c = 99, d =100\n",
        "\n",
        "myFirstVariable  = \"A\"\n",
        "mySecondVariable = \"A\"\n",
        "\n",
        "print(myFirstVariable == mySecondVariable)"
      ],
      "metadata": {
        "id": "orFVEAoN1Ce8"
      },
      "execution_count": null,
      "outputs": []
    },
    {
      "cell_type": "code",
      "source": [
        "# String comparison -> ASCII Table: A = 65, B = 66, C = 67, D = 68, a = 97, b = 98, c = 99, d =100\n",
        "\n",
        "myFirstVariable  = \"ABCDa\"\n",
        "mySecondVariable = \"ABCDb\"\n",
        "\n",
        "print(myFirstVariable == mySecondVariable)\n",
        "print(myFirstVariable >  mySecondVariable)\n",
        "print(myFirstVariable <  mySecondVariable)"
      ],
      "metadata": {
        "id": "1WZ1JNhh1WhM"
      },
      "execution_count": null,
      "outputs": []
    },
    {
      "cell_type": "code",
      "source": [
        "# Complex numbers can not be compared using comparison operators\n",
        "\n",
        "myFirstComplex  = 3 + 5j\n",
        "mySecondComplex = 3 + 5j\n",
        "\n",
        "print(myFirstVariable == mySecondVariable)"
      ],
      "metadata": {
        "id": "swG8H4lNN_aT"
      },
      "execution_count": null,
      "outputs": []
    },
    {
      "cell_type": "markdown",
      "source": [
        "2.3 Logical operators\n",
        "---"
      ],
      "metadata": {
        "id": "1xRwfWZDAcXC"
      }
    },
    {
      "cell_type": "markdown",
      "source": [
        "Description\n",
        "\n",
        "---\n",
        "Logical operators are used to perform Boolean algebra and combine multiple conditional expressions. These operators return a Boolean result, True or False, based on the logical relationship between the expressions they are evaluating. The three main logical operators are AND (&), OR (|), and NOT (!). The and operator returns True only if both conditions are True. The OR operator returns True if atleast one condition is True. The NOT operator inverts the result of a condition that returns True if the condition is False. These operators are often used in conditional statements to build more complex decision making logic."
      ],
      "metadata": {
        "id": "t3I59w40l0c2"
      }
    },
    {
      "cell_type": "markdown",
      "source": [
        "Note\n",
        "\n",
        "---\n",
        "The or operator uses the so called short-circuit evaluation. If the first condition is True, Python does not evaluate the second condition. It immediately returns True because it meets the requirement it needs for an or expression."
      ],
      "metadata": {
        "id": "ugxxVi-OnXVj"
      }
    },
    {
      "cell_type": "markdown",
      "source": [
        "Syntax\n",
        "\n",
        "---\n",
        "           condition1 AND condition2\n",
        "\n",
        "           condition1 OR  condition2\n",
        "\n",
        "           NOT condition\n"
      ],
      "metadata": {
        "id": "VH53tSaRm5ug"
      }
    },
    {
      "cell_type": "markdown",
      "source": [
        "Examples\n",
        "\n",
        "---"
      ],
      "metadata": {
        "id": "dIKTy2OBzq49"
      }
    },
    {
      "cell_type": "code",
      "source": [
        "# Logical operator: and\n",
        "\n",
        "myFirstVariable  = 10.0\n",
        "mySecondVariable = 10.0\n",
        "myThirdVariable  = 20.0\n",
        "\n",
        "print(myFirstVariable < myThirdVariable and myFirstVariable == mySecondVariable)"
      ],
      "metadata": {
        "id": "_0lyXQln_ulI"
      },
      "execution_count": null,
      "outputs": []
    },
    {
      "cell_type": "code",
      "source": [
        "# Logical operator: or\n",
        "\n",
        "myFirstVariable  = 10.0\n",
        "mySecondVariable = 10.0\n",
        "myThirdVariable  = 20.0\n",
        "\n",
        "print(myFirstVariable > myThirdVariable or myFirstVariable == mySecondVariable)"
      ],
      "metadata": {
        "id": "8Lh7pKLDA4DQ"
      },
      "execution_count": null,
      "outputs": []
    },
    {
      "cell_type": "code",
      "source": [
        "# Logical operator: not\n",
        "\n",
        "myFirstVariable  = 10.0\n",
        "mySecondVariable = 20.0\n",
        "\n",
        "print(not myFirstVariable > mySecondVariable)"
      ],
      "metadata": {
        "id": "HzdAzr_2BD70"
      },
      "execution_count": null,
      "outputs": []
    },
    {
      "cell_type": "markdown",
      "source": [
        "2.4 Bitwise operators\n",
        "---"
      ],
      "metadata": {
        "id": "HE3jpEcklKOm"
      }
    },
    {
      "cell_type": "markdown",
      "source": [
        "Description\n",
        "\n",
        "---\n",
        "You can use bitwise operators to perform Boolean logic on individual bits. It is very similar to using logical operators such as *and* (&), *or* (|), *xor* (^), and *not* (~). You can evaluate Boolean expressions with bitwise operators instead of logical operators. Bitwise operators work at the binary level and are commonly used in low-level programming, such as working with flags, masks, or hardware interfaces. Both a and b should be integers."
      ],
      "metadata": {
        "id": "DDIfCctz5sOc"
      }
    },
    {
      "cell_type": "markdown",
      "source": [
        "Syntax\n",
        "\n",
        "---\n",
        "\n",
        "* AND: a & b\n",
        "* OR:  a | b\n",
        "* XOR: a ^ b\n",
        "* NOT: ~a\n",
        "* Left shift: a << n\n",
        "* Right shift: a >> n"
      ],
      "metadata": {
        "id": "C6YLb55L4_IK"
      }
    },
    {
      "cell_type": "markdown",
      "source": [
        "Examples\n",
        "\n",
        "---"
      ],
      "metadata": {
        "id": "DoGYZir50WtW"
      }
    },
    {
      "cell_type": "code",
      "source": [
        "# Bitwise operator: AND (&) - logical conjuction\n",
        "# 6 = 00000110\n",
        "# 3 = 00000011\n",
        "#----------------------\n",
        "# 2 = 00000010\n",
        "\n",
        "print(6&3)"
      ],
      "metadata": {
        "id": "ua8kjQQcmCoS"
      },
      "execution_count": null,
      "outputs": []
    },
    {
      "cell_type": "code",
      "source": [
        "# Bitwise operator: OR (|) - logical conjuction\n",
        "# 6 = 00000110\n",
        "# 3 = 00000011\n",
        "#----------------------\n",
        "# 7 = 00000111\n",
        "\n",
        "print(6|3)"
      ],
      "metadata": {
        "id": "wP3hgFOZmOhX"
      },
      "execution_count": null,
      "outputs": []
    },
    {
      "cell_type": "code",
      "source": [
        "# Bitwise operator: NOT (~) - logical negation\n",
        "#  3 = 00000011\n",
        "#--------------------------\n",
        "# -4 = 11111100\n",
        "\n",
        "print(~3)"
      ],
      "metadata": {
        "id": "CllSfhtymjzv"
      },
      "execution_count": null,
      "outputs": []
    },
    {
      "cell_type": "code",
      "source": [
        "# Bitwise operator: XOR (^) - exclusive OR\n",
        "# 6 = 00000110\n",
        "# 3 = 00000011\n",
        "#--------------------------\n",
        "# 5 = 00000101\n",
        "\n",
        "print(6^3)"
      ],
      "metadata": {
        "id": "mawCVs4Gm1uU"
      },
      "execution_count": null,
      "outputs": []
    },
    {
      "cell_type": "code",
      "source": [
        "# Bitwise operator: << - inserts zeroes to the right side\n",
        "# 3  = 00000011\n",
        "#-------------------------\n",
        "# 12 = 00001100\n",
        "\n",
        "print(3<<2)"
      ],
      "metadata": {
        "id": "7RjuFRp5nBrI"
      },
      "execution_count": null,
      "outputs": []
    },
    {
      "cell_type": "code",
      "source": [
        "# Bitwise operator: >> - inserts zeroes to the left side\n",
        "# 8 = 00001000\n",
        "#------------------------\n",
        "# 2 = 00000010\n",
        "\n",
        "print(8>>2)"
      ],
      "metadata": {
        "id": "l7nIESjbnpx8"
      },
      "execution_count": null,
      "outputs": []
    },
    {
      "cell_type": "markdown",
      "source": [
        "Note\n",
        "\n",
        "---\n",
        "When you have a number greater than 255, you will need more than 1 byte, max value 255 (in decimal), anything larger than 255 requires more bytes. Each byte can hold value from 0-255.  If you have a large number you can represent it with more than 1 byte. 0-255 - one byte, 256-65535 2 bytes, 65536-16777215 3 bytes etc. 500 -> needs two bytes: 0000000111110100 (9 bits)."
      ],
      "metadata": {
        "id": "fGvbQQzcvlrh"
      }
    },
    {
      "cell_type": "markdown",
      "source": [
        "Assignment operators\n",
        "---"
      ],
      "metadata": {
        "id": "cEYesb7BC1S_"
      }
    },
    {
      "cell_type": "markdown",
      "source": [
        "Description\n",
        "\n",
        "---\n",
        "Bitwise assignment operators combine bitwise operations with assignment, allowing you to modify a variable by applying a bitwise operation directly to it. These operators include bitwise AND and assignment (&=), bitwise OR and assignment (|=), bitwise XOR and assignment (^=), right shift and assignment (>>=), and left shift and assignment (<<=). These operators typically used in low-lewel programming tasks such as working with binary data, flags, or hardware interfaces, where direct manipulatin of bits required.  "
      ],
      "metadata": {
        "id": "VdR6z3aBH-Zk"
      }
    },
    {
      "cell_type": "markdown",
      "source": [
        "Syntax\n",
        "\n",
        "---\n",
        "* Bitwise AND and assignment: a &= b\n",
        "* Bitwise OR and assignment:  a |= b\n",
        "* Bitwise XOR and assignment: a ^= b\n",
        "* Bitwise right shift and assignment: a >>= b\n",
        "* Bitwise left shift and assignment:  a <<= b"
      ],
      "metadata": {
        "id": "9gZgaZM4JI04"
      }
    },
    {
      "cell_type": "markdown",
      "source": [
        "Examples:\n",
        "\n",
        "---"
      ],
      "metadata": {
        "id": "Ds89kAUB0nT5"
      }
    },
    {
      "cell_type": "code",
      "source": [
        "# Assignment operator: &=\n",
        "\n",
        "myFirstBit = 6\n",
        "\n",
        "myFirstBit &= 3\n",
        "print(myFirstBit)          # myFirstBit = myFirstBit & 3"
      ],
      "metadata": {
        "id": "S9jmrhQxDC1-"
      },
      "execution_count": null,
      "outputs": []
    },
    {
      "cell_type": "code",
      "source": [
        "# Assignment operator: |=\n",
        "\n",
        "myFirstBit = 6\n",
        "\n",
        "myFirstBit |= 3\n",
        "print(myFirstBit)          # myFirstBit = myFirstBit | 3"
      ],
      "metadata": {
        "id": "tu3bBRZXD-4U"
      },
      "execution_count": null,
      "outputs": []
    },
    {
      "cell_type": "code",
      "source": [
        "# Assignment operator: ^=\n",
        "\n",
        "myFirstBit = 6\n",
        "\n",
        "myFirstBit ^= 3\n",
        "print(myFirstBit)          # myFirstBit = myFirstBit ^ 3"
      ],
      "metadata": {
        "id": "oNZ6MtyCEQnf"
      },
      "execution_count": null,
      "outputs": []
    },
    {
      "cell_type": "code",
      "source": [
        "# Assignment operator: <<=\n",
        "\n",
        "myFirstBit = 3\n",
        "\n",
        "myFirstBit <<= 2\n",
        "print(myFirstBit)          # myFirstBit = myFirstBit << 2"
      ],
      "metadata": {
        "id": "kwlh9k5jEzUr"
      },
      "execution_count": null,
      "outputs": []
    },
    {
      "cell_type": "code",
      "source": [
        "# Assignment operator: >>=\n",
        "\n",
        "myFirstBit = 8\n",
        "\n",
        "myFirstBit >>= 2\n",
        "print(myFirstBit)          # myFirstBit = myFirstBit >> 2"
      ],
      "metadata": {
        "id": "kZy6l_RgFHtJ"
      },
      "execution_count": null,
      "outputs": []
    },
    {
      "cell_type": "markdown",
      "source": [
        "2.5 Identity operators\n",
        "---"
      ],
      "metadata": {
        "id": "CRZIby6Oovxw"
      }
    },
    {
      "cell_type": "markdown",
      "source": [
        "Description\n",
        "\n",
        "---\n",
        "Identity operators are used to compare the memory location or identity of two objects. Unlike comparison operators, the identity operators check whether two objects are the same object in memory. There are two identity operators, *is* and *is not*. The *is* operator returns True if two variables point to the same object in memory. The *is not* operator returns True if variables point to different objects. It is important to note that if two variables have equal values, they may not necessarily be the same object. The identity operators should be used when you care about object identity and not just equality."
      ],
      "metadata": {
        "id": "tOz80dX8J-XG"
      }
    },
    {
      "cell_type": "markdown",
      "source": [
        "Syntax\n",
        "\n",
        "---\n",
        "          x is y\n",
        "          x is not y"
      ],
      "metadata": {
        "id": "j_HtvtYrKCnj"
      }
    },
    {
      "cell_type": "markdown",
      "source": [
        "Examples:\n",
        "\n",
        "---"
      ],
      "metadata": {
        "id": "gO2njGIL093X"
      }
    },
    {
      "cell_type": "code",
      "source": [
        "# Identity operator: is\n",
        "\n",
        "myFirstVariable  = \"Hello World!\"\n",
        "mySecondVariable = \"Hello World!\"\n",
        "\n",
        "myThirdVariable  =  myFirstVariable\n",
        "\n",
        "print(myFirstVariable is mySecondVariable)\n",
        "print(myFirstVariable is myThirdVariable )\n",
        "\n",
        "print(\"Printing memory addresses :\", id(myFirstVariable), id(mySecondVariable))\n",
        "print(\"Printing memory addresses :\", id(myFirstVariable), id(myThirdVariable) )"
      ],
      "metadata": {
        "id": "0yJO9gTcpr6R"
      },
      "execution_count": null,
      "outputs": []
    },
    {
      "cell_type": "code",
      "source": [
        "# Identity operator: is not\n",
        "\n",
        "myFirstVariable  = \"Hello World!\"\n",
        "mySecondVariable = \"Hello World!\"\n",
        "\n",
        "myThirdVariable  =  myFirstVariable\n",
        "\n",
        "print(myFirstVariable is not mySecondVariable)\n",
        "print(myFirstVariable is not myThirdVariable )\n",
        "\n",
        "print(\"Printing memory addresses :\", id(myFirstVariable), id(mySecondVariable))\n",
        "print(\"Printing memory addresses :\", id(myFirstVariable), id(myThirdVariable) )"
      ],
      "metadata": {
        "id": "FatrHFI-tA0A"
      },
      "execution_count": null,
      "outputs": []
    },
    {
      "cell_type": "markdown",
      "source": [
        "2.6 Membership operators\n",
        "---"
      ],
      "metadata": {
        "id": "FEbV2Yyc1Rr-"
      }
    },
    {
      "cell_type": "markdown",
      "source": [
        "Description\n",
        "\n",
        "---\n",
        "Membership operators are used to test whether a value is a member of a sequence. These operators are very useful when you want to check if a certain element exists inside a collection, such as a list, string, or set. There are two membership operators, *in* and *not in*. The *in* operator returns True if the specified value is found in the sequence. The *not in* returns True if the value is not found in the sequence. These operators are commonly used in conditions to check for the presence or absence of elements in the sequence, making code more readable and concise."
      ],
      "metadata": {
        "id": "4rVnXuQILtSK"
      }
    },
    {
      "cell_type": "markdown",
      "source": [
        "Syntax\n",
        "\n",
        "---\n",
        "          value in sequence\n",
        "\n",
        "          value not in sequence"
      ],
      "metadata": {
        "id": "NMUdZdJIMb0B"
      }
    },
    {
      "cell_type": "markdown",
      "source": [
        "Examples\n",
        "\n",
        "---"
      ],
      "metadata": {
        "id": "5plYuyUY2YJC"
      }
    },
    {
      "cell_type": "code",
      "source": [
        "# Membership operator: in  - returns True if a specified element (sequence) exists\n",
        "\n",
        "myTestString = \"Hello World!\"\n",
        "print(\"World\" in myTestString)"
      ],
      "metadata": {
        "id": "mu0fYaEX2tFi"
      },
      "execution_count": null,
      "outputs": []
    },
    {
      "cell_type": "code",
      "source": [
        "# Membership operator: not in - returns True if a specified element does not exist\n",
        "\n",
        "myTestString = \"Hello World\"\n",
        "print(\"A\" not in myTestString)"
      ],
      "metadata": {
        "id": "uXTqQXlc3DfY"
      },
      "execution_count": null,
      "outputs": []
    },
    {
      "cell_type": "markdown",
      "source": [
        "2.7 Operator precedence\n",
        "---"
      ],
      "metadata": {
        "id": "vGU9c0IXy3wn"
      }
    },
    {
      "cell_type": "markdown",
      "source": [
        "Description\n",
        "\n",
        "---\n",
        "\n",
        "Operator precedence determines the order in which operators are evaluated in complex expressions. Operators with higher precedence are evaluated first  before those with lower precedence, unless parenthesis are used. Exponentiation, unary, Arithmetic operators have higher precedence than logical and comparison operators. Understanding operator precedence is important to avoid unexpected results and to write clear, predictable expressions."
      ],
      "metadata": {
        "id": "JbwDN2eAoLXl"
      }
    },
    {
      "cell_type": "markdown",
      "source": [
        "Syntax\n",
        "\n",
        "---\n",
        "* Parentheses: ()\n",
        "* Exponentiation: **\n",
        "* Unary: +x,  -x,  ~x\n",
        "* Arithmetic: *,  /, %, //, +, -\n",
        "* Bitwise: <<=, >>=, AND, ^, |\n",
        "* Comparison: ==,  !=,  >,  >=,  <,  <=  \n",
        "* Identity: is,  is not  \n",
        "* Membership: in, in not\n",
        "* Logical: not, and, or"
      ],
      "metadata": {
        "id": "_SJY1AoxoHij"
      }
    },
    {
      "cell_type": "markdown",
      "source": [
        "Note\n",
        "\n",
        "---\n",
        "Python is an object-oriented language and, therefore, objects are an important part of Python programming. In fact, everything in Python with an object contains default data and some functionality. To build an object, you need to use a constructor function. A constructor is a special function that is used to make an instance of a class. A class is like a blueprint to create an object. You can then use that object (instance) of a class to assign some data and functionality.\n",
        "\n",
        "---"
      ],
      "metadata": {
        "id": "QXf_KtapvWX_"
      }
    },
    {
      "cell_type": "code",
      "source": [
        "class Pencil():\n",
        "\n",
        "    # Constructor\n",
        "    def __init__(self, diameter, length, color):\n",
        "\n",
        "        self.diameter = diameter\n",
        "        self.length   = length\n",
        "        self.color    = color"
      ],
      "metadata": {
        "id": "o6BW3nWXvhQ_"
      },
      "execution_count": null,
      "outputs": []
    },
    {
      "cell_type": "markdown",
      "source": [
        "# Section 3: Data Collections\n",
        "\n",
        "3.1 List\n",
        "\n",
        "3.2 Tuple\n",
        "\n",
        "3.3 Dictionary\n",
        "\n",
        "3.4 Set\n",
        "\n",
        "3.5 Summary of data collections"
      ],
      "metadata": {
        "id": "Z59-gQljQiBp"
      }
    },
    {
      "cell_type": "markdown",
      "source": [
        "3.1 List\n",
        "---"
      ],
      "metadata": {
        "id": "8RxoLXrp4xh5"
      }
    },
    {
      "cell_type": "markdown",
      "source": [
        "Description\n",
        "\n",
        "---\n",
        "A list is used to store several items in a single variable. A list is a built-in type in Python. Lists can store more than one item at the same time. These lists are ordered and mutable, meaning their contents can be changed after creations. Lists are commonly used for storing collections of related data, and their elements can be accessed by index, starting from 0. Python provides many built-in methods to modify and manipulate lists. New items can be inserted into the list or deleted from the list. It is a member of a data type called sequences. Various operations can be performed on the list including slicing, multiplication, addition, etc.\n"
      ],
      "metadata": {
        "id": "-qtzFV-khhvV"
      }
    },
    {
      "cell_type": "markdown",
      "source": [
        "Syntax\n",
        "\n",
        "---\n",
        "          myList = [element 1, element 2, ..., element n]\n",
        "\n",
        "          myList = [element 1]\n",
        "\n",
        "          myList = list()"
      ],
      "metadata": {
        "id": "JfF9NhMxhmRk"
      }
    },
    {
      "cell_type": "markdown",
      "source": [
        "List declaration\n",
        "---"
      ],
      "metadata": {
        "id": "o_SRVn3qiMvj"
      }
    },
    {
      "cell_type": "markdown",
      "source": [
        "Description\n",
        "\n",
        "---\n",
        "A list is declared by placing a sequience of elements inside square brakets and separated by commas. List can contain elements of any data types, including numbers, strings, or even other lists."
      ],
      "metadata": {
        "id": "6R_2MQmriXeT"
      }
    },
    {
      "cell_type": "markdown",
      "source": [
        "Examples\n",
        "\n",
        "---"
      ],
      "metadata": {
        "id": "mSsCPOOJ3cYj"
      }
    },
    {
      "cell_type": "code",
      "source": [
        "# Creating an empty list\n",
        "\n",
        "myEmptyList = []\n",
        "\n",
        "print(\"My empty list :\", myEmptyList)\n",
        "print(type(myEmptyList))"
      ],
      "metadata": {
        "id": "e94FJ_ig3ZBj"
      },
      "execution_count": null,
      "outputs": []
    },
    {
      "cell_type": "code",
      "source": [
        "# Creating an empty list using the constructor: list()\n",
        "\n",
        "myEmptyList = list()\n",
        "\n",
        "print(\"My empty list :\", myEmptyList)\n",
        "print(type(myEmptyList))"
      ],
      "metadata": {
        "id": "QkfBGv8vcrt7"
      },
      "execution_count": null,
      "outputs": []
    },
    {
      "cell_type": "code",
      "source": [
        "# Creating a list of strings\n",
        "\n",
        "myFishList = [\"Red Snapper\", \"Carp\", \"Bass\"]\n",
        "\n",
        "print(myFishList)"
      ],
      "metadata": {
        "id": "Wu5uf2B-e0q7"
      },
      "execution_count": null,
      "outputs": []
    },
    {
      "cell_type": "code",
      "source": [
        "# Creating a list of integers\n",
        "\n",
        "myNumberList = [1, 2, 3, 4, 5, 6, 7, 8, 9]\n",
        "\n",
        "print(myNumberList)"
      ],
      "metadata": {
        "id": "M4GUpUlZ4W_o"
      },
      "execution_count": null,
      "outputs": []
    },
    {
      "cell_type": "code",
      "source": [
        "# Creating a list with various data types\n",
        "\n",
        "myMixedList  = [10, 11.0, 123, \"Python\", \"A\", -234.5, True, False, 1.23E-24]\n",
        "myNumberList = [1, 2, 3, 4, 5]\n",
        "\n",
        "print(myMixedList, myNumberList, sep=\" ; \")"
      ],
      "metadata": {
        "id": "dQJHfS744hfU"
      },
      "execution_count": null,
      "outputs": []
    },
    {
      "cell_type": "code",
      "source": [
        "# Creating a list with the list() constructor\n",
        "\n",
        "myFishList = list((\"Carp\", \"Brass\", \"Red Snapper\"))  # use round brackets\n",
        "\n",
        "print(myFishList)\n",
        "print(type(myFishList))"
      ],
      "metadata": {
        "id": "hj3kO3pB9knr"
      },
      "execution_count": null,
      "outputs": []
    },
    {
      "cell_type": "code",
      "source": [
        "# List constructor: list() - returns a copy of the list\n",
        "\n",
        "myFishList = [\"Carp\", \"Brass\", \"Salmon\", \"Red Snapper\"]\n",
        "\n",
        "myNewList  =  list(myFishList)\n",
        "\n",
        "print(myNewList)\n",
        "print(myNewList is myFishList)"
      ],
      "metadata": {
        "id": "T3OEIK4DIctb"
      },
      "execution_count": null,
      "outputs": []
    },
    {
      "cell_type": "code",
      "source": [
        "# List function: len() - getting length of the list\n",
        "\n",
        "myFishList = [\"Carp\", \"Brass\", \"Salmon\", \"Red Snapper\"]\n",
        "\n",
        "print(len(myFishList))"
      ],
      "metadata": {
        "id": "I_nbOUBSHYeq"
      },
      "execution_count": null,
      "outputs": []
    },
    {
      "cell_type": "markdown",
      "source": [
        "List indexing\n",
        "---"
      ],
      "metadata": {
        "id": "Vq3rVLncJd8G"
      }
    },
    {
      "cell_type": "markdown",
      "source": [
        "Description\n",
        "\n",
        "---\n",
        "Each element of the list has a unique index number as shown below. To access any element of the list, we need to use that element's index number. The indexing of a list is the same as for strings. A list is a container for many items, with these items indexed starting with the first item being \"0\"."
      ],
      "metadata": {
        "id": "pKqRG8e4h8w_"
      }
    },
    {
      "cell_type": "markdown",
      "source": [
        "Syntax\n",
        "\n",
        "---\n",
        "          myList[index]"
      ],
      "metadata": {
        "id": "FJQ4kaVHiC9l"
      }
    },
    {
      "cell_type": "markdown",
      "source": [
        "Examples\n",
        "\n",
        "---"
      ],
      "metadata": {
        "id": "_Jh0H2BCjs-x"
      }
    },
    {
      "cell_type": "code",
      "source": [
        "# The indexes\n",
        "# myFirstList   =   [1,  2,  3,  4,  5, ..., n]\n",
        "# --------------------------\n",
        "# index              0,  1,  2,  3,  4, ..., n-1\n",
        "# negative index    -n,                 ...,  -1\n",
        "\n",
        "myFirstList = [\"Red Snapper\", \"Carp\", \"Bass\"]\n",
        "\n",
        "print(myFirstList[0])\n",
        "print(myFirstList[1])\n",
        "print(myFirstList[2])\n"
      ],
      "metadata": {
        "id": "3G-6B166ADqB"
      },
      "execution_count": null,
      "outputs": []
    },
    {
      "cell_type": "markdown",
      "source": [
        "List slicing\n",
        "---"
      ],
      "metadata": {
        "id": "6MWjBSpgJpy5"
      }
    },
    {
      "cell_type": "markdown",
      "source": [
        "Description\n",
        "\n",
        "---\n",
        "List slicing allows you to extract a portion of a list by specifying a range of indices using the colon (:) operator within square brackets. The slicing will return a new list containing elements from the start index up to, but not including the stop index. You can also include an optional step value to skip elements. List slicing is a powerful way to access and manipulate sublists without modifing the original list.\n",
        "\n",
        "You can have a nested list, which is a list that containes other lists as elements. This allows you to represent more complex data structures like, nmatricies, tables, or multi-dimensional arrays. Nested lists are useful for organizing related data in a structured way.\n"
      ],
      "metadata": {
        "id": "wj8EiiUsj08I"
      }
    },
    {
      "cell_type": "markdown",
      "source": [
        "Syntax\n",
        "\n",
        "---\n",
        "          myList[start index: end index: step]"
      ],
      "metadata": {
        "id": "crJK9lzfj77M"
      }
    },
    {
      "cell_type": "markdown",
      "source": [
        "Example\n",
        "\n",
        "---"
      ],
      "metadata": {
        "id": "vHFsAV2Ejwmd"
      }
    },
    {
      "cell_type": "code",
      "source": [
        "# The indexes\n",
        "# myFirstList   =   [1,  2,  3,  4,  5]\n",
        "# --------------------------\n",
        "# index              0,  1,  2,  3,  4\n",
        "# negative index    -5, -4, -3, -2, -1\n",
        "\n",
        "myFirstList = [1, 2, 3, 4, 5]\n",
        "\n",
        "print(myFirstList)\n",
        "print(myFirstList[:])\n",
        "print(myFirstList[1:])\n",
        "print(myFirstList[0:3])\n",
        "print(myFirstList[3:4])\n",
        "print(myFirstList[3:5])\n",
        "print(myFirstList[-4:])\n",
        "print(myFirstList[-4:-1])\n",
        "print(myFirstList[-5])"
      ],
      "metadata": {
        "id": "8vwyYJXN5GTg"
      },
      "execution_count": null,
      "outputs": []
    },
    {
      "cell_type": "code",
      "source": [
        "# Multi-dimensional (nested) lists\n",
        "\n",
        "myNestedList = [1, 2, 3, [10, 20, 30], 'String']\n",
        "\n",
        "print(myNestedList)\n",
        "print(type(myNestedList))\n",
        "print(len(myNestedList))\n"
      ],
      "metadata": {
        "id": "6m6TO1HjLHAc"
      },
      "execution_count": null,
      "outputs": []
    },
    {
      "cell_type": "code",
      "source": [
        "# Accessing a nested list some values\n",
        "\n",
        "myNestedList = [ 1, 2, 3, [10, 20, 30], 'String']\n",
        "print(myNestedList[3][1])\n",
        "print(len(myNestedList[3]))"
      ],
      "metadata": {
        "id": "LzdwYNYZRowF"
      },
      "execution_count": null,
      "outputs": []
    },
    {
      "cell_type": "code",
      "source": [
        "# Using the sorted() function, Syntax: sorted(iterable, key = ..., reverse = ...)\n",
        "\n",
        "myNestedList = [ 1.2, -0.2, 3.0, 0.6]\n",
        "print(sorted(myNestedList))"
      ],
      "metadata": {
        "id": "pnC_juxaK9ND"
      },
      "execution_count": null,
      "outputs": []
    },
    {
      "cell_type": "code",
      "source": [
        "# Check if an item is in the list\n",
        "\n",
        "mySecondList = [\"Carp\", \"Brass\", \"Fly\"]\n",
        "\n",
        "print(\"Fly\" in mySecondList)"
      ],
      "metadata": {
        "id": "_s9EVQHx-B6e"
      },
      "execution_count": null,
      "outputs": []
    },
    {
      "cell_type": "code",
      "source": [
        "# Change the values in the list\n",
        "\n",
        "mySecondList = [\"Carp\", \"Brass\", \"Fly\", \"Spider\"]\n",
        "\n",
        "mySecondList[2:3] = [\"Red Snapper\", \"Shark\"]\n",
        "\n",
        "print(mySecondList)"
      ],
      "metadata": {
        "id": "7BVrP7bU-d3Q"
      },
      "execution_count": null,
      "outputs": []
    },
    {
      "cell_type": "code",
      "source": [
        "# Using the sorted() function, Syntax: sorted(iterable, key = ..., reverse = ...)\n",
        "\n",
        "myNestedList = [ \"Lorem\", \"ipsum\", \"do\", \"sit\", \"amet\", \"consectetur\", \"elit\"]\n",
        "\n",
        "print(sorted(myNestedList, key=len))"
      ],
      "metadata": {
        "id": "UYRIfZ1xbFaH"
      },
      "execution_count": null,
      "outputs": []
    },
    {
      "cell_type": "code",
      "source": [
        "# Using the sorted() function with the lambda function, ord(), and max() functions\n",
        "\n",
        "mySrtList = [ \"Lorem\", \"ipsum\", \"do\", \"sit\", \"amet\", \"consectetur\", \"elit\"]\n",
        "\n",
        "print(sorted(mySrtList, key = lambda Chr: ord(max(Chr))))\n"
      ],
      "metadata": {
        "id": "xy_BiaTJdJaj"
      },
      "execution_count": null,
      "outputs": []
    },
    {
      "cell_type": "markdown",
      "source": [
        "List methods\n",
        "---"
      ],
      "metadata": {
        "id": "PgArt5DWPSbf"
      }
    },
    {
      "cell_type": "markdown",
      "source": [
        "Description\n",
        "\n",
        "---\n",
        "There are a lot of built-in list methods that allow us to manipulate and interact with lists. Some commonly used methods are insert(), append(), extend (), remove(), pop(), clear(), sort(), and copy(). These methods make it easy to modify and manage list elements without writing complex code."
      ],
      "metadata": {
        "id": "2haMCMU1mqJL"
      }
    },
    {
      "cell_type": "markdown",
      "source": [
        "Syntax\n",
        "\n",
        "---\n",
        "          myList.method()"
      ],
      "metadata": {
        "id": "Vb-DdmGQnhh-"
      }
    },
    {
      "cell_type": "markdown",
      "source": [
        "Examples\n",
        "\n",
        "---"
      ],
      "metadata": {
        "id": "9rbwLCwtnfiF"
      }
    },
    {
      "cell_type": "code",
      "source": [
        "# Insert method: insert() - inserts an element to the list\n",
        "\n",
        "myFishingSet = [\"Carp\", \"Brass\", \"Fly\", \"Spider\"]\n",
        "\n",
        "myFishingSet.insert(2, \"Spinning\")\n",
        "myFishingSet.insert(3, \"Casting\")\n",
        "\n",
        "print(myFishingSet)"
      ],
      "metadata": {
        "id": "9vRYmexW-_3d"
      },
      "execution_count": null,
      "outputs": []
    },
    {
      "cell_type": "code",
      "source": [
        "# Append method: append() - appends an element to the list\n",
        "\n",
        "myFishList = [\"Carp\"]\n",
        "\n",
        "myFishList.append(\"Brass\")\n",
        "myFishList.append(\"Red Snapper\")\n",
        "myFishList.append(\"Shark\")\n",
        "\n",
        "print(myFishList)"
      ],
      "metadata": {
        "id": "MxfnnnCN_jis"
      },
      "execution_count": null,
      "outputs": []
    },
    {
      "cell_type": "code",
      "source": [
        "# Extend method: extend() - add an element to the end of a list\n",
        "\n",
        "myFishList = [\"Carp\", \"Brass\", \"Red Snapper\"]\n",
        "myLureList = [\"Fly\", \"Spider\", \"Worm\"]\n",
        "\n",
        "myFishList.extend(myLureList)\n",
        "\n",
        "print(myFishList)"
      ],
      "metadata": {
        "id": "YOMumLiF_-DH"
      },
      "execution_count": null,
      "outputs": []
    },
    {
      "cell_type": "code",
      "source": [
        "# Remove method: remove() - removes an element from the list\n",
        "\n",
        "myFishList = [\"Carp\", \"Brass\", \"Red Snapper\"]\n",
        "\n",
        "myFishList.remove(\"Carp\")\n",
        "\n",
        "print(myFishList)"
      ],
      "metadata": {
        "id": "hnxj0xWRAjaF"
      },
      "execution_count": null,
      "outputs": []
    },
    {
      "cell_type": "code",
      "source": [
        "# Pop method: pop() - removes an element at a specified index, if you do not specify, removes the last element\n",
        "\n",
        "myFishList = [\"Carp\", \"Brass\", \"Red Snapper\"]\n",
        "\n",
        "myFishList.pop(1)\n",
        "\n",
        "print(myFishList)\n",
        "\n",
        "myFishList.pop()\n",
        "\n",
        "print(myFishList)"
      ],
      "metadata": {
        "id": "oFhEEsOtA1Tt"
      },
      "execution_count": null,
      "outputs": []
    },
    {
      "cell_type": "code",
      "source": [
        "# Clear method: clear() - removes all the elements from a list\n",
        "\n",
        "myLureList = [\"Fly\", \"Spider\", \"Worm\"]\n",
        "\n",
        "myLureList.clear()\n",
        "\n",
        "print(myLureList)"
      ],
      "metadata": {
        "id": "dt7BbOgsB1pr"
      },
      "execution_count": null,
      "outputs": []
    },
    {
      "cell_type": "code",
      "source": [
        "# Sort method: sort() - sorts all the elements of a list (case sensitive)\n",
        "\n",
        "myFishList = [\"Carp\", \"Brass\", \"Red Snapper\", \"Shark\", \"Arowana\", \"Catfish\"]\n",
        "\n",
        "myFishList.sort()\n",
        "\n",
        "print(myFishList)"
      ],
      "metadata": {
        "id": "cvT_cYVZGjSe"
      },
      "execution_count": null,
      "outputs": []
    },
    {
      "cell_type": "code",
      "source": [
        "# Sort method: sort() - sorts all the elements of a list (case sensitive)\n",
        "\n",
        "myFishList = [\"Carp\", \"Brass\", \"Red Snapper\", \"Shark\", \"Arowana\", \"Catfish\"]\n",
        "\n",
        "myFishList.sort(reverse = True)\n",
        "\n",
        "print(myFishList)"
      ],
      "metadata": {
        "id": "n6PDuRQtG_Vj"
      },
      "execution_count": null,
      "outputs": []
    },
    {
      "cell_type": "code",
      "source": [
        "# Sort method: sort() - sorts all the elements of a list (case sensitive)\n",
        "\n",
        "myFishList = [\"Carp\", \"brass\", \"Red Snapper\", \"shark\", \"Arowana\", \"catfish\"]\n",
        "\n",
        "myFishList.sort()\n",
        "\n",
        "print(myFishList)"
      ],
      "metadata": {
        "id": "OtSvU5XljeHJ"
      },
      "execution_count": null,
      "outputs": []
    },
    {
      "cell_type": "code",
      "source": [
        "# Sort method: sort() - sorts all the elements of a list (case insensitive)\n",
        "\n",
        "myFishList = [\"Carp\", \"Brass\", \"red Snapper\", \"shark\", \"Arowana\", \"catfish\"]\n",
        "\n",
        "myFishList.sort(key=str.lower) # sort(key = ..., reverse = ...)\n",
        "\n",
        "print(myFishList)"
      ],
      "metadata": {
        "id": "-dEkZ-qeHiBB",
        "colab": {
          "base_uri": "https://localhost:8080/"
        },
        "outputId": "2bdcb22f-2f7f-424b-94a1-43b105ff686b"
      },
      "execution_count": null,
      "outputs": [
        {
          "output_type": "stream",
          "name": "stdout",
          "text": [
            "['Arowana', 'Brass', 'Carp', 'catfish', 'red Snapper', 'shark']\n"
          ]
        }
      ]
    },
    {
      "cell_type": "code",
      "source": [
        "# Copy method: copy() - returns a copy of the list\n",
        "\n",
        "myFishList = [\"Carp\", \"Brass\", \"Salmon\", \"Red Snapper\"]\n",
        "\n",
        "myNewList  =  myFishList.copy()\n",
        "\n",
        "print(myNewList)\n",
        "\n",
        "myFishList[0] = \"Pike\"\n",
        "\n",
        "print(myNewList)"
      ],
      "metadata": {
        "id": "fcVDkWeSIFzp"
      },
      "execution_count": null,
      "outputs": []
    },
    {
      "cell_type": "code",
      "source": [
        "# Assigning to the same memory address of list\n",
        "\n",
        "myFishList = [\"Carp\", \"Brass\", \"Salmon\", \"Red Snapper\"]\n",
        "\n",
        "myNewList  =  myFishList\n",
        "\n",
        "print(myNewList)\n",
        "\n",
        "myFishList[0] = \"Pike\"\n",
        "\n",
        "print(myNewList)"
      ],
      "metadata": {
        "id": "9ESgz9-2OzgW"
      },
      "execution_count": null,
      "outputs": []
    },
    {
      "cell_type": "markdown",
      "source": [
        "List operations\n",
        "---"
      ],
      "metadata": {
        "id": "dAKkuMdH3M_U"
      }
    },
    {
      "cell_type": "markdown",
      "source": [
        "Description\n",
        "\n",
        "---\n",
        "Basic list operations can be performed that include common tasks that allow us to operate with lists effectively. These operations include concatanation operation, repetition, lenth, iteration, and membership testing. these operations form foundation for working with lists and are widely used in day-to-day Python programming. To delete an entire list we can use the built-in *del* statement. This removes the list object from memory, making it no longer accessible in the program."
      ],
      "metadata": {
        "id": "dBN2FgmBnzGo"
      }
    },
    {
      "cell_type": "markdown",
      "source": [
        "Syntax\n",
        "\n",
        "---\n",
        "          See examples below"
      ],
      "metadata": {
        "id": "bAktRoemomby"
      }
    },
    {
      "cell_type": "markdown",
      "source": [
        "Examples\n",
        "\n",
        "---"
      ],
      "metadata": {
        "id": "XPufO-1iojtt"
      }
    },
    {
      "cell_type": "code",
      "source": [
        "# Join two lists to create a new list\n",
        "\n",
        "myFishList   = [\"Carp\", \"Brass\", \"Salmon\", \"Red Snapper\"]\n",
        "myInsectList = [\"Fly\", \"Beetle\", \"Ant\", \"Dragonfly\"]\n",
        "\n",
        "myFishingSet = myFishList + myInsectList\n",
        "\n",
        "print(myFishingSet)"
      ],
      "metadata": {
        "id": "1q4S9ISCIsr9"
      },
      "execution_count": null,
      "outputs": []
    },
    {
      "cell_type": "code",
      "source": [
        "# Multiply one list twice\n",
        "\n",
        "myFishList   = [\"Carp\", \"Brass\", \"Salmon\", \"Red Snapper\"]\n",
        "\n",
        "myFishingSet = myFishList * 2\n",
        "\n",
        "print(myFishingSet)"
      ],
      "metadata": {
        "id": "rPqEBck56XuM"
      },
      "execution_count": null,
      "outputs": []
    },
    {
      "cell_type": "code",
      "source": [
        "# Find the length of myList\n",
        "\n",
        "myList = [\"Carp\", \"Brass\", \"Salmon\", \"Red Snapper\"]\n",
        "\n",
        "print(len(myList))"
      ],
      "metadata": {
        "id": "whHmEn4zpGGy"
      },
      "execution_count": null,
      "outputs": []
    },
    {
      "cell_type": "code",
      "source": [
        "# Iteration in myList\n",
        "for item in myList:\n",
        "    print(item)"
      ],
      "metadata": {
        "id": "AlVbkrgBpQ5m"
      },
      "execution_count": null,
      "outputs": []
    },
    {
      "cell_type": "code",
      "source": [
        "# Value in myList\n",
        "'Carp' in myList"
      ],
      "metadata": {
        "id": "PfSMBCqUpd2m"
      },
      "execution_count": null,
      "outputs": []
    },
    {
      "cell_type": "code",
      "source": [
        "# Delete an entire list\n",
        "\n",
        "myFishList = [\"Carp\", \"Brass\", \"Red Snapper\"]\n",
        "\n",
        "del myFishList"
      ],
      "metadata": {
        "id": "jtwD7K8vBj2C"
      },
      "execution_count": null,
      "outputs": []
    },
    {
      "cell_type": "markdown",
      "source": [
        "3.2 Tuple\n",
        "---"
      ],
      "metadata": {
        "id": "WDg2CPv6JrwG"
      }
    },
    {
      "cell_type": "markdown",
      "source": [
        "Description\n",
        "\n",
        "---\n",
        "Tuples are used to store multiple values to a single variable. Once a tuple is created, it can not be changed, it is immutable. Tuples are ordered as they are defined and that order will not be changed. You can have duplicates. A tuple is enclosed in parentheses. It is also indexed like strings and lists, starting with index 0. Slicing is also applicable to Tuples to access a range of elements like strings. Tuples can store elements of different data types and often used to group related data that should not be modified. Their immutability also makes them memory efficient and safe for use as dicionary keys."
      ],
      "metadata": {
        "id": "8y1H8kMIqV0h"
      }
    },
    {
      "cell_type": "markdown",
      "source": [
        "Syntax\n",
        "\n",
        "---\n",
        "          myTuple = (element 1, element 2, ..., element n)\n",
        "\n",
        "          myTuple = (element 1,)\n",
        "\n",
        "          myTuple = element 1, element 2, ..., element n\n",
        "\n",
        "          myTuple = tuple(iterable)"
      ],
      "metadata": {
        "id": "mpp_pHM4qaJd"
      }
    },
    {
      "cell_type": "markdown",
      "source": [
        "Tuple declaration\n",
        "---"
      ],
      "metadata": {
        "id": "HI8NMAA_NOzo"
      }
    },
    {
      "cell_type": "markdown",
      "source": [
        "Description\n",
        "\n",
        "---\n",
        "A tuple can be declared by placing a sequence of values inside parentheses () separated by coma. You can declare or create a tuple using various ways. If you need a tuple with one element you have to place a comma separator right after the element. You can also use a constructor to create a tuple. You can delete tuple using *del* function.  "
      ],
      "metadata": {
        "id": "_-3Dgxo3qwB_"
      }
    },
    {
      "cell_type": "markdown",
      "source": [
        "Examples\n",
        "\n",
        "---"
      ],
      "metadata": {
        "id": "PGGn6j8qrG2a"
      }
    },
    {
      "cell_type": "code",
      "source": [
        "# Creating an empty tuple using parentheses\n",
        "\n",
        "myEmptyTuple = ()\n",
        "\n",
        "print(\"My empty tuple :\", myEmptyTuple)\n",
        "print(type(myEmptyTuple))"
      ],
      "metadata": {
        "id": "JpsrHjI3o9PT"
      },
      "execution_count": null,
      "outputs": []
    },
    {
      "cell_type": "code",
      "source": [
        "# Creating an empty tuple using the constructor\n",
        "\n",
        "myEmptyTuple = tuple()\n",
        "\n",
        "print(\"My empty tuple :\", myEmptyTuple)\n",
        "print(type(myEmptyTuple))"
      ],
      "metadata": {
        "id": "SAlsuyzscU4L"
      },
      "execution_count": null,
      "outputs": []
    },
    {
      "cell_type": "code",
      "source": [
        "# Creating a tuple with one element\n",
        "\n",
        "myTuple = ( 1, )\n",
        "\n",
        "print(type(myTuple))"
      ],
      "metadata": {
        "id": "WFoyL0MbL94t"
      },
      "execution_count": null,
      "outputs": []
    },
    {
      "cell_type": "code",
      "source": [
        "# Creating a tuple from a list\n",
        "\n",
        "myTuple = tuple([1, 2, 3, 4, 5])\n",
        "\n",
        "print(type(myTuple))"
      ],
      "metadata": {
        "id": "luVZCavdtVMs"
      },
      "execution_count": null,
      "outputs": []
    },
    {
      "cell_type": "code",
      "source": [
        "# Creating a tuple with many elements and duplicates\n",
        "\n",
        "myTuple = 1, 2, 3, 3\n",
        "\n",
        "print(type(myTuple))\n",
        "print(myTuple)"
      ],
      "metadata": {
        "id": "rRaJhmTQLiqj"
      },
      "execution_count": null,
      "outputs": []
    },
    {
      "cell_type": "code",
      "source": [
        "# Creating a tuple with a single string value\n",
        "myTuple = tuple(\"abc\")\n",
        "print(myTuple)"
      ],
      "metadata": {
        "id": "T7dxlLaxsw2F"
      },
      "execution_count": null,
      "outputs": []
    },
    {
      "cell_type": "code",
      "source": [
        "# Creating tuple of multiple string values\n",
        "\n",
        "myFirstTuple = (\"Carp\", \"Anaconda\", \"Shark\") # packing\n",
        "print(myFirstTuple)"
      ],
      "metadata": {
        "id": "wzavr6HZJ8Vh"
      },
      "execution_count": null,
      "outputs": []
    },
    {
      "cell_type": "code",
      "source": [
        "# Unpacking tuple\n",
        "\n",
        "myFirstTuple = (\"Carp\", \"Anaconda\", \"Shark\") # packing\n",
        "\n",
        "(myFirstElement, mySecondElement, myThirdElement) = myFirstTuple  # unpacking\n",
        "\n",
        "print(myFirstElement)\n",
        "print(mySecondElement)\n",
        "print(myThirdElement)"
      ],
      "metadata": {
        "id": "PQwcFQ42YJEc"
      },
      "execution_count": null,
      "outputs": []
    },
    {
      "cell_type": "code",
      "source": [
        "# Creating a tuple with one item\n",
        "\n",
        "myOneItemTuple = (\"Anaconda\",)\n",
        "print(type(myOneItemTuple))\n",
        "\n",
        "#THE FOLLOWING IS NOT A TUPLE, THIS IS A STRING\n",
        "\n",
        "myNotTuple = (\"Anaconda\")\n",
        "print(type(myNotTuple))"
      ],
      "metadata": {
        "id": "N7u-Tt1lLTDl"
      },
      "execution_count": null,
      "outputs": []
    },
    {
      "cell_type": "code",
      "source": [
        "# Create a tuple using range function\n",
        "\n",
        "myRangeTuple = tuple(range(1, 10))\n",
        "\n",
        "print(myRangeTuple)"
      ],
      "metadata": {
        "id": "e-qdJsR_toem"
      },
      "execution_count": null,
      "outputs": []
    },
    {
      "cell_type": "code",
      "source": [
        "# Tuple constructor: tuple() - constructor returns a copy of the tuple\n",
        "\n",
        "mySecondTuple = tuple((\"Wolf\", \"Rabbit\"))\n",
        "\n",
        "print(mySecondTuple)"
      ],
      "metadata": {
        "id": "OIbk29LUL1Ej"
      },
      "execution_count": null,
      "outputs": []
    },
    {
      "cell_type": "code",
      "source": [
        "# Deleting a tuple using del function\n",
        "\n",
        "mySecondTuple = tuple((\"Wolf\", \"Rabbit\"))\n",
        "\n",
        "del mySecondTuple"
      ],
      "metadata": {
        "id": "_MtYZKNPtyk0"
      },
      "execution_count": null,
      "outputs": []
    },
    {
      "cell_type": "markdown",
      "source": [
        "Tuple indexing\n",
        "---"
      ],
      "metadata": {
        "id": "IHNXsJruYnqT"
      }
    },
    {
      "cell_type": "markdown",
      "source": [
        "Description\n",
        "\n",
        "---\n",
        "Tuple indexing allows one to access individual elements using their positions starting from 0 for the first element. A tuple is also indexed as strings and lists. You can use square brackets [] with the index number to obtain the value. Since the tuples are immutable, you can access their elements by indexing, but you can not change the elements once they are assigned. Indexing is a fundamental way to work with tuples, specifically when you reference their values."
      ],
      "metadata": {
        "id": "hRN9pV4kuVaB"
      }
    },
    {
      "cell_type": "markdown",
      "source": [
        "Syntax\n",
        "\n",
        "---\n",
        "          myTuple[index]"
      ],
      "metadata": {
        "id": "o1F1qV_8uZvs"
      }
    },
    {
      "cell_type": "markdown",
      "source": [
        "Examples\n",
        "\n",
        "---"
      ],
      "metadata": {
        "id": "-8iDvzGEuS1X"
      }
    },
    {
      "cell_type": "code",
      "source": [
        "# Access a tuple with the index\n",
        "\n",
        "# myTuple       =   [1,  2,  3,  4,  5, ..., n]\n",
        "# --------------------------\n",
        "# index              0,  1,  2,  3,  4, ..., n-1\n",
        "# negative index    -n,                 ...,  -1\n",
        "\n",
        "myAustralianTuple = (\"Kangaroo\", \"Quokka\", \"Bandicoot\")\n",
        "\n",
        "print(\"This nocturnal marsupial omnivor lives in Australia :\", myAustralianTuple[2])"
      ],
      "metadata": {
        "id": "He4EbNPktLfd"
      },
      "execution_count": null,
      "outputs": []
    },
    {
      "cell_type": "markdown",
      "source": [
        "Tuple slicing\n",
        "---"
      ],
      "metadata": {
        "id": "zalLDkxbaOv-"
      }
    },
    {
      "cell_type": "markdown",
      "source": [
        "Description\n",
        "\n",
        "---\n",
        "\n",
        "Tuple slicing allows you to extract a portion of a tuple by specifiyng a range of indicies using colon (:) operator. The basic syntax returns a new tuple containing elements from the start index up to , but not including the stop index. You can also include an optional step value to skip elements. Slicing does not modify the original tuple and works the same way as for lists, makinig it convenient and powerwfull to access the elements."
      ],
      "metadata": {
        "id": "c6dbgYO4vnZJ"
      }
    },
    {
      "cell_type": "markdown",
      "source": [
        "Syntax\n",
        "\n",
        "---\n",
        "          myTuple[start index: end index: step]"
      ],
      "metadata": {
        "id": "Bf9rhjf9vs2O"
      }
    },
    {
      "cell_type": "markdown",
      "source": [
        "Examples\n",
        "\n",
        "---"
      ],
      "metadata": {
        "id": "sano1YHDvki4"
      }
    },
    {
      "cell_type": "code",
      "source": [
        "# Slice tuple with the index numbers\n",
        "\n",
        "# myTuple       =   [1,  2,  3,  4,  5, ..., n]\n",
        "# --------------------------\n",
        "# index              0,  1,  2,  3,  4, ..., n-1\n",
        "# negative index    -n,                 ...,  -1\n",
        "\n",
        "myMixedTuple  = (10, 11.0, 123, \"Python\", \"A\", -234.5, True, False, 1.23E-24)\n",
        "\n",
        "print(myMixedTuple[:5])\n",
        "print(myMixedTuple[-3:-1])"
      ],
      "metadata": {
        "id": "g46rPI917Zzw"
      },
      "execution_count": null,
      "outputs": []
    },
    {
      "cell_type": "markdown",
      "source": [
        "Tuple methods\n",
        "---"
      ],
      "metadata": {
        "id": "s2_Vnr4ewS4D"
      }
    },
    {
      "cell_type": "markdown",
      "source": [
        "Description\n",
        "\n",
        "---\n",
        "Tuple methods are limited due to the immutable nature of tuples. Their content can not be changed or manipulated. There are only two built-in methods available: count() and index(). These methods are useful for obtaining information from a tuple, checking for duplicates and locating elements. All other methods wil not work. These methods, when used on tuples, will result in an error: sort(), append(), insert(), copy(), extend(), pop(), clear(), reverse(), and remove(). This is because these methods attempt to alter the tuple, but it is immutable. There are, however, some methods that can be used on tuples."
      ],
      "metadata": {
        "id": "minUoIOWw1WR"
      }
    },
    {
      "cell_type": "markdown",
      "source": [
        "Syntax\n",
        "\n",
        "---\n",
        "          myTuple.method(value)"
      ],
      "metadata": {
        "id": "H96WP2ayw7HT"
      }
    },
    {
      "cell_type": "markdown",
      "source": [
        "Examples\n",
        "\n",
        "---"
      ],
      "metadata": {
        "id": "hBO0aIaXw4fM"
      }
    },
    {
      "cell_type": "code",
      "source": [
        "# Count method: count() - returns a number of repeated elements in the Tuple\n",
        "\n",
        "myTestTuple = (1, 2, 3, 4, 5, 5, 5, 5, 5, 5, 6)\n",
        "\n",
        "print(myTestTuple.count(5))"
      ],
      "metadata": {
        "id": "_ygQO9WVvLVz"
      },
      "execution_count": null,
      "outputs": []
    },
    {
      "cell_type": "code",
      "source": [
        "# Index method: index() - returns an index of the first occurence for the specified element\n",
        "\n",
        "myTestTuple = (1, 2, 3, 4, 5, 6, 7, 8, 9)\n",
        "\n",
        "print(myTestTuple.index(4))"
      ],
      "metadata": {
        "id": "l_Km0CjgxkAN"
      },
      "execution_count": null,
      "outputs": []
    },
    {
      "cell_type": "code",
      "source": [
        "# Immutability: try to append(), insert(), del() methods\n",
        "\n",
        "myTestTuple = (1, 2, 3, 4, 5, 6, 7, 8, 9)\n",
        "\n",
        "#myTestTuple.append(10)    # AttributeError: 'tuple' object has no attribute 'append'\n",
        "#myTestTuple.insert(0,10)  # AttributeError: 'tuple' object has no attribute 'insert'\n",
        "#del myTestTuple[1]        # TypeError: 'tuple' object doesn't support item deletion\n",
        "#myTestTuple[0] = 10       # TypeError: 'tuple' object does not support item assignment\n",
        "\n",
        "print(len(myTestTuple))"
      ],
      "metadata": {
        "id": "MPo2jSCTrz_y"
      },
      "execution_count": null,
      "outputs": []
    },
    {
      "cell_type": "code",
      "source": [
        "# Sorted function: sorted() - returns a sorted tuple\n",
        "\n",
        "myTestTuple = (12, 2, 1, 4, -5, 6, -7, 8, 9)\n",
        "\n",
        "print(sorted(myTestTuple))"
      ],
      "metadata": {
        "id": "gzGO3eCiATbu"
      },
      "execution_count": null,
      "outputs": []
    },
    {
      "cell_type": "markdown",
      "source": [
        "Tuple operations\n",
        "---"
      ],
      "metadata": {
        "id": "qXYXXrZxyQvo"
      }
    },
    {
      "cell_type": "markdown",
      "source": [
        "Description\n",
        "\n",
        "---\n",
        "Tuple operators can be used to perform basic operations on tuples. Common tuple operations include concatentation (+), repetition ( * ), indexing [index], membership (in, not in), and deletion (del). the *del* statement can be used to delete an entire tuple. After deletion, attempting to access the tuple will result in a Nameerror because the tuple no longer exists.   "
      ],
      "metadata": {
        "id": "Ttafkn6ryGJT"
      }
    },
    {
      "cell_type": "markdown",
      "source": [
        "Syntax\n",
        "\n",
        "---\n",
        "\n",
        "      See examples below"
      ],
      "metadata": {
        "id": "QdS6ALt_zboo"
      }
    },
    {
      "cell_type": "markdown",
      "source": [
        "Examples\n",
        "\n",
        "---"
      ],
      "metadata": {
        "id": "m-w63urPyCDb"
      }
    },
    {
      "cell_type": "code",
      "source": [
        "# Join two tuples\n",
        "\n",
        "myFishTuple   = (\"Pike\", \"Bass\", \"Carp\")\n",
        "myMammalTuple = (\"Blue Whale\", \"Orca\", \"Dolphin\")\n",
        "\n",
        "myAnimalTuple = myFishTuple + myMammalTuple\n",
        "\n",
        "print(myAnimalTuple)"
      ],
      "metadata": {
        "id": "UMZrUtZSyUnf"
      },
      "execution_count": null,
      "outputs": []
    },
    {
      "cell_type": "code",
      "source": [
        "# Multiply two tuples\n",
        "\n",
        "myFishTuple   = (\"Pike\", \"Bass\", \"Carp\")\n",
        "\n",
        "myAnimalTuple = myFishTuple * 2\n",
        "\n",
        "print(myAnimalTuple)"
      ],
      "metadata": {
        "id": "x8DKUCO-7xvY"
      },
      "execution_count": null,
      "outputs": []
    },
    {
      "cell_type": "code",
      "source": [
        "# Tuples with membership operators\n",
        "\n",
        "myFishTuple   = (\"Pike\", \"Bass\", \"Carp\")\n",
        "\n",
        "print(\"Carp\" in myAnimalTuple)"
      ],
      "metadata": {
        "id": "AFgZy_n7Du-3"
      },
      "execution_count": null,
      "outputs": []
    },
    {
      "cell_type": "code",
      "source": [
        " # Delete the entire tuple\n",
        "\n",
        "myFishTuple   = (\"Pike\", \"Bass\", \"Carp\")\n",
        "\n",
        "del myFishTuple"
      ],
      "metadata": {
        "id": "9e0sMfri1soR"
      },
      "execution_count": null,
      "outputs": []
    },
    {
      "cell_type": "markdown",
      "source": [
        "3.3 Dictionary\n",
        "---"
      ],
      "metadata": {
        "id": "LrEJ_oZiIq2d"
      }
    },
    {
      "cell_type": "markdown",
      "source": [
        "Description\n",
        "\n",
        "---\n",
        "A dictionary is a built-in data type used to store data in **key:value** pairs enclosed in curly braces. Each key is separated from its value by a colon (:) and pairs are separated by commas. A dictionary is an ordered mutable data collection that cannot have key duplicates. Keys must be unique and immutable (such as strings, numbers, or tuples), while values can be any data type and can be repeated. The items can be removed, changed, and added. Dictionaries are unordered before Python 3.7. It is now ordered starting from Python version 3.7, they maintain the insertion order. The values in the dictionaries are indexed by keys. They are highly efficient for looking up, adding, or updating data by key making them suitable for labeled or structured data."
      ],
      "metadata": {
        "id": "4CNKxfrQ0CCO"
      }
    },
    {
      "cell_type": "markdown",
      "source": [
        "Syntax\n",
        "\n",
        "---\n",
        "          myDictionary = {key 1: value, key 2: value, ..., key n: value}\n",
        "\n",
        "          myDictionary = {key: value}\n",
        "\n",
        "          myDictionary = dict()"
      ],
      "metadata": {
        "id": "NSS30AVR0Ge0"
      }
    },
    {
      "cell_type": "markdown",
      "source": [
        "Dictionary declaration\n",
        "---"
      ],
      "metadata": {
        "id": "_KxUXvahMwok"
      }
    },
    {
      "cell_type": "markdown",
      "source": [
        "Description\n",
        "\n",
        "---\n",
        "Dictionary declaration involves creating a set of key-value pairs enclosed within curly braces {}. Each key is followed by a colon (:) and paired with a corresponding value. Multiple key-value pairs are separated by commas. Alternatively, dictionaries can be declared using dict() constructor. This flexible structure allows for fast lookups and eaasy updates based on keys, making dictionaries a powerful tool for managing structured data."
      ],
      "metadata": {
        "id": "3nm5WH5e4IkM"
      }
    },
    {
      "cell_type": "markdown",
      "source": [
        "Examples\n",
        "\n",
        "---"
      ],
      "metadata": {
        "id": "eD-uWZGJ5AqH"
      }
    },
    {
      "cell_type": "code",
      "source": [
        "# Declaring an empty dictionary\n",
        "\n",
        "myEmptyDict = {}\n",
        "\n",
        "print(\"My empty dictionary :\", myEmptyDict)"
      ],
      "metadata": {
        "id": "ycMVkJdEobuO"
      },
      "execution_count": null,
      "outputs": []
    },
    {
      "cell_type": "code",
      "source": [
        "# Declaring an empty dictionary using a constructor\n",
        "\n",
        "myEmptyDict = dict()\n",
        "\n",
        "print(\"My empty dictionary :\", myEmptyDict)"
      ],
      "metadata": {
        "id": "yxBqRoaOX2Du"
      },
      "execution_count": null,
      "outputs": []
    },
    {
      "cell_type": "code",
      "source": [
        "# Adding a new item to the dictionary, [key] = value pair\n",
        "\n",
        "myTestDictionary = {}\n",
        "\n",
        "myTestDictionary[\"Occupation\"] = \"Student\"\n",
        "myTestDictionary[\"Name\"]       = \"Kirill\"\n",
        "myTestDictionary[\"Age\"]        = 21\n",
        "\n",
        "print(myTestDictionary)"
      ],
      "metadata": {
        "id": "8OUIAF3WNCFw"
      },
      "execution_count": null,
      "outputs": []
    },
    {
      "cell_type": "code",
      "source": [
        "# Adding a new item to the dictionary with multiple values using one key\n",
        "\n",
        "myTestDictionary = {}\n",
        "\n",
        "myTestDictionary[\"Occupation\"] = \"Student\"\n",
        "myTestDictionary[\"Name\"]       = \"Kirill\"\n",
        "myTestDictionary[\"Age\"]        = 21, 22, 23, 24, 99\n",
        "\n",
        "print(myTestDictionary)"
      ],
      "metadata": {
        "id": "gdkmMhxvdj80"
      },
      "execution_count": null,
      "outputs": []
    },
    {
      "cell_type": "code",
      "source": [
        "# Declaring a dictionary with the key: multiple value elements\n",
        "\n",
        "myFirstDictionary = {\"Occupation\":(\"Student\", \"Programmer\"), \"Name\":\"Kirill\", \"Age\":(72,32,21)}\n",
        "\n",
        "print(myFirstDictionary[\"Age\"][1])              # getting the zero value of the \"Age\" key\n",
        "\n",
        "print(list(myFirstDictionary.values())[0][1])   # getting the third value of the Age key"
      ],
      "metadata": {
        "id": "Q2P8m0o9IvQf"
      },
      "execution_count": null,
      "outputs": []
    },
    {
      "cell_type": "code",
      "source": [
        "# Dictionary constructor: dict() - returns a copy of the dictionary assigning key:value with  =\n",
        "\n",
        "myFirstDictionary = dict(Occupation=\"Student\", Name=\"Kirill\", Age=25)\n",
        "\n",
        "print(myFirstDictionary)"
      ],
      "metadata": {
        "id": "wqzD_rpwLO0W"
      },
      "execution_count": null,
      "outputs": []
    },
    {
      "cell_type": "code",
      "source": [
        "# Dictionary constructor: dict() - returns a copy of the dictionary assigning key:value with  ,\n",
        "\n",
        "myFirstDictionary = dict([(\"Occupation\",\"Student\"), (\"Name\",\"Kirill\"), (\"Age\",25)])\n",
        "\n",
        "print(myFirstDictionary)"
      ],
      "metadata": {
        "id": "ofFxolTdtR0Y"
      },
      "execution_count": null,
      "outputs": []
    },
    {
      "cell_type": "code",
      "source": [
        "# Length function: len() - returns the length of a dictionary\n",
        "\n",
        "myFirstDictionary = {\"Occupation\":\"Student\", \"Name\":\"Kirill\", \"Age\":25}\n",
        "\n",
        "print(len(myFirstDictionary))"
      ],
      "metadata": {
        "id": "0kCHLuJAKhyq"
      },
      "execution_count": null,
      "outputs": []
    },
    {
      "cell_type": "code",
      "source": [
        "# Get the value of the key:  key:value\n",
        "\n",
        "myFirstDictionary = dict(Name=\"Kirill\", Age=25, Occupation=\"Student\")\n",
        "\n",
        "print(myFirstDictionary[\"Age\"])"
      ],
      "metadata": {
        "id": "fp6PHb62L1u9"
      },
      "execution_count": null,
      "outputs": []
    },
    {
      "cell_type": "markdown",
      "source": [
        "Nested dictionary\n",
        "---"
      ],
      "metadata": {
        "id": "kQrCRuBjiGMb"
      }
    },
    {
      "cell_type": "markdown",
      "source": [
        "Description\n",
        "\n",
        "---\n",
        "Dictionaries can have a nested structure. A nested dictionary is a dictionary where one or more values are themselves dictionaries. This means you can have dictionaries as values in other dictionaries. This allows you to represent more complex, hierarchical structures. Nested dictionaries are especially useful for storing grouped data, such as records in a database or configurations with multiple levels of detail. They offer both flexibility and clarity in organizing data with multiple layers."
      ],
      "metadata": {
        "id": "yjhYNTAG5ho9"
      }
    },
    {
      "cell_type": "markdown",
      "source": [
        "Syntax\n",
        "\n",
        "---\n",
        "          mydictionary = {key1:{subkey1:value1, subkey2:value2}, key2:{subkey1:value3}, ...}"
      ],
      "metadata": {
        "id": "vu2ecZr56Xws"
      }
    },
    {
      "cell_type": "markdown",
      "source": [
        "Examples\n",
        "\n",
        "---"
      ],
      "metadata": {
        "id": "ZRAsgoOe6VmT"
      }
    },
    {
      "cell_type": "code",
      "source": [
        "# Nested dictionary\n",
        "\n",
        "myDictionary = {\"planets\":{1:\"Mercury\", 2:\"Venus\", 3:{\"a\":(\"Earth\",\"Mars\")}}, \"stars\":{\"a\":(\"Sun\",\"Proxima\"), \"b\":\"Alpha\"}}\n",
        "#                                                    |--------------------|           |----------------------------------|\n",
        "#                         |------------------------------------------------|\n",
        "#              |----------------------------------------------------------------------------------------------------------|\n",
        "\n",
        "#print(myDictionary)\n",
        "#print(myDictionary[\"planets\"])\n",
        "#print(myDictionary[\"planets\"][1])\n",
        "#print(myDictionary[\"planets\"][3][\"a\"][1])\n",
        "#print(myDictionary[\"planets\"][3][\"a\"][1][1:3])\n",
        "\n",
        "print(myDictionary[\"stars\"][\"a\"][0][0:3])\n",
        "print(myDictionary[\"stars\"][\"b\"][:])\n",
        "#print(myDictionary[\"stars\"][\"b\"][1:3])\n",
        "\n",
        "#print(list(myDictionary.values()))\n",
        "#print(list(myDictionary.values())[0][3][\"a\"][0])\n",
        "#print(list(myDictionary.values())[1][\"a\"][1])\n",
        "#print(list(myDictionary.values())[1][\"b\"])\n"
      ],
      "metadata": {
        "id": "083XnY-BiI7a"
      },
      "execution_count": null,
      "outputs": []
    },
    {
      "cell_type": "markdown",
      "source": [
        "Dictionary methods\n",
        "---"
      ],
      "metadata": {
        "id": "JSlEagi1xdh0"
      }
    },
    {
      "cell_type": "markdown",
      "source": [
        "Description\n",
        "\n",
        "---\n",
        "There are several built-in methods for dictionaries that allow to efficiently operate and interact with stored data. The get(key) method retrieves the value for a given key, returning None if the key does not exist. The keys() and values methods return views of all the keys and values in the dictionary. The items() method returns a view of the key-value pairs as tuples. The update() method allows you to add key-value pairs or update the existing keys with new values. The pop(key) method removes the specified key and its associated value from the dictionary, returning the value. Other useful methods include clear() to remove all items, copy() to create a shallow copy of the dictionary. These methods provide flexible and powerful ways to manage and work with dictionaries."
      ],
      "metadata": {
        "id": "M63kWIPt7Iup"
      }
    },
    {
      "cell_type": "markdown",
      "source": [
        "Syntax\n",
        "\n",
        "---\n",
        "          myDictionary.method()"
      ],
      "metadata": {
        "id": "_2R1CGRE8wWy"
      }
    },
    {
      "cell_type": "markdown",
      "source": [
        "Examples\n",
        "\n",
        "---"
      ],
      "metadata": {
        "id": "4TyPe1gl8tQT"
      }
    },
    {
      "cell_type": "code",
      "source": [
        "# Get method: get() - access a dictionary value using the associated keyword\n",
        "\n",
        "myFirstDictionary = {\"Occupation\":\"Student\", \"Name\":\"Kirill\", \"Age\":25}\n",
        "\n",
        "print(myFirstDictionary.get(\"Age\"))"
      ],
      "metadata": {
        "id": "_5jYofrGMQeO"
      },
      "execution_count": null,
      "outputs": []
    },
    {
      "cell_type": "code",
      "source": [
        "# Keys method: keys() - gets a list of keys\n",
        "\n",
        "myFirstDictionary = {\"Occupation\":\"Student\", \"Name\":\"Kirill\", \"Age\":25}\n",
        "\n",
        "print(myFirstDictionary.keys())"
      ],
      "metadata": {
        "id": "k81BrfGlMwB7"
      },
      "execution_count": null,
      "outputs": []
    },
    {
      "cell_type": "code",
      "source": [
        "# Values method: values() - gets a list of values\n",
        "\n",
        "myFirstDictionary = {\"Occupation\":\"Student\", \"Name\":\"Kirill\", \"Age\":25}\n",
        "\n",
        "print(myFirstDictionary.values())"
      ],
      "metadata": {
        "id": "LIH3CV1RNi4v"
      },
      "execution_count": null,
      "outputs": []
    },
    {
      "cell_type": "code",
      "source": [
        "# Items method: items() - gets a list of key:value pairs\n",
        "\n",
        "myFirstDictionary = {\"Occupation\":\"Student\", \"Name\":\"Kirill\", \"Age\":25}\n",
        "\n",
        "print(myFirstDictionary.items())"
      ],
      "metadata": {
        "id": "DfxebHnJN581"
      },
      "execution_count": null,
      "outputs": []
    },
    {
      "cell_type": "code",
      "source": [
        "# Update method: update() - updates the dictionary with the key:value pair\n",
        "\n",
        "myFirstDictionary = {\"Occupation\":\"Student\", \"Name\":\"Kirill\", \"Age\":25}\n",
        "myFirstDictionary.update({\"Age\":33})\n",
        "\n",
        "print(myFirstDictionary)"
      ],
      "metadata": {
        "id": "_mdgODj4O-09"
      },
      "execution_count": null,
      "outputs": []
    },
    {
      "cell_type": "code",
      "source": [
        "# Pop method: pop() - removes the key:value pair from the dictionary\n",
        "\n",
        "myFirstDictionary = {\"Occupation\":\"Student\", \"Name\":\"Kirill\", \"Age\":25}\n",
        "\n",
        "myFirstDictionary.pop(\"Name\")\n",
        "\n",
        "print(myFirstDictionary)"
      ],
      "metadata": {
        "id": "gE9SoknNQZmU"
      },
      "execution_count": null,
      "outputs": []
    },
    {
      "cell_type": "markdown",
      "source": [
        "Dictionary operations\n",
        "---"
      ],
      "metadata": {
        "id": "j39H9C6p1GHB"
      }
    },
    {
      "cell_type": "markdown",
      "source": [
        "Description\n",
        "\n",
        "---\n",
        "Dictionary operations allow you to perform various tasks, includding adding, updating, accessing, and removing key-value pairs. You can access a value by specifying its key, and update a value by assigning a new value to an existing key. The pop(key) method allows you to remove a key-value pair and return its value. Membership testing with *in* checks if a key exists iin the dictionary. The *del* statement can be used to delete the dictionary. The entire dictionary will be removed from memory, making it inaccessible.  "
      ],
      "metadata": {
        "id": "ouLVU6RY9rgp"
      }
    },
    {
      "cell_type": "markdown",
      "source": [
        "Syntax\n",
        "\n",
        "---\n",
        "          See examples below"
      ],
      "metadata": {
        "id": "Bo-Ge0XP_kC0"
      }
    },
    {
      "cell_type": "markdown",
      "source": [
        "Examples\n",
        "\n",
        "---"
      ],
      "metadata": {
        "id": "sj_CGrvJ9phK"
      }
    },
    {
      "cell_type": "code",
      "source": [
        "# Adding a key-value pair\n",
        "\n",
        "myFirstDictionary = {\"Occupation\":\"Student\", \"Name\":\"Kirill\", \"Age\":25}\n",
        "\n",
        "myFirstDictionary[\"Age\"] = 33\n",
        "\n",
        "print(myFirstDictionary)"
      ],
      "metadata": {
        "id": "bdWyylXc_Gck"
      },
      "execution_count": null,
      "outputs": []
    },
    {
      "cell_type": "code",
      "source": [
        "# Accessing a value by the key\n",
        "\n",
        "myFirstDictionary = {\"Occupation\":\"Student\", \"Name\":\"Kirill\", \"Age\":25}\n",
        "\n",
        "print(myFirstDictionary[\"Age\"])"
      ],
      "metadata": {
        "id": "WQzY2Dxu_MRd"
      },
      "execution_count": null,
      "outputs": []
    },
    {
      "cell_type": "code",
      "source": [
        "# Removing an item using pop()\n",
        "\n",
        "myFirstDictionary = {\"Occupation\":\"Student\", \"Name\":\"Kirill\", \"Age\":25}\n",
        "\n",
        "myFirstDictionary.pop(\"Name\")\n",
        "\n",
        "print(myFirstDictionary)"
      ],
      "metadata": {
        "id": "KPxbWEod_XKk"
      },
      "execution_count": null,
      "outputs": []
    },
    {
      "cell_type": "code",
      "source": [
        "# Delete an item from the dictionary\n",
        "\n",
        "myFirstDictionary = {\"Occupation\":\"Student\", \"Name\":\"Kirill\", \"Age\":25}\n",
        "\n",
        "del myFirstDictionary[\"Age\"]\n",
        "\n",
        "print(myFirstDictionary)"
      ],
      "metadata": {
        "id": "fPBTRj2xRABQ"
      },
      "execution_count": null,
      "outputs": []
    },
    {
      "cell_type": "code",
      "source": [
        "# Delete the entire dictionary\n",
        "\n",
        "myFirstDictionary = {\"Occupation\":\"Student\", \"Name\":\"Kirill\", \"Age\":25}\n",
        "\n",
        "del myFirstDictionary"
      ],
      "metadata": {
        "id": "70oAGiaI06LI"
      },
      "execution_count": null,
      "outputs": []
    },
    {
      "cell_type": "markdown",
      "source": [
        "Note\n",
        "\n",
        "---\n",
        "A Python dictionary can be easily loaded from a JSON file, which is a common and widely used data format for representing strucutred data. JSON, or JavaScript Object Notation, is lightweight, human-readable file that is primarily used for data exchange between a server and a web application. Due to its simplicity and easy of use, Jason is often utilized to store and transmit data in various programming languages. In Python, the json module provides functionality to parse JSON data and convert it into a Python dictionary. Below is an example of a JSON file, student.json, which contains student-related information in JSON format that can be loaded into a Python dictionary for further processing.\n",
        "\n",
        "The official JSON file specification can be found in the RFC 8259 (https://datatracker.ietf.org/doc/html/rfc8259 ) This document provides the formal rules and guidelines for hoe JSON data should be structured. To access json module documentation you can follow this link: https://docs.python.org/3/library/json.html"
      ],
      "metadata": {
        "id": "FRXuwLhXuUmI"
      }
    },
    {
      "cell_type": "markdown",
      "source": [
        "Examples\n",
        "\n",
        "---"
      ],
      "metadata": {
        "id": "eQZt5C9VBGsw"
      }
    },
    {
      "cell_type": "code",
      "source": [
        "# student.json\n",
        "\n",
        "{\n",
        "    \"Name\": \"Mark\",\n",
        "    \"Age\": 22,\n",
        "    \"Occupation\": \"Student\"\n",
        "}"
      ],
      "metadata": {
        "id": "tBdESeYyu6JR"
      },
      "execution_count": null,
      "outputs": []
    },
    {
      "cell_type": "code",
      "source": [
        "# To load JSON file to the Python\n",
        "\n",
        "import json\n",
        "\n",
        "with open('student.json', 'r') as json_file:\n",
        "  student = json.load(json_file)\n",
        "print(student)"
      ],
      "metadata": {
        "id": "vqrVenh-vXYh"
      },
      "execution_count": null,
      "outputs": []
    },
    {
      "cell_type": "markdown",
      "source": [
        "3.4 Set\n",
        "---"
      ],
      "metadata": {
        "id": "aug2ii2_MNbv"
      }
    },
    {
      "cell_type": "markdown",
      "source": [
        "Description\n",
        "\n",
        "---\n",
        "A set is an unordered collection of unique elements, meaning that it cannot contain duplicate values. Unlike lists or tuples, sets do not preserve the order of elements, making them ideal candidates for membership testing and eleminating duplicates. They support the veriety of operations, such as union, intersection, and differense, allowing for efficient methematical set operations. Sets are mutable , you can add or remove elements after creation, but their elements must be immutable(e.g., numbers, strings, or tuples). Sets are commonly used when the goal is to work with distinct items and perform operations like filtering, searching, or removing duplicates from collection of data."
      ],
      "metadata": {
        "id": "_uIh5zm8DHGe"
      }
    },
    {
      "cell_type": "markdown",
      "source": [
        "Syntax\n",
        "\n",
        "---\n",
        "          mySet = {element 1, element 2, ..., element n}\n",
        "\n",
        "          mySet = {element 1}\n",
        "\n",
        "          mySet = set()"
      ],
      "metadata": {
        "id": "HMDK8DGzDwJM"
      }
    },
    {
      "cell_type": "markdown",
      "source": [
        "Set declarations\n",
        "---"
      ],
      "metadata": {
        "id": "B6170h41Lfvp"
      }
    },
    {
      "cell_type": "markdown",
      "source": [
        "Description\n",
        "\n",
        "---\n",
        "A set can be declared in two ways, using curly braces and set() constructor. To create a set using curly braces, you simply list the elements separated by commas inside. Alternatively, if you use the set() constructor, you need to include a list or a tuple inside of the parenthesis. This specifically useful if you want to convert other data types into a set. A key characteristics of sets is that they automatically eliminate any duplicate values, so the result will always contain only unique elements. Sets do not maintain order, elements may appear in arbitrary order everytime you access that."
      ],
      "metadata": {
        "id": "bBisr70DFNNy"
      }
    },
    {
      "cell_type": "markdown",
      "source": [
        "Syntax\n",
        "\n",
        "---\n",
        "          See examples below"
      ],
      "metadata": {
        "id": "JWMRYK0jGSpJ"
      }
    },
    {
      "cell_type": "markdown",
      "source": [
        "Examples\n",
        "\n",
        "---"
      ],
      "metadata": {
        "id": "Biw194ngGP8i"
      }
    },
    {
      "cell_type": "code",
      "source": [
        "# Creating an empty set - no curly braces - dictionary\n",
        "\n",
        "myEmptySet = {}\n",
        "\n",
        "print(type(myEmptySet))"
      ],
      "metadata": {
        "id": "Y03mljzFPO7Q"
      },
      "execution_count": null,
      "outputs": []
    },
    {
      "cell_type": "code",
      "source": [
        "# Creating an empty set using a constructor\n",
        "\n",
        "myEmptySet = set()\n",
        "\n",
        "print(\"My empty set :\", myEmptySet)\n",
        "print(type(myEmptySet))"
      ],
      "metadata": {
        "id": "aM6KGd6KHFbP"
      },
      "execution_count": null,
      "outputs": []
    },
    {
      "cell_type": "code",
      "source": [
        "# Create a set with multiple string values\n",
        "\n",
        "myFishSet = {\"Carp\", \"Bass\", \"Salmon\", \"Red Snapper\", \"Pike\", \"Perch\"}\n",
        "\n",
        "print(myFishSet)"
      ],
      "metadata": {
        "id": "l1nS-WtVY1Sh"
      },
      "execution_count": null,
      "outputs": []
    },
    {
      "cell_type": "code",
      "source": [
        "# Create a set with multiple string values using the constructor: set()\n",
        "\n",
        "myFishSet = set((\"Carp\", \"Bass\", \"Salmon\", \"Red Snapper\"))\n",
        "\n",
        "print(myFishSet)"
      ],
      "metadata": {
        "id": "z3c9RkQSG8tk"
      },
      "execution_count": null,
      "outputs": []
    },
    {
      "cell_type": "code",
      "source": [
        "# Create a set with duplicates\n",
        "\n",
        "myFishSet = {\"Carp\", \"Bass\", \"Salmon\", \"Red Snapper\", \"Bass\", \"Bass\", \"Bass\"}\n",
        "\n",
        "print(myFishSet)"
      ],
      "metadata": {
        "id": "6DUwz-mYZNF-"
      },
      "execution_count": null,
      "outputs": []
    },
    {
      "cell_type": "code",
      "source": [
        "# Create a set with boolean types and integers\n",
        "\n",
        "myFirstSet = {\"Carp\", \"Bass\", \"Red Snapper\", \"Bass\", True, 1, 2}\n",
        "\n",
        "print(myFirstSet)"
      ],
      "metadata": {
        "id": "4cgo_2HnZdqW"
      },
      "execution_count": null,
      "outputs": []
    },
    {
      "cell_type": "code",
      "source": [
        "#Sets' data types\n",
        "\n",
        "myFishSet    =  {\"Carp\", \"Bass\", \"Red Snapper\", \"Salmon\"}\n",
        "myNumberSet  =  {1, 2, 3, 4, 5, 4, 6, 3, 21}\n",
        "myBooleanSet =  {True, False, False, True,False}\n",
        "myMixedSet   =  {\"Carp\", True, 23, 40, \"Bass\", \"Salmon\"}\n",
        "myComplexSet =  {2+3j,   1+7j,   3+4j}\n",
        "\n",
        "print(myFishSet)\n",
        "print(myNumberSet)\n",
        "print(myBooleanSet)\n",
        "print(myMixedSet)\n",
        "print(myComplexSet)"
      ],
      "metadata": {
        "id": "01sJnNKcaC18"
      },
      "execution_count": null,
      "outputs": []
    },
    {
      "cell_type": "markdown",
      "source": [
        "Set methods\n",
        "---"
      ],
      "metadata": {
        "id": "PD2eCqRbMAUj"
      }
    },
    {
      "cell_type": "markdown",
      "source": [
        "Description\n",
        "\n",
        "---\n",
        "Python sets offer several built-in methods that allow you to perform a variety of operations, such as adding, removing, and testing membership of elements. The add() method adds a single element to the set, while update() methods allows you to add multiple elements or elements from another iterable (like list or another set). To remove elements, you can use remove() (it will raise an error if the element is not found) or discrad(), which does not raise an error. The pop() method removes and returns an arbitrary element from the set. You can also check if a set contains an element using the in keyword. Other methods include clear(), removing all elements from the set, copy() creating a shallow copy of the set. Set operations such as union(), intersection(), and difference() allow you to perform mathematical set operations, combining sets or finding common or unique elements. These methods make sets a flexible and powerful tool for managing collections of unique items.\n",
        "\n",
        "The union() operation combines two sets, returning a new set with all unique elements from both. The intersection() operation returns a set containing only the elements that are common to both sets. The difference() operation gives a set of elements that are in the first set but not in the second. The symmetric difference() returns a set of elements that are in either of the sets, but not in both. These operations make sets particulary useful for tasks that involve comparing, merging, or filtering collections of unique elements."
      ],
      "metadata": {
        "id": "xSw0vaqwIuN7"
      }
    },
    {
      "cell_type": "markdown",
      "source": [
        "Note\n",
        "\n",
        "---\n",
        "Python sets are conceptually similar to mathematical sets in many ways. Just like mathematical sets, Python sets are collections of unique elements with no particular order. You can perform the same fundamental operations on Python sets as you would with mathematical sets.\n",
        "\n",
        "![image.png](data:image/png;base64,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)"
      ],
      "metadata": {
        "id": "_Ya2CfD3MMIj"
      }
    },
    {
      "cell_type": "markdown",
      "source": [
        "Syntax\n",
        "\n",
        "---\n",
        "          mySet.method()"
      ],
      "metadata": {
        "id": "uNl0OlQlKlhN"
      }
    },
    {
      "cell_type": "markdown",
      "source": [
        "Examples\n",
        "\n",
        "---"
      ],
      "metadata": {
        "id": "krvTH6hiIqIj"
      }
    },
    {
      "cell_type": "code",
      "source": [
        "# Add method: add() - adding items to a set\n",
        "\n",
        "myFishSet = {\"Carp\", \"Bass\", \"Red Snapper\"}\n",
        "myFishSet.add(\"Salmon\")\n",
        "print(myFishSet)"
      ],
      "metadata": {
        "id": "PIl_tV42b1lw"
      },
      "execution_count": null,
      "outputs": []
    },
    {
      "cell_type": "code",
      "source": [
        "# Update method: update() - updating a set with another set\n",
        "\n",
        "myFirstSet  = {\"Carp\", \"Bass\"}\n",
        "mySecondSet = {\"Red Snapper\", \"Salmon\"}\n",
        "\n",
        "myFirstSet.update(mySecondSet)\n",
        "\n",
        "print(myFirstSet)"
      ],
      "metadata": {
        "id": "ueHCgxgycIZs"
      },
      "execution_count": null,
      "outputs": []
    },
    {
      "cell_type": "code",
      "source": [
        "# Update method: update() - updating a set with a list\n",
        "\n",
        "myFirstSet   = {\"Carp\", \"Bass\"}\n",
        "mySecondList = [\"Red Snapper\", \"Salmon\"]\n",
        "\n",
        "myFirstSet.update(mySecondList)\n",
        "\n",
        "print(myFirstSet)"
      ],
      "metadata": {
        "id": "RHxfA-bzco7O"
      },
      "execution_count": null,
      "outputs": []
    },
    {
      "cell_type": "code",
      "source": [
        "# Remove method: remove() - removes specified element(s) of a set\n",
        "\n",
        "myFirstSet = {\"Carp\", \"Bass\", \"Red Snapper\", \"Salmon\"}\n",
        "\n",
        "myFirstSet.remove(\"Carp\")\n",
        "\n",
        "print(myFirstSet)"
      ],
      "metadata": {
        "id": "siByvL9jdAP3"
      },
      "execution_count": null,
      "outputs": []
    },
    {
      "cell_type": "code",
      "source": [
        "# Discard method: discard() - discards specified element(s) of a set\n",
        "\n",
        "myFirstSet = {\"Carp\", \"Bass\", \"Red Snapper\", \"Salmon\"}\n",
        "\n",
        "myFirstSet.discard(\"Red Snapper\")\n",
        "\n",
        "print(myFirstSet)\n"
      ],
      "metadata": {
        "id": "q_JIy6zIOHlh"
      },
      "execution_count": null,
      "outputs": []
    },
    {
      "cell_type": "code",
      "source": [
        "# Pop method: pop() - removes an element of a string, you do not know which item gets removed\n",
        "\n",
        "myFirstSet = {\"Carp\", \"Bass\", \"Red Snapper\", \"Salmon\"}\n",
        "\n",
        "myFirstSet.pop()\n",
        "\n",
        "print(myFirstSet)"
      ],
      "metadata": {
        "id": "f24DGQRxdhwv"
      },
      "execution_count": null,
      "outputs": []
    },
    {
      "cell_type": "code",
      "source": [
        "# Clear method: clear() - makes a set empty\n",
        "\n",
        "myFirstSet  =  {\"Carp\", \"Bass\", \"Red Snapper\", \"Salmon\"}\n",
        "\n",
        "myFirstSet.clear()\n",
        "\n",
        "print(myFirstSet)"
      ],
      "metadata": {
        "id": "yoDoL6GYd8ru"
      },
      "execution_count": null,
      "outputs": []
    },
    {
      "cell_type": "code",
      "source": [
        "# Intersection method: intersection() - keeps only duplicate elements\n",
        "\n",
        "myFirstSet   =  {\"Carp\", \"Red Snapper\"}\n",
        "mySecondSet  =  {\"Carp\", \"Bass\", \"Red Snapper\", \"Salmon\"}\n",
        "\n",
        "myThirdSet   =  myFirstSet.intersection(mySecondSet)\n",
        "\n",
        "print(myThirdSet)"
      ],
      "metadata": {
        "id": "Zk7dqs_CfULP"
      },
      "execution_count": null,
      "outputs": []
    },
    {
      "cell_type": "code",
      "source": [
        "# Intersection update method: intersection_update() - keeps only duplicate elements\n",
        "\n",
        "myFirstSet  = {\"Carp\", \"Bass\", \"Red Snapper\", \"Salmon\"}\n",
        "mySecondSet = {\"Carp\", \"Bass\", \"Red Snapper\", \"Salmon\"}\n",
        "\n",
        "myFirstSet.intersection_update(mySecondSet)\n",
        "\n",
        "print(myFirstSet)"
      ],
      "metadata": {
        "id": "WTQJAXoDfDAY"
      },
      "execution_count": null,
      "outputs": []
    },
    {
      "cell_type": "code",
      "source": [
        "# Symmetric difference update method: symmetric_difference_update()\n",
        "\n",
        "myFirstSet  = {\"Carp\", \"Bass\", \"Red Snapper\", \"Salmon\"}\n",
        "mySecondSet = {\"Red Snapper\", \"Salmon\"}\n",
        "\n",
        "myFirstSet.symmetric_difference_update(mySecondSet)\n",
        "\n",
        "print(myFirstSet)\n"
      ],
      "metadata": {
        "id": "q0HLwdScf3Jb"
      },
      "execution_count": null,
      "outputs": []
    },
    {
      "cell_type": "code",
      "source": [
        "# Symmetric difference method: symmetric_difference() - duplicates are excluded\n",
        "\n",
        "myFirstSet  = {\"Bass\", \"Red Snapper\", \"Salmon\"}\n",
        "mySecondSet = {\"Carp\", \"Red Snapper\", \"Salmon\"}\n",
        "\n",
        "myThirdSet  = myFirstSet.symmetric_difference(mySecondSet)\n",
        "\n",
        "print(myThirdSet)"
      ],
      "metadata": {
        "id": "i7cHAn0ngWI6"
      },
      "execution_count": null,
      "outputs": []
    },
    {
      "cell_type": "code",
      "source": [
        "# Union method: union() - joints two sets while excluding duplicates\n",
        "\n",
        "myFirstSet  =  {\"Red Snapper\", \"Salmon\"}\n",
        "mySecondSet =  {\"Carp\", \"Bass\"}\n",
        "\n",
        "myThirdSet  = myFirstSet.union(mySecondSet)\n",
        "\n",
        "print(myThirdSet)"
      ],
      "metadata": {
        "id": "_ZGA5yLTebn2"
      },
      "execution_count": null,
      "outputs": []
    },
    {
      "cell_type": "markdown",
      "source": [
        "Set operations\n",
        "---"
      ],
      "metadata": {
        "id": "c6q5E3AZSfRD"
      }
    },
    {
      "cell_type": "markdown",
      "source": [
        "Description\n",
        "\n",
        "---\n",
        "A set of basic built-in operations that can be used with sets, similar to what we used with other collections like lists or strings. Python supports a few basic operations that are common to many built-in data types. The *len()* function can be used to get the number of elements in the set. The *in* membership operator can be used to check membership. You can also use the del statement to delete the entire set, keep in mind that you can not delete individual items using [index] since the set is unodered. Python do not support indexing [index], slicing [start:end:step], concatenation (+), or repetition ( *) operations.Attempting to concatenate or multiply sets will result in a TypeError. These restrictions reinforce mathematical nature of sets, which focuse on uniqueness and unordered elements, rather than sequence and repetition."
      ],
      "metadata": {
        "id": "ld2Fg37BP7PH"
      }
    },
    {
      "cell_type": "markdown",
      "source": [
        "Syntax\n",
        "\n",
        "---\n",
        "          See examples below"
      ],
      "metadata": {
        "id": "Qt8Yvf0YRxd7"
      }
    },
    {
      "cell_type": "markdown",
      "source": [
        "Examples\n",
        "\n",
        "---"
      ],
      "metadata": {
        "id": "Q3zd-A9rRvXM"
      }
    },
    {
      "cell_type": "code",
      "source": [
        "# Obtaining the length of the set\n",
        "\n",
        "mySecondSet = {\"Carp\", \"Bass\", \"Red Snapper\", \"Salmon\", \"Bass\"}\n",
        "print(len(mySecondSet))"
      ],
      "metadata": {
        "id": "vVh-kbCLZzOd"
      },
      "execution_count": null,
      "outputs": []
    },
    {
      "cell_type": "code",
      "source": [
        "# Checking the membership using in operator\n",
        "\n",
        "mySecondSet = {\"Carp\", \"Bass\", \"Red Snapper\", \"Salmon\", \"Bass\"}\n",
        "print(\"Carp\" in mySecondSet)"
      ],
      "metadata": {
        "id": "T-Wimj4FR_98"
      },
      "execution_count": null,
      "outputs": []
    },
    {
      "cell_type": "code",
      "source": [
        "# Deleting the entire set\n",
        "\n",
        "myFishSet  =  {\"Carp\", \"Bass\", \"Red Snapper\", \"Salmon\"}\n",
        "\n",
        "del myFishSet"
      ],
      "metadata": {
        "id": "yOsBYLkmeI-i"
      },
      "execution_count": null,
      "outputs": []
    },
    {
      "cell_type": "markdown",
      "source": [
        "3.5 Summary of data collections\n",
        "---\n",
        "\n",
        "  \n",
        "    String          List        Tuple      Dictionary / Set\n",
        "\n",
        "    immutable     mutable      immutable        mutable\n",
        "    order/index order/index  order/indexed     unordered\n",
        "    duplicates    duplicates   duplicates     noduplicates\n",
        "      \"   \"        [   ]        (  )       {   } / {*}, set()\n",
        "      str()        list()      tuple()       dict() / set()\n",
        "\n",
        "    {*} - A set can not be declared with empty braces"
      ],
      "metadata": {
        "id": "Zb-1TG2L014G"
      }
    },
    {
      "cell_type": "markdown",
      "source": [
        "# Section 4: Control flow\n",
        "\n",
        "4.1 if ... statements\n",
        "\n",
        "4.2 For loops\n",
        "\n",
        "4.3 While loops\n"
      ],
      "metadata": {
        "id": "ufdAAkIbhk9M"
      }
    },
    {
      "cell_type": "markdown",
      "source": [
        "4.1 if ... statements\n",
        "---"
      ],
      "metadata": {
        "id": "Y8cow2CiOU7l"
      }
    },
    {
      "cell_type": "markdown",
      "source": [
        "Description\n",
        "\n",
        "---\n",
        "The if statements are used to execute code based on specific conditions. They allow your program to make decisions and respond accordingly. It is one of the most basic forms of decision-making in programming. There are three main forms of conditional statements. These structures let you execute your code if the condition is true, add an alternative block to run when condition is false, and allow to check multiple conditions in sequence, running the first one that is true."
      ],
      "metadata": {
        "id": "5L0EKmC6XpdD"
      }
    },
    {
      "cell_type": "markdown",
      "source": [
        "![IF_STATEMENT_001.png](data:image/png;base64,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)"
      ],
      "metadata": {
        "id": "QmKkukTjUuwf"
      }
    },
    {
      "cell_type": "markdown",
      "source": [
        "Syntax\n",
        "\n",
        "---\n",
        "\n",
        "        if condition: block of code\n",
        "\n",
        "        if condition: block of code else: block of code\n",
        "\n",
        "        if condition: block of code elif condition: block of code else: block of code"
      ],
      "metadata": {
        "id": "tZWtm4oMXxpq"
      }
    },
    {
      "cell_type": "markdown",
      "source": [
        "if ... statement\n",
        "---"
      ],
      "metadata": {
        "id": "zV7v4OJNuuBD"
      }
    },
    {
      "cell_type": "markdown",
      "source": [
        "Description\n",
        "\n",
        "---\n",
        "\n",
        "The syntax starts with *if* keyword, followed by a condition, and ends ith a colon. The indented code beneath it runs only if the condition evaluates to True. A simple *if* statement can be written in one line. The one line statemnent works the same as the multi-line version but is best used for short, simple action."
      ],
      "metadata": {
        "id": "OemHvV2bYZz_"
      }
    },
    {
      "cell_type": "markdown",
      "source": [
        "Syntax\n",
        "\n",
        "---\n",
        "          See examples below"
      ],
      "metadata": {
        "id": "nqi4wcMTou7T"
      }
    },
    {
      "cell_type": "markdown",
      "source": [
        "Examples\n",
        "\n",
        "---"
      ],
      "metadata": {
        "id": "R0tcS2isZIfl"
      }
    },
    {
      "cell_type": "code",
      "source": [
        "# If statement in two lines\n",
        "\n",
        "if True:\n",
        "  print (\"Hello, World!\")"
      ],
      "metadata": {
        "id": "HlGEFAyZ_ill"
      },
      "execution_count": null,
      "outputs": []
    },
    {
      "cell_type": "code",
      "source": [
        "# If statement in one line\n",
        "\n",
        "if True: print(\"Hello, World!\")"
      ],
      "metadata": {
        "id": "aQwqMAxVABYt"
      },
      "execution_count": null,
      "outputs": []
    },
    {
      "cell_type": "code",
      "source": [
        "# If statement with the value of 1\n",
        "\n",
        "if 1: print(\"Hello, World!\")"
      ],
      "metadata": {
        "id": "ZseG6qtNM2p4"
      },
      "execution_count": null,
      "outputs": []
    },
    {
      "cell_type": "code",
      "source": [
        "# If statement with the value of 0\n",
        "\n",
        "if not 0: print(\"Hello, World!\")"
      ],
      "metadata": {
        "id": "ZHaSMzmoHzeJ"
      },
      "execution_count": null,
      "outputs": []
    },
    {
      "cell_type": "code",
      "source": [
        "# To reserve the if statement while you are writing a program\n",
        "\n",
        "if True: pass"
      ],
      "metadata": {
        "id": "isFjfEP1_zUf"
      },
      "execution_count": null,
      "outputs": []
    },
    {
      "cell_type": "markdown",
      "source": [
        "if ... statement with comparison operators\n",
        "---"
      ],
      "metadata": {
        "id": "tZMT8pL834Mg"
      }
    },
    {
      "cell_type": "markdown",
      "source": [
        "Description\n",
        "\n",
        "---\n",
        "The if statements are used to check against some conditions along the code. The basic form of an *if* statement allows a program to make decisions based on conditions using comparison operators. These operators include equal to (==), not equal to (!=), greater than (>), less than (<), greater than or equal to (>=), and less than or equal to (<=). The if statement evaluates the condition, and if it is true, it executes the indented block of code beneath it. For more information check the Section 2."
      ],
      "metadata": {
        "id": "_YxscTcmZatG"
      }
    },
    {
      "cell_type": "markdown",
      "source": [
        "Syntax\n",
        "\n",
        "---\n",
        "          if (comparison statement): block of code"
      ],
      "metadata": {
        "id": "uBFUQQCEaYp3"
      }
    },
    {
      "cell_type": "markdown",
      "source": [
        "Examples\n",
        "\n",
        "---"
      ],
      "metadata": {
        "id": "UjTAayYuakA-"
      }
    },
    {
      "cell_type": "code",
      "source": [
        "# A simple example of an if statement with a comparison operator\n",
        "# Comparison operators: ==, !=, >, <, >=, <=\n",
        "\n",
        "myVariable = 5\n",
        "\n",
        "if myVariable == 5: print(\"My integer variable is :\", myVariable)"
      ],
      "metadata": {
        "id": "PaV2F5orCdL1"
      },
      "execution_count": null,
      "outputs": []
    },
    {
      "cell_type": "code",
      "source": [
        "# A simple example of an if statement with a comparison operator\n",
        "# Comparison operators: ==, !=, >, <, >=, <=\n",
        "\n",
        "myVariable = -5\n",
        "\n",
        "if myVariable != 5: print(\"My integer variable is :\", myVariable)"
      ],
      "metadata": {
        "id": "1liJ9hghEN-y"
      },
      "execution_count": null,
      "outputs": []
    },
    {
      "cell_type": "code",
      "source": [
        "# A simple example of an if statement with a comparison operator\n",
        "# Comparison operators: ==, !=, >, <, >=, <=\n",
        "\n",
        "myFirstVariable = 10.0\n",
        "\n",
        "if (myFirstVariable > 9.99): print(\"True\")"
      ],
      "metadata": {
        "id": "oRWucK3we3g6"
      },
      "execution_count": null,
      "outputs": []
    },
    {
      "cell_type": "markdown",
      "source": [
        "Note\n",
        "\n",
        "---\n",
        "You can compare integers with floats directly since both types are considered numeric types and can be evaluated using comarison operators. For example, if 10==10.0: will evaluate to True value. If you compare 10.0 and 9.99999 in if statement, Python uses standard floating-point comparison. The 10.0 is indeed greater than 9.99999, however, it is important to be catious due to possible rounding errors. For every close values, direct comparison might not behave as expected. To safely check if two floats are approximitely equal, it is better to use a small tolerance: if abs(10.0-9.99999) < 1E-5: print('Almost equal')"
      ],
      "metadata": {
        "id": "zpMXmm3LarZL"
      }
    },
    {
      "cell_type": "markdown",
      "source": [
        "if ... statement with arithmetic, comparison, and assignment operators\n",
        "---"
      ],
      "metadata": {
        "id": "HfP7hrlLFgz7"
      }
    },
    {
      "cell_type": "markdown",
      "source": [
        "Description\n",
        "\n",
        "---\n",
        "*if* statements can include expressions that combine arithmetic, comparison, and assignment operators to form condition-makin. Arithmetic operators, see Section 2, can be used to perform calculations within the condition. Comparison operators are used to evaluate the results of those calculations. Finally, the assignemnt operators are not allowed directly within the condition itself. The assignemnt must be done beforehand.\n",
        "\n",
        "The wolrus operator (:=) is a special assignment expression that allows you to assign a value to a variable as a part of an expression, within an *if* statement. This operator combines assignment and evaluation in a single step. It is useful when you want to both use and test the result of an expression in the same line."
      ],
      "metadata": {
        "id": "VbokiUzmd39U"
      }
    },
    {
      "cell_type": "markdown",
      "source": [
        "Syntax\n",
        "\n",
        "---\n",
        "          if (arithmetic comparison): block of code"
      ],
      "metadata": {
        "id": "t4QrWYskEeRY"
      }
    },
    {
      "cell_type": "markdown",
      "source": [
        "Examples\n",
        "\n",
        "---"
      ],
      "metadata": {
        "id": "-nt5iiHHfsZc"
      }
    },
    {
      "cell_type": "code",
      "source": [
        "# if ... statements with arithmetic ( % ) and comparison ( == ) operators\n",
        "\n",
        "myFirstVariable  = 20\n",
        "\n",
        "if ( myFirstVariable % 2 == 0 ): print(\"myFirstVariable is an even number\" )"
      ],
      "metadata": {
        "id": "arypVhlrfb87"
      },
      "execution_count": null,
      "outputs": []
    },
    {
      "cell_type": "code",
      "source": [
        "# if ... statements with arithmetic ( // ) and comparison ( == ) operators\n",
        "\n",
        "mySecondVariable = 19\n",
        "\n",
        "if (mySecondVariable // 2 == 9): print(\"Floor division rounds the result down to the nearest whole number\")"
      ],
      "metadata": {
        "id": "AMyqN1V9Fq90"
      },
      "execution_count": null,
      "outputs": []
    },
    {
      "cell_type": "code",
      "source": [
        "# if x = 5: print('x is 5') Illegal statement since assignment operator (=) is used\n",
        "\n",
        "if (x:=5) > 4: print(f\"x is {x} and greater than 4\")"
      ],
      "metadata": {
        "id": "hKqbVehPgYi4"
      },
      "execution_count": null,
      "outputs": []
    },
    {
      "cell_type": "code",
      "source": [
        "# if ... statements with arithmetic ( ** ), comparison ( >= ), and walrus ( := ) operators\n",
        "\n",
        "mySecondVariable = 2\n",
        "\n",
        "if ((myTest := mySecondVariable ** 8) >= 256): print (\"Exponentiation test :\", myTest)"
      ],
      "metadata": {
        "id": "uPb_fhTZNnDF"
      },
      "execution_count": null,
      "outputs": []
    },
    {
      "cell_type": "markdown",
      "source": [
        "if ... statement with arithmetic, comparison, and logical operators\n",
        "---"
      ],
      "metadata": {
        "id": "id_EExL739c4"
      }
    },
    {
      "cell_type": "markdown",
      "source": [
        "Description\n",
        "\n",
        "---\n",
        "*if* statements can combine arithmetic, comparison, and logical operators to create more complex conditions. Arithmetic operators perform calculations within the condition, comparison operators are used to evaluate relationships between values, logical operators allow you to combine multiple conditions. This combination gives you powerful control over program flow, enabling decisions based on multiple factors in a single *if* statement."
      ],
      "metadata": {
        "id": "q2RcB8IHBS59"
      }
    },
    {
      "cell_type": "markdown",
      "source": [
        "Syntax\n",
        "\n",
        "---\n",
        "          if (arithmetic comparison logical ...): block of code"
      ],
      "metadata": {
        "id": "uOdLMIIwEzDk"
      }
    },
    {
      "cell_type": "markdown",
      "source": [
        "Examples\n",
        "\n",
        "---"
      ],
      "metadata": {
        "id": "bpCQ_wd0CBfM"
      }
    },
    {
      "cell_type": "code",
      "source": [
        "# if ... statements with arithmetic ( % ), comparison ( == ), and logical ( and ) operators\n",
        "\n",
        "myFirstVariable = 20\n",
        "mySecondVariable = 40\n",
        "\n",
        "if (myFirstVariable % 2 == 0 and mySecondVariable % 2 == 0 ): print(\"Both conditions must be True\")"
      ],
      "metadata": {
        "id": "BcgB9QzaG1h_"
      },
      "execution_count": null,
      "outputs": []
    },
    {
      "cell_type": "code",
      "source": [
        "# if ... statements with arithmetic ( % ), comparison ( == ), and logical ( or ) operators\n",
        "\n",
        "myFirstVariable = 20\n",
        "mySecondVariable = 41\n",
        "\n",
        "if (myFirstVariable % 2 == 0 or mySecondVariable % 2 == 0 ): print(\"One condition is sufficient to be True\")\n"
      ],
      "metadata": {
        "id": "MX4NH0AjHyWU"
      },
      "execution_count": null,
      "outputs": []
    },
    {
      "cell_type": "code",
      "source": [
        "# if ... statements with arithmetic ( % ), comparison ( == ), and logical ( not ) operators\n",
        "\n",
        "myFirstVariable = 20\n",
        "\n",
        "if (not myFirstVariable % 2 == 1): print (\"The condition is reversed\")"
      ],
      "metadata": {
        "id": "HZlx3S764CmB"
      },
      "execution_count": null,
      "outputs": []
    },
    {
      "cell_type": "markdown",
      "source": [
        "Nested if ... statement\n",
        "---"
      ],
      "metadata": {
        "id": "5AontZ7IiJgG"
      }
    },
    {
      "cell_type": "markdown",
      "source": [
        "Description\n",
        "\n",
        "---\n",
        "Nested *if* statements allow for checking multiple conditions in a hierarchical manner, where the inner condition is only evaluated if the outer condition is true. Nested *if* statements are useful when decisions depend on previous conditions, helping to create clear and structured logic. However, they should be used with care to avoid overly deep nesting, which can make code harder to read and maintain."
      ],
      "metadata": {
        "id": "eGKVl6TwCQLB"
      }
    },
    {
      "cell_type": "markdown",
      "source": [
        "Syntax\n",
        "\n",
        "---\n",
        "          if condition:\n",
        "              if condition:\n",
        "                  block of code"
      ],
      "metadata": {
        "id": "pl-eeidRFCYG"
      }
    },
    {
      "cell_type": "markdown",
      "source": [
        "Examples\n",
        "\n",
        "---"
      ],
      "metadata": {
        "id": "troQPPgRDLFb"
      }
    },
    {
      "cell_type": "code",
      "source": [
        "# Nested if statements\n",
        "\n",
        "myFirstVariable  = 10\n",
        "mySecondVariable = 20\n",
        "\n",
        "if (myFirstVariable == 10):\n",
        "  print(\"My first variable is :\", myFirstVariable)\n",
        "  if (mySecondVariable == 20):\n",
        "    print(\"My second variable is :\", mySecondVariable)"
      ],
      "metadata": {
        "id": "AfZy51B5DO3x"
      },
      "execution_count": null,
      "outputs": []
    },
    {
      "cell_type": "code",
      "source": [
        "# Nested if statements\n",
        "\n",
        "myFirstVariable  = 10\n",
        "mySecondVariable = 20\n",
        "myThirdVariable  = 30\n",
        "\n",
        "if (myFirstVariable == 10):\n",
        "  print(\"My first variable is :\", myFirstVariable)\n",
        "  if (mySecondVariable == 20):\n",
        "    print(\"My second variable is :\", mySecondVariable)\n",
        "    if (myThirdVariable == 30):\n",
        "      print(\"My third variable is :\", myThirdVariable)"
      ],
      "metadata": {
        "id": "C5qQknMTlK-w"
      },
      "execution_count": null,
      "outputs": []
    },
    {
      "cell_type": "markdown",
      "source": [
        "if ... else statement\n",
        "---"
      ],
      "metadata": {
        "id": "AzboK5Nmc9lr"
      }
    },
    {
      "cell_type": "markdown",
      "source": [
        "Description\n",
        "\n",
        "---\n",
        "*if ...else* statement are used to execute one block of code if a condition is True and a different block of code if the condition is False. This allows a program to handle two possible outcomes. This statement is a fundamental part of decision-making in Python program."
      ],
      "metadata": {
        "id": "JYBdVUyEGR0S"
      }
    },
    {
      "cell_type": "markdown",
      "source": [
        "![ALL_STATEMENTS_002.png](data:image/png;base64,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)"
      ],
      "metadata": {
        "id": "v2oHakDh72MC"
      }
    },
    {
      "cell_type": "markdown",
      "source": [
        "Syntax\n",
        "\n",
        "---\n",
        "          if condition:\n",
        "              block of code\n",
        "          else:\n",
        "              block of code"
      ],
      "metadata": {
        "id": "31sN9AUrG874"
      }
    },
    {
      "cell_type": "markdown",
      "source": [
        "if ... else statement with comparison operators\n",
        "---"
      ],
      "metadata": {
        "id": "9c5PyrvVzq4Z"
      }
    },
    {
      "cell_type": "markdown",
      "source": [
        "Description\n",
        "\n",
        "---\n",
        "*if...else* statements can be combined with comparison operators to make decisions based on how values relate to each other. Depending on the results, the program executes one of two code blocks. This structure is essential for controlling program flow based on specific comparisons."
      ],
      "metadata": {
        "id": "4Uyl1UwRHefJ"
      }
    },
    {
      "cell_type": "markdown",
      "source": [
        "Syntax\n",
        "\n",
        "---\n",
        "          See examples below"
      ],
      "metadata": {
        "id": "cPXAQCeupAb0"
      }
    },
    {
      "cell_type": "markdown",
      "source": [
        "Examples\n",
        "\n",
        "___"
      ],
      "metadata": {
        "id": "9K-8GDTkIEaP"
      }
    },
    {
      "cell_type": "code",
      "source": [
        "# Equal to comparison operator: ==\n",
        "\n",
        "myFirstVariable  = 0.0\n",
        "mySecondVariable = 1.0\n",
        "\n",
        "if myFirstVariable == mySecondVariable:\n",
        "  print(\"First condition is True\")\n",
        "else:\n",
        "  print(\"First Condition is False\")"
      ],
      "metadata": {
        "id": "72GQqJDkYAlL"
      },
      "execution_count": null,
      "outputs": []
    },
    {
      "cell_type": "code",
      "source": [
        "# Not equal to comparison operator: !=\n",
        "\n",
        "myFirstVariable  = 1.0\n",
        "mySecondVariable = 1.0\n",
        "\n",
        "if myFirstVariable != mySecondVariable:\n",
        "  print(\"First condition is True\")\n",
        "else:\n",
        "  print(\"First condition is False\")"
      ],
      "metadata": {
        "id": "eEqEBvSEYLqb"
      },
      "execution_count": null,
      "outputs": []
    },
    {
      "cell_type": "code",
      "source": [
        "# Greater than comparison operator: >\n",
        "\n",
        "myFirstVariable  = 1.0\n",
        "mySecondVariable = 1.0\n",
        "\n",
        "if myFirstVariable > mySecondVariable:\n",
        "  print(\"First condition is True\")\n",
        "else:\n",
        "  print(\"First Condition is False\")"
      ],
      "metadata": {
        "id": "lX72d5SJSVOK"
      },
      "execution_count": null,
      "outputs": []
    },
    {
      "cell_type": "code",
      "source": [
        "# Less than comparison operator: <\n",
        "\n",
        "myFirstVariable  = 1.0\n",
        "mySecondVariable = 1.0\n",
        "\n",
        "if myFirstVariable > mySecondVariable:\n",
        "  print(\"First condition is True\")\n",
        "else:\n",
        "  print(\"First Condition is False\")"
      ],
      "metadata": {
        "id": "x8Up6YBhSvnr"
      },
      "execution_count": null,
      "outputs": []
    },
    {
      "cell_type": "code",
      "source": [
        "# Greater than or equal to comparison operator: >=\n",
        "\n",
        "myFirstVariable  = 1.0\n",
        "mySecondVariable = 1.0\n",
        "\n",
        "if myFirstVariable >= mySecondVariable:\n",
        "  print(\"First condition is True\")\n",
        "else:\n",
        "  print(\"First Condition is False\")"
      ],
      "metadata": {
        "id": "VgG7LVQFSzTV"
      },
      "execution_count": null,
      "outputs": []
    },
    {
      "cell_type": "code",
      "source": [
        "# Less than or equal to comparison operator: <=\n",
        "\n",
        "myFirstVariable  = 1.0\n",
        "mySecondVariable = 1.0\n",
        "\n",
        "if myFirstVariable <= mySecondVariable:\n",
        "  print(\"First condition is True\")\n",
        "else:\n",
        "  print(\"First Condition is False\")"
      ],
      "metadata": {
        "id": "eSQ4W84gTDFO"
      },
      "execution_count": null,
      "outputs": []
    },
    {
      "cell_type": "code",
      "source": [
        "# Short hand example 1\n",
        "\n",
        "myFirstVariable  = 1.0\n",
        "mySecondVariable = 1.0\n",
        "\n",
        "if myFirstVariable <= mySecondVariable: print(\"First condition is True\")\n",
        "else: print(\"First Condition is False\")"
      ],
      "metadata": {
        "id": "QvYoGjp7TTsn"
      },
      "execution_count": null,
      "outputs": []
    },
    {
      "cell_type": "code",
      "source": [
        "# Short hand example 2\n",
        "\n",
        "myFirstVariable  = 1.0\n",
        "mySecondVariable = 2.0\n",
        "\n",
        "print(\"True\") if myFirstVariable == mySecondVariable else print(\"False\")"
      ],
      "metadata": {
        "id": "utE1Y3HzTk_I"
      },
      "execution_count": null,
      "outputs": []
    },
    {
      "cell_type": "code",
      "source": [
        "# Short hand example 3\n",
        "\n",
        "myFirstVariable  = 1.0\n",
        "mySecondVariable = 2.0\n",
        "\n",
        "print(\"True\") if myFirstVariable <= mySecondVariable and myFirstVariable > 0 else print(\"False\")"
      ],
      "metadata": {
        "id": "as7I0AofeLSa"
      },
      "execution_count": null,
      "outputs": []
    },
    {
      "cell_type": "code",
      "source": [
        "# Short hand example 4\n",
        "\n",
        "myFirstVariable  = 1.0\n",
        "mySecondVariable = 2.0\n",
        "\n",
        "print(\"True\") if (myTestVariable:= myFirstVariable + 2.0) <= mySecondVariable and myFirstVariable > 0 else print(\"False\")"
      ],
      "metadata": {
        "id": "MGY4w6_keqCr"
      },
      "execution_count": null,
      "outputs": []
    },
    {
      "cell_type": "markdown",
      "source": [
        "if ... else statement with arithmetic and comparison operators\n",
        "---"
      ],
      "metadata": {
        "id": "7iT5_NSDDttP"
      }
    },
    {
      "cell_type": "markdown",
      "source": [
        "Description\n",
        "\n",
        "---\n",
        "*if ...else* statements can use both arithmetic and comparison operators to make decisions based on calculated values. Arithmetic operators perform mathematical operations, while comparison operators will compare the results. You can use arithmetic and comparison operators within the if ... else statements to create conditional logic, based on mathematical operations and comparisons."
      ],
      "metadata": {
        "id": "H0BEhNg9IgTM"
      }
    },
    {
      "cell_type": "markdown",
      "source": [
        "Syntax\n",
        "\n",
        "---\n",
        "          See examples below"
      ],
      "metadata": {
        "id": "_citTBYqJBO0"
      }
    },
    {
      "cell_type": "markdown",
      "source": [
        "Examples\n",
        "\n",
        "---"
      ],
      "metadata": {
        "id": "9xRlUcneI_LY"
      }
    },
    {
      "cell_type": "code",
      "source": [
        "# if ... else statements with arithmetic ( + ) and comparison ( == ) operators\n",
        "\n",
        "myFirstVariable = 10\n",
        "\n",
        "if (myFirstVariable + myFirstVariable == 5): print(\"The value is 5\")\n",
        "else: print(\"The value is 10\")"
      ],
      "metadata": {
        "id": "EeXiXiMcfMkz"
      },
      "execution_count": null,
      "outputs": []
    },
    {
      "cell_type": "code",
      "source": [
        "# if ... else statements with arithmetic ( % ) and comparison ( == ) operators\n",
        "\n",
        "myFirstVariable = 10\n",
        "\n",
        "if (myFirstVariable % 2 == 0): print(\"My variable is an even number\")\n",
        "else: print(\"My variable is an odd number\")"
      ],
      "metadata": {
        "id": "IP_hJ45UgJeX"
      },
      "execution_count": null,
      "outputs": []
    },
    {
      "cell_type": "code",
      "source": [
        "# if ... else statements with arithmetic ( // ) and comparison ( == ) operators\n",
        "\n",
        "myFirstVariable = 52\n",
        "\n",
        "if (myFirstVariable // 10 == 1): print(\"Floor division rounds the result down to the nearest whole number\")\n",
        "else: print(\"The result of the floor division is another number :\", myFirstVariable // 10)"
      ],
      "metadata": {
        "id": "5tEJgQJhE2Rv"
      },
      "execution_count": null,
      "outputs": []
    },
    {
      "cell_type": "markdown",
      "source": [
        "if ... else statement with arithmetic, comparison, and logical operators\n",
        "---"
      ],
      "metadata": {
        "id": "yB7XOfbOz4c7"
      }
    },
    {
      "cell_type": "markdown",
      "source": [
        "Description\n",
        "\n",
        "---\n",
        "*if...else* statements can combine arithmetic, comparison, and logical operators to create complex decision-making conditions. You can use arithmetic, comparison and logical operators within the if ... else statements to create conditional logic, based on mathematical operations and comparisons."
      ],
      "metadata": {
        "id": "DrDfbOjuJY04"
      }
    },
    {
      "cell_type": "markdown",
      "source": [
        "Syntax\n",
        "\n",
        "---\n",
        "          See examples below"
      ],
      "metadata": {
        "id": "-ZbKWIhuJv0u"
      }
    },
    {
      "cell_type": "markdown",
      "source": [
        "Examples\n",
        "\n",
        "---"
      ],
      "metadata": {
        "id": "BlcLSZQVJtmS"
      }
    },
    {
      "cell_type": "code",
      "source": [
        "# if ... else statements with arithmetic ( % ), comparison ( == ), and logical ( and ) operators\n",
        "\n",
        "myFirstVariable  = 10.0\n",
        "mySecondVariable = 20.0\n",
        "\n",
        "if (myFirstVariable % 2 == 0 and mySecondVariable % 2 == 0):\n",
        "  print(\"Both conditions are True\")\n",
        "else:\n",
        "  print(\"One of these conditions is False \")"
      ],
      "metadata": {
        "id": "MUimBa2Y0ELU"
      },
      "execution_count": null,
      "outputs": []
    },
    {
      "cell_type": "code",
      "source": [
        "# if ... else statements with arithmetic ( + ), comparison ( > ), and logical ( or ) operators\n",
        "\n",
        "myFirstVariable  = 10.0\n",
        "mySecondVariable = 20.0\n",
        "\n",
        "if (myFirstVariable + mySecondVariable > 20.0 or mySecondVariable > 20.0):\n",
        "  print(\"One of these conditions is True\")\n",
        "else:\n",
        "  print(\"None of these conditions is True\")"
      ],
      "metadata": {
        "id": "dDP-9QLX0-Jg"
      },
      "execution_count": null,
      "outputs": []
    },
    {
      "cell_type": "code",
      "source": [
        "# if ... else statements with arithmetic ( * ), comparison ( == ), and logical ( not ) operators\n",
        "\n",
        "myFirstVariable =  2.0\n",
        "myThirdVariable = 20.0\n",
        "\n",
        "if not myFirstVariable * 100 == myThirdVariable:\n",
        "  print(\"This condition is True\")\n",
        "else:\n",
        "  print(\"The condition is False\")"
      ],
      "metadata": {
        "id": "w5ZWafmIUvlW"
      },
      "execution_count": null,
      "outputs": []
    },
    {
      "cell_type": "markdown",
      "source": [
        "Nested if ... else statement\n",
        "---"
      ],
      "metadata": {
        "id": "fZdbP2Fjx6TJ"
      }
    },
    {
      "cell_type": "markdown",
      "source": [
        "Description\n",
        "\n",
        "---\n",
        "Nested *if...else* statements allow you to place one *if ... else* block inside another, enabling the program to make more specific decisions based on multiple levels of conditions. This structure is useful when a decision depends on a previous condition being True or False. It allows you to create more complex conditional logic and test multiple conditions in your code. Here are two examples of nested if ... else statements."
      ],
      "metadata": {
        "id": "yinyf47GKAgU"
      }
    },
    {
      "cell_type": "markdown",
      "source": [
        "Syntax\n",
        "\n",
        "---\n",
        "      See examples below"
      ],
      "metadata": {
        "id": "GIjOxR4HKpqk"
      }
    },
    {
      "cell_type": "markdown",
      "source": [
        "Examples\n",
        "\n",
        "---"
      ],
      "metadata": {
        "id": "U727duNsKn4l"
      }
    },
    {
      "cell_type": "code",
      "source": [
        "# Nested if ... else statement\n",
        "\n",
        "myFirstVariable  = 10\n",
        "mySecondVariable = 30\n",
        "\n",
        "if (myFirstVariable == 10):\n",
        "  print(\"My first variable is :\", myFirstVariable)\n",
        "\n",
        "  if (mySecondVariable == 20):\n",
        "    print(\"My second variable is :\", mySecondVariable)\n",
        "\n",
        "  else:\n",
        "    print(\"My second variable is :\", mySecondVariable)\n",
        "\n"
      ],
      "metadata": {
        "id": "lY19AjaLp1cX"
      },
      "execution_count": null,
      "outputs": []
    },
    {
      "cell_type": "code",
      "source": [
        "# Nested if ... else statement\n",
        "\n",
        "myFirstVariable  = \"A\"\n",
        "mySecondVariable = \"B\"\n",
        "\n",
        "if (myFirstVariable == \"A\"):\n",
        "  print(\"My first variable is :\", myFirstVariable)\n",
        "\n",
        "  if (mySecondVariable == \"B\"):\n",
        "    print(\"My second variable is :\", mySecondVariable)\n",
        "\n",
        "  else:\n",
        "    print(\"My second variable is :\", mySecondVariable)\n",
        "\n",
        "else:\n",
        "  print(\"My first variable is :\", myFirstVariable)"
      ],
      "metadata": {
        "id": "sgTk-aK1rGho"
      },
      "execution_count": null,
      "outputs": []
    },
    {
      "cell_type": "markdown",
      "source": [
        "if ... elif ... else statement\n",
        "---"
      ],
      "metadata": {
        "id": "SSgry9qkcX0Z"
      }
    },
    {
      "cell_type": "markdown",
      "source": [
        "Description\n",
        "\n",
        "---\n",
        "The *if...elif...else* statement is used to handle multiple conditions in a clear and structured way. It starts with an *if* condition, followed by one or more *elif* (short for else if) conditions, and ends with optional else block. The program checks each condition in order to execute the block of code for the first condition that is True and skipping the rest. If non of the conditions are True, the else condition will run. This structure is ideal for selecting one outcome from several possibilities without writing multiple nested *if* statements."
      ],
      "metadata": {
        "id": "YSXXnQKfK6KC"
      }
    },
    {
      "cell_type": "markdown",
      "source": [
        "![IF_STATEMENTS_ALL.png](data:image/png;base64,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)"
      ],
      "metadata": {
        "id": "39tHOfGSh66I"
      }
    },
    {
      "cell_type": "markdown",
      "source": [
        "Syntax\n",
        "\n",
        "---\n",
        "          if condition1:\n",
        "              block of code\n",
        "          elif condition2:\n",
        "              block of code\n",
        "          else:\n",
        "              block of code"
      ],
      "metadata": {
        "id": "87K58NutL44T"
      }
    },
    {
      "cell_type": "markdown",
      "source": [
        "if ... elif ... else statement with comparison operators\n",
        "---"
      ],
      "metadata": {
        "id": "sOSYXwZHyavr"
      }
    },
    {
      "cell_type": "markdown",
      "source": [
        "Description\n",
        "\n",
        "---\n",
        "The *if...elif...else* statement can be combined with comparison operators to make decision based on multiple conditions. Comparison operators will be used to evaluate the relationship between values, allowing the program to execute different code blocks depending on the result. The conditions are evaluated in order and only the first true condition executes. If non of the conditions are True, the else block will be executed, providing a default action.   "
      ],
      "metadata": {
        "id": "BpTfjKn0Mp_j"
      }
    },
    {
      "cell_type": "markdown",
      "source": [
        "Syntax\n",
        "\n",
        "---\n",
        "          See examples below"
      ],
      "metadata": {
        "id": "9F-bFbOcNgJA"
      }
    },
    {
      "cell_type": "markdown",
      "source": [
        "Examples\n",
        "\n",
        "---"
      ],
      "metadata": {
        "id": "ctsb1e0xNeK7"
      }
    },
    {
      "cell_type": "code",
      "source": [
        "# if ... elif ... else statements with comparison ( == ) and ( < ) operators\n",
        "# First condition is true\n",
        "\n",
        "myFirstVariable  = \"A\"\n",
        "mySecondVariable = \"B\"\n",
        "\n",
        "if ( myFirstVariable == \"A\" ):\n",
        "  print(\"First condition is True\")\n",
        "\n",
        "elif ( myFirstVariable < mySecondVariable ):\n",
        "  print(\"Second condition is True\")\n",
        "\n",
        "else:\n",
        "  print(\"All conditions are False\")\n",
        "\n",
        "print (\"Out of if ... statement\")"
      ],
      "metadata": {
        "id": "lAbgucsvi70W"
      },
      "execution_count": null,
      "outputs": []
    },
    {
      "cell_type": "code",
      "source": [
        "# if ... elif ... else statements with comparison ( == ) and ( < ) operators\n",
        "# Second condition is true\n",
        "\n",
        "myFirstVariable  = \"a\"\n",
        "mySecondVariable = \"b\"\n",
        "\n",
        "if ( myFirstVariable == \"A\" ):\n",
        "  print(\"First condition is True\")\n",
        "\n",
        "elif ( myFirstVariable < mySecondVariable ):\n",
        "  print(\"Second condition is True\")\n",
        "\n",
        "else:\n",
        "  print(\"All conditions are False\")\n",
        "\n",
        "print (\"Out of if ... statement\")"
      ],
      "metadata": {
        "id": "_e0PUEAkFfZD"
      },
      "execution_count": null,
      "outputs": []
    },
    {
      "cell_type": "code",
      "source": [
        "# if ... elif ... else statements with comparison ( == ) and ( < ) operators\n",
        "# All conditions are false, executing the else statement\n",
        "\n",
        "myFirstVariable  = \"a\"\n",
        "mySecondVariable = \"a\"\n",
        "\n",
        "if ( myFirstVariable == \"A\" ):\n",
        "  print(\"First condition is True\")\n",
        "\n",
        "elif ( myFirstVariable < mySecondVariable ):\n",
        "  print(\"Second condition is True\")\n",
        "\n",
        "else:\n",
        "  print(\"All conditions are False\")\n",
        "\n",
        "print (\"Out of if ... statement\")"
      ],
      "metadata": {
        "id": "OxSGjmscGZGe"
      },
      "execution_count": null,
      "outputs": []
    },
    {
      "cell_type": "code",
      "source": [
        "# if ... elif ... else statements with comparison ( == ) and ( > ) operators\n",
        "\n",
        "myFirstVariable  = -1\n",
        "mySecondVariable = 2\n",
        "\n",
        "if ( myFirstVariable ==  0 ):\n",
        "  print(\"My first variable equals to zero\")\n",
        "\n",
        "elif ( myFirstVariable > 1 ):\n",
        "  print(\"My first variable is greater than one\")\n",
        "\n",
        "elif ( myFirstVariable == mySecondVariable ):\n",
        "  print(\"My first variable is equal to my second variable\")\n",
        "\n",
        "else:\n",
        "  print(\"My first variable is less than zero\")"
      ],
      "metadata": {
        "id": "eitthnAjqOpi"
      },
      "execution_count": null,
      "outputs": []
    },
    {
      "cell_type": "markdown",
      "source": [
        "if ... elif ... else statement with comparison and logical operators\n",
        "---"
      ],
      "metadata": {
        "id": "NlnLLHa_uDds"
      }
    },
    {
      "cell_type": "markdown",
      "source": [
        "Description\n",
        "\n",
        "---\n",
        "The *if...elif...else* statement can be enhanced with comparison and logical operators to create more complex decision-making conditions. Comparison operators can be used to evaluate relatinships between values, while logical operators allow for combining multiple conditions. This type of structure enables the program to handle multiple criteria and execute the appropriate code block based on more refined conditions."
      ],
      "metadata": {
        "id": "9vflqClYN-yd"
      }
    },
    {
      "cell_type": "markdown",
      "source": [
        "Syntax\n",
        "\n",
        "---\n",
        "          See examples below"
      ],
      "metadata": {
        "id": "xz6Hv7Z2Ou2T"
      }
    },
    {
      "cell_type": "markdown",
      "source": [
        "Examples\n",
        "\n",
        "---"
      ],
      "metadata": {
        "id": "iWMjfxp6Os7y"
      }
    },
    {
      "cell_type": "code",
      "source": [
        "# if ... elif ... else statements with comparison ( == ), ( > ), and (>=) and logical ( and ), ( or ), and ( not ) operators\n",
        "\n",
        "myFirstVariable  = 2\n",
        "mySecondVariable = 2\n",
        "\n",
        "if ( myFirstVariable == mySecondVariable and myFirstVariable < 0 ):\n",
        "  print(\"Both conditions must be True\")\n",
        "\n",
        "elif ( myFirstVariable > mySecondVariable or myFirstVariable > 2):\n",
        "  print(\"Only one condition must be True\")\n",
        "\n",
        "elif ( not myFirstVariable >= mySecondVariable ):\n",
        "  print(\"One condition should be True\")\n",
        "\n",
        "else:\n",
        "  print(\"All conditions are False\")"
      ],
      "metadata": {
        "id": "PzZAMYlvs1YP"
      },
      "execution_count": null,
      "outputs": []
    },
    {
      "cell_type": "markdown",
      "source": [
        "Nested if ... elif ... else statement\n",
        "---"
      ],
      "metadata": {
        "id": "y3XKniIwtx_L"
      }
    },
    {
      "cell_type": "markdown",
      "source": [
        "Description\n",
        "\n",
        "---\n",
        "A nested *if...elif...else* statement is a control structure where an *if*, *elif*, or *else* block is placed inside another. Thsi structure allows to evaluate multiple levels of conditions. Nested *if...elif...else* statements are useful for evaluating more detailed or hierarchical conditions, but should be used carefully to avoid making a very complicated structures."
      ],
      "metadata": {
        "id": "tKKfbhT0O_Q6"
      }
    },
    {
      "cell_type": "markdown",
      "source": [
        "Syntax\n",
        "\n",
        "---\n",
        "          See examples below"
      ],
      "metadata": {
        "id": "OnP2QN1pPy-X"
      }
    },
    {
      "cell_type": "markdown",
      "source": [
        "Examples\n",
        "\n",
        "---"
      ],
      "metadata": {
        "id": "wJge6ZdJPu8l"
      }
    },
    {
      "cell_type": "code",
      "source": [
        "# Nested if ... elif ... else statements with comparison operators\n",
        "\n",
        "myFirstVariable  = 1\n",
        "mySecondVariable = 2\n",
        "myThirdVariable  = 3\n",
        "\n",
        "if ( myFirstVariable < mySecondVariable ):\n",
        "\n",
        "    if ( myFirstVariable > myThirdVariable):\n",
        "      print(\"My first variable is < my second variable but > my third variable\")\n",
        "\n",
        "    elif ( myFirstVariable == myThirdVariable):\n",
        "      print(\"My first variable is < my second variable but == to my third variable\")\n",
        "\n",
        "    elif ( myFirstVariable < myThirdVariable):\n",
        "      print(\"My first variable is < my second variable and < my third variable\")\n",
        "\n",
        "elif ( myFirstVariable == mySecondVariable):\n",
        "  print(\"My first variable is == to my second variable\")\n",
        "\n",
        "else:\n",
        "  print(\"My first variable is greater than my second and my third variables\")"
      ],
      "metadata": {
        "id": "J0oBb9LZhdIJ"
      },
      "execution_count": null,
      "outputs": []
    },
    {
      "cell_type": "markdown",
      "source": [
        "4.2 For loops\n",
        "---"
      ],
      "metadata": {
        "id": "H8Dj1zvhkvvG"
      }
    },
    {
      "cell_type": "markdown",
      "source": [
        "Description\n",
        "\n",
        "---\n",
        "A *for* loop is used to iterate over a sequence ( such as a list, tuple, string, or range collections) and execute a block of code repeatedly for each item in the sequence. It is one of the most commonly used loops in Python due to its simplicity and readability. The loop begins with the *for* keyword, followed by a variable that represents the current item in the sequence, and the *in* keyword to specify the sequence. The block of code to be executed is indented underneath. A *for* loop is practicaly useful when you know the number of iterations or want to process every item in a collection without manually indexing each element."
      ],
      "metadata": {
        "id": "9tKefx77SJ0z"
      }
    },
    {
      "cell_type": "markdown",
      "source": [
        "Syntax\n",
        "\n",
        "---\n",
        "          for item in sequence:\n",
        "              block of code"
      ],
      "metadata": {
        "id": "FPgqaRH0TaX9"
      }
    },
    {
      "cell_type": "markdown",
      "source": [
        "For loop\n",
        "---"
      ],
      "metadata": {
        "id": "Kcq1A-n4wheh"
      }
    },
    {
      "cell_type": "markdown",
      "source": [
        "Description\n",
        "\n",
        "---\n",
        "\n",
        "A *for* loop is an iterative function that allows you to iterate over a data sequence. There are two keywords in the for loop structure: \"for\" and \"in\". The for loop statement will access each element of the sequence at each iteration. The loop will continue iterating until it reaches the last element of a sequence."
      ],
      "metadata": {
        "id": "JgYJKhifTqKq"
      }
    },
    {
      "cell_type": "markdown",
      "source": [
        "Syntax\n",
        "\n",
        "---\n",
        "          See examples below"
      ],
      "metadata": {
        "id": "99yD8nEopbMw"
      }
    },
    {
      "cell_type": "markdown",
      "source": [
        "Examples\n",
        "\n",
        "---"
      ],
      "metadata": {
        "id": "f2Ww-NdBTyk5"
      }
    },
    {
      "cell_type": "code",
      "source": [
        "# A for loop example with a dummy pass statement\n",
        "\n",
        "for i in range(10): pass"
      ],
      "metadata": {
        "id": "ml_dnuRmwS-O"
      },
      "execution_count": null,
      "outputs": []
    },
    {
      "cell_type": "code",
      "source": [
        "# A for loop example with range function\n",
        "\n",
        "for i in range(10): print(i, end = \" \")"
      ],
      "metadata": {
        "id": "sHvBMCRIwVd1"
      },
      "execution_count": null,
      "outputs": []
    },
    {
      "cell_type": "code",
      "source": [
        "# A for loop example using my fish list\n",
        "\n",
        "myFishList = [\"Bass\", \"Red Snapper\", \"Karp\", \"Pike\", \"Perch\"]\n",
        "\n",
        "for name in myFishList: print(name, end = \"; \")"
      ],
      "metadata": {
        "id": "AbfFgfXLwZAX"
      },
      "execution_count": null,
      "outputs": []
    },
    {
      "cell_type": "markdown",
      "source": [
        "For loop with no elements\n",
        "---"
      ],
      "metadata": {
        "id": "iwVj3gAiSaQK"
      }
    },
    {
      "cell_type": "markdown",
      "source": [
        "Description\n",
        "\n",
        "---\n",
        "When you use underscore (_) in for loop statement it is used as a placeholder for values you want to ignore. Here's an example of a for loop with throwaway variable. It is a convention to use an underscore as a variable name when you would like to iterate over a sequence, but do not want to use the individual elements."
      ],
      "metadata": {
        "id": "_46-bDcIUUC_"
      }
    },
    {
      "cell_type": "markdown",
      "source": [
        "Syntax\n",
        "\n",
        "---\n",
        "          for _ in sequence:\n",
        "             block of code"
      ],
      "metadata": {
        "id": "PFyaUjttpiHE"
      }
    },
    {
      "cell_type": "markdown",
      "source": [
        "Example\n",
        "\n",
        "---"
      ],
      "metadata": {
        "id": "EZLd__kOVEBF"
      }
    },
    {
      "cell_type": "code",
      "source": [
        "# No items in the loop\n",
        "\n",
        "myNumberList = range(3)\n",
        "\n",
        "for _ in myNumberList:\n",
        "  print(\"Hello World!\")"
      ],
      "metadata": {
        "id": "EhnTxEusPhgA"
      },
      "execution_count": null,
      "outputs": []
    },
    {
      "cell_type": "markdown",
      "source": [
        "For loops with data sequences\n",
        "---"
      ],
      "metadata": {
        "id": "c0UlikyYQdW6"
      }
    },
    {
      "cell_type": "markdown",
      "source": [
        "Description\n",
        "\n",
        "---\n",
        "For loops are commonly used to iterate over data sequences like strings, lists, tuples, dictionaries, and sets. These sequences contain multiple elements, and the *for* loop allows you to process each element one at a time. You can loop through strings character by character. You can loop through other structures the same way. Here are a few examples of for loops with data sequences."
      ],
      "metadata": {
        "id": "2Y6IR4Ptqa70"
      }
    },
    {
      "cell_type": "markdown",
      "source": [
        "Syntax\n",
        "\n",
        "---\n",
        "          for item in sequence:\n",
        "              block of code"
      ],
      "metadata": {
        "id": "Jh47N62lqftZ"
      }
    },
    {
      "cell_type": "markdown",
      "source": [
        "Examples\n",
        "\n",
        "---"
      ],
      "metadata": {
        "id": "bHdRll3gqdvB"
      }
    },
    {
      "cell_type": "code",
      "source": [
        "# A for loop with a string\n",
        "\n",
        "for i in \"Bootcamp, May 23rd, 2023\":\n",
        "  print (i, end=\" \")"
      ],
      "metadata": {
        "id": "5yDjzvQYLcqy"
      },
      "execution_count": null,
      "outputs": []
    },
    {
      "cell_type": "code",
      "source": [
        "# A for loop with a number list sequence\n",
        "\n",
        "myListSequence = [ 1, 2, 3, 4, 5 ]\n",
        "\n",
        "for i in myListSequence:\n",
        "  print(i, end = \" \")"
      ],
      "metadata": {
        "id": "vIRGZt6CQoMC"
      },
      "execution_count": null,
      "outputs": []
    },
    {
      "cell_type": "code",
      "source": [
        "# A for loop with a number tuple sequence\n",
        "\n",
        "myTupleSequence = ( 1, 2, 3, 4, 5 )\n",
        "\n",
        "for i in myTupleSequence:\n",
        "  print(i, end = \" \")"
      ],
      "metadata": {
        "id": "QAjj9HaJQMf3"
      },
      "execution_count": null,
      "outputs": []
    },
    {
      "cell_type": "code",
      "source": [
        "# A for loop with a dictionary's keys\n",
        "\n",
        "myDictionarySequence = { \"key 1\":10, \"key 2\":20, \"key 3\":30, \"key 4\":40, \"key 5\":50 }\n",
        "\n",
        "for i in myDictionarySequence:\n",
        "  print(i, end = \" \")"
      ],
      "metadata": {
        "id": "b80upP7LROzT"
      },
      "execution_count": null,
      "outputs": []
    },
    {
      "cell_type": "code",
      "source": [
        "# A for loop with a dictionary's values\n",
        "\n",
        "myDictionary = { \"key 1\":10, \"key 2\":20, \"key 3\":30, \"key 4\":40, \"key 5\":50 }\n",
        "\n",
        "for i in myDictionary:\n",
        "  print(myDictionary[i], end = \" \")"
      ],
      "metadata": {
        "id": "HqH-XEoSJ05H"
      },
      "execution_count": null,
      "outputs": []
    },
    {
      "cell_type": "code",
      "source": [
        "# A for loop with a set sequence\n",
        "\n",
        "mySetList = { 1, 2, 3, 4, 5 }\n",
        "\n",
        "for i in mySetList:\n",
        "  print(i, end = \" \")"
      ],
      "metadata": {
        "id": "qG2rgRNgPzsj"
      },
      "execution_count": null,
      "outputs": []
    },
    {
      "cell_type": "markdown",
      "source": [
        "Dictionary methods with For loops\n",
        "---"
      ],
      "metadata": {
        "id": "-ovdU3uaKYVk"
      }
    },
    {
      "cell_type": "markdown",
      "source": [
        "Description\n",
        "\n",
        "---\n",
        "You can use *for* loops with dictionary methods to efficiently iterate over keys, values, or both. Dictionaries store data in key-value pairs, looping through them allows you to process or analyze each pair. The keys() method lets you loop through just the keys, the values() method loops through the values, and items() method allows you to access both keys and values at the same time. These methods make it easy to navigate and manipulate dictionary data, which is especially useful when dealing with structured informatin like settings, records, or grouped data."
      ],
      "metadata": {
        "id": "D0XYZJDmq2e7"
      }
    },
    {
      "cell_type": "markdown",
      "source": [
        "Syntax\n",
        "\n",
        "---\n",
        "          for item in myDictionary.method():\n",
        "              block of code"
      ],
      "metadata": {
        "id": "sEaLAGs9r1lF"
      }
    },
    {
      "cell_type": "markdown",
      "source": [
        "Examples\n",
        "\n",
        "---"
      ],
      "metadata": {
        "id": "iXoLfGEUrzZK"
      }
    },
    {
      "cell_type": "code",
      "source": [
        "# A for loop with the dictionary keys method: keys()\n",
        "\n",
        "myDictionarySequence = { \"key 1\":10, \"key 2\":20, \"key 3\":30, \"key 4\":40, \"key 5\":50 }\n",
        "\n",
        "for i in myDictionarySequence.keys():\n",
        "  print(i, end = \" \")"
      ],
      "metadata": {
        "id": "bfh2b6PcKgAR"
      },
      "execution_count": null,
      "outputs": []
    },
    {
      "cell_type": "code",
      "source": [
        "# A for loop with the dictionary values method: values()\n",
        "\n",
        "myDictionarySequence = { \"key 1\":10, \"key 2\":20, \"key 3\":30, \"key 4\":40, \"key 5\":50 }\n",
        "\n",
        "for i in myDictionarySequence.values():\n",
        "  print(i, end = \" \")"
      ],
      "metadata": {
        "id": "gZn2kYaVKzdN"
      },
      "execution_count": null,
      "outputs": []
    },
    {
      "cell_type": "code",
      "source": [
        "# A for loop with the dictionary items method: items()\n",
        "\n",
        "myDictionarySequence = { \"key 1\":10, \"key 2\":20, \"key 3\":30, \"key 4\":40, \"key 5\":50 }\n",
        "\n",
        "for i in myDictionarySequence.items():\n",
        "  print(i, end = \" \")"
      ],
      "metadata": {
        "id": "eqmPjR6mK90Z"
      },
      "execution_count": null,
      "outputs": []
    },
    {
      "cell_type": "markdown",
      "source": [
        "For loop with else statement\n",
        "---"
      ],
      "metadata": {
        "id": "ao5O4BwhTQ0O"
      }
    },
    {
      "cell_type": "markdown",
      "source": [
        "Description\n",
        "\n",
        "---\n",
        "A *for* loop can be paired with an *else* statement, which executes after the loop finishes iterating over all items. This feature is often used when searching for an item an needing to perform an action if the item is not found. The *for...else* structure adds a clean way to handle post-loop logic when no early exit occurs."
      ],
      "metadata": {
        "id": "fK0W54RXsKhd"
      }
    },
    {
      "cell_type": "markdown",
      "source": [
        "Syntax\n",
        "\n",
        "---\n",
        "          for item in sequence:\n",
        "              block of code\n",
        "          else\n",
        "              block of code"
      ],
      "metadata": {
        "id": "Pi2CzVaRs0HT"
      }
    },
    {
      "cell_type": "markdown",
      "source": [
        "Examples\n",
        "\n",
        "---"
      ],
      "metadata": {
        "id": "JHYeutyBtLzY"
      }
    },
    {
      "cell_type": "code",
      "source": [
        "# For loop with else statement\n",
        "\n",
        "myNumberList = [ 1, 2, 3, 4, 5 ]\n",
        "\n",
        "for i in myNumberList:\n",
        "  print(i, end = \" \")\n",
        "else:\n",
        "  print(\"\\nThis sequence is over!\")"
      ],
      "metadata": {
        "id": "epnbGP5LTUvn"
      },
      "execution_count": null,
      "outputs": []
    },
    {
      "cell_type": "markdown",
      "source": [
        "For loop with break, continue, and pass statements\n",
        "---"
      ],
      "metadata": {
        "id": "hJfId0OePHkk"
      }
    },
    {
      "cell_type": "markdown",
      "source": [
        "Description\n",
        "\n",
        "---\n",
        "*for* loops can be controlled more precisely using *break*, *continue*, and *pass* statements. The *break* statement immediately exits the loop when a certain condition is met, stopping any further iterations. The *continue* statementskips the rest of the current iteration and moves to the next itemin the sequence, allowing selective executionof loop code. The *pass* statement does nothing at all and serves as a placeholder when a statement is syntactucally correct and no action is needed. these control statements help make loop behavior more flexible and responsive to specific conditions."
      ],
      "metadata": {
        "id": "JPFwJrqLtROp"
      }
    },
    {
      "cell_type": "markdown",
      "source": [
        "Syntax\n",
        "\n",
        "---\n",
        "          Using break statement\n",
        "\n",
        "          for item in sequence:\n",
        "              if condition:\n",
        "                  break\n",
        "              block of code to execute if condition is False\n",
        "\n",
        "          Using continue statement\n",
        "\n",
        "          for item in sequence:\n",
        "              if condition:\n",
        "                  continue\n",
        "              block of code to execute if condition is False\n",
        "\n",
        "          Using pass statement\n",
        "\n",
        "          for item in sequence:\n",
        "              if condition:\n",
        "                  pass\n",
        "              block of code to execute regardless the condition status\n"
      ],
      "metadata": {
        "id": "WlKzlTuGuR2Q"
      }
    },
    {
      "cell_type": "markdown",
      "source": [
        "Examples\n",
        "\n",
        "---"
      ],
      "metadata": {
        "id": "mCDEM-2Pu3Wh"
      }
    },
    {
      "cell_type": "code",
      "source": [
        "# A for loop with a break statement\n",
        "\n",
        "myFirstList = [ 1, 2, 3, 4, 5]\n",
        "\n",
        "for i in myFirstList:\n",
        "  if i == 3:\n",
        "    break\n",
        "  print(\"i = \", i)"
      ],
      "metadata": {
        "id": "bDiAif1uPUue"
      },
      "execution_count": null,
      "outputs": []
    },
    {
      "cell_type": "code",
      "source": [
        "# A for loop with an arithmetic % operator and a continue statement\n",
        "\n",
        "myFirstList    = [ 1, 2, 3, 4, 5, 6, 7, 8, 9 ]\n",
        "\n",
        "for i in myFirstList:\n",
        "  if i % 2 == 0:\n",
        "      continue\n",
        "  print (str(i),\" \")"
      ],
      "metadata": {
        "id": "t6STngGmXWXi"
      },
      "execution_count": null,
      "outputs": []
    },
    {
      "cell_type": "code",
      "source": [
        "# A for loop with an arithmetic % operator and a pass statement\n",
        "\n",
        "myFirstList    = [ 1, 2, 3, 4, 5, 6, 7, 8, 9 ]\n",
        "\n",
        "for i in myFirstList:\n",
        "  if i % 2 == 0:\n",
        "      pass\n",
        "  print (str(i),\" \")"
      ],
      "metadata": {
        "id": "T4_-kyHkZVzy"
      },
      "execution_count": null,
      "outputs": []
    },
    {
      "cell_type": "markdown",
      "source": [
        "Nested For loop\n",
        "---"
      ],
      "metadata": {
        "id": "RnkL3gbuU7AY"
      }
    },
    {
      "cell_type": "markdown",
      "source": [
        "Description\n",
        "\n",
        "---\n",
        "A nested *for* loop placed inside of another *for* loop. It allows one to iterate through a multi dimentional list or matrix. Here'a an example of the nested for loop. Nested *for* loops are useful for tasks like iterating through rows and columns of a 2D list, comparing each elementin one list to every element in another, or generating combinations of multiple variables."
      ],
      "metadata": {
        "id": "4-IJ57UqvyqH"
      }
    },
    {
      "cell_type": "markdown",
      "source": [
        "Syntax\n",
        "\n",
        "---\n",
        "          for item in sequence1:\n",
        "              for item in sequence2:\n",
        "                  block of code"
      ],
      "metadata": {
        "id": "ZrP5NL1uwhwI"
      }
    },
    {
      "cell_type": "code",
      "source": [
        "# A nested for loop\n",
        "\n",
        "myFirstList    = [ 1, 2, 3 ]\n",
        "mySecondList   = [ 1, 2, 3 ]\n",
        "\n",
        "for i in myFirstList:\n",
        "  for j in mySecondList:\n",
        "    print (str(i),str(j),\" \")"
      ],
      "metadata": {
        "id": "HWFOd6NwKRO4"
      },
      "execution_count": null,
      "outputs": []
    },
    {
      "cell_type": "markdown",
      "source": [
        "Nested for loop with break statements\n",
        "---"
      ],
      "metadata": {
        "id": "weooHzAySRSM"
      }
    },
    {
      "cell_type": "markdown",
      "source": [
        "Description\n",
        "\n",
        "---\n",
        "\n",
        "A *for* loop with a *break* statement is used to exit the loop prematurely when a specific condition is met. Normally, a *for* loop iterates over all elements in a sequence, but *break* provides a way to stop the loop as soon as the desired result is found or stopping condition is triggered. This is particularly useful for search operations, where continuing the loop will not be necessary. Using *break* can improve efficiency by avoiding extra iterations when the goal is already achieved."
      ],
      "metadata": {
        "id": "wQteuhE5w5z0"
      }
    },
    {
      "cell_type": "markdown",
      "source": [
        "Syntax\n",
        "\n",
        "---\n",
        "          for item in sequence1:\n",
        "              for item in sequence2:\n",
        "                  break"
      ],
      "metadata": {
        "id": "C-KuL03_xwlY"
      }
    },
    {
      "cell_type": "markdown",
      "source": [
        "Examples\n",
        "\n",
        "---"
      ],
      "metadata": {
        "id": "871GDctzx7rA"
      }
    },
    {
      "cell_type": "code",
      "source": [
        "# A nested for loop with an innermost break statement\n",
        "\n",
        "myFirstList    = [ 1, 2, 3 ]\n",
        "mySecondList   = [ 1, 2, 3 ]\n",
        "\n",
        "for i in myFirstList:\n",
        "  for j in mySecondList:\n",
        "    if j == 3:\n",
        "      break\n",
        "    print (str(i),str(j),\" \")"
      ],
      "metadata": {
        "id": "zuqm8BriP3aG"
      },
      "execution_count": null,
      "outputs": []
    },
    {
      "cell_type": "code",
      "source": [
        "# A nested for loop with an outer break statement\n",
        "\n",
        "myFirstList    = [ 1, 2, 3 ]\n",
        "mySecondList   = [ 1, 2, 3 ]\n",
        "\n",
        "for i in myFirstList:\n",
        "  if i == 3:\n",
        "      break\n",
        "  for j in mySecondList:\n",
        "    print (str(i),str(j),\" \")"
      ],
      "metadata": {
        "id": "ojRdfRO9QLG0"
      },
      "execution_count": null,
      "outputs": []
    },
    {
      "cell_type": "markdown",
      "source": [
        "Nested for loop with continue statements\n",
        "---"
      ],
      "metadata": {
        "id": "qWnUO8z1SWpb"
      }
    },
    {
      "cell_type": "markdown",
      "source": [
        "Description\n",
        "\n",
        "---\n",
        "A nested *for* loop with a *continue* statement allows you to skip specific iterations within the inner or outer loop based on a condition. The *continue* statement immediately skips to the next iterationof the current loop level without executing the remaining code in that iteration. *continue* is very useful in nested *for* loops for filtering out specific values or conditions without braking the entire loop structure."
      ],
      "metadata": {
        "id": "0AD2NpvSyPve"
      }
    },
    {
      "cell_type": "markdown",
      "source": [
        "Syntax\n",
        "\n",
        "---\n",
        "          for item in sequence1:\n",
        "              for item in sequence2:\n",
        "                  continue"
      ],
      "metadata": {
        "id": "-edQhkdiy-Mm"
      }
    },
    {
      "cell_type": "markdown",
      "source": [
        "Examples\n",
        "\n",
        "---"
      ],
      "metadata": {
        "id": "kwq0R3LqzH65"
      }
    },
    {
      "cell_type": "code",
      "source": [
        "# A nested for loop with an innermost continue statement\n",
        "\n",
        "myFirstList    = [ 1, 2, 3 ]\n",
        "mySecondList   = [ 1, 2, 3 ]\n",
        "\n",
        "for i in myFirstList:\n",
        "  for j in mySecondList:\n",
        "    if j == 3: continue\n",
        "    print (str(i),str(j),\" \")"
      ],
      "metadata": {
        "id": "qhbvCdnzRlku"
      },
      "execution_count": null,
      "outputs": []
    },
    {
      "cell_type": "code",
      "source": [
        "# A nested for loop with an outer continue statement\n",
        "\n",
        "myFirstList    = [ 1, 2, 3 ]\n",
        "mySecondList   = [ 1, 2, 3 ]\n",
        "\n",
        "for i in myFirstList:\n",
        "  if i == 2: continue\n",
        "  for j in mySecondList:\n",
        "    print (str(i),str(j),\" \")"
      ],
      "metadata": {
        "id": "j0WMXSYsRwK4"
      },
      "execution_count": null,
      "outputs": []
    },
    {
      "cell_type": "markdown",
      "source": [
        "Nested for loop with pass statements\n",
        "---"
      ],
      "metadata": {
        "id": "LkjC7xYIWdWr"
      }
    },
    {
      "cell_type": "markdown",
      "source": [
        "Description\n",
        "\n",
        "---\n",
        "A *for* loop with a *pass* statement is used when a syntactically required block of code is needed, but no action should be taken at that point in the loop. The *pass* statement acts as a placeholder, doing nothing when executed, and is often used during code development as a temporary stub or to handle a condition without affecting the loop's logic. Using *pass* allows the code to run without errors while signaling that a condition or block is intentionally left empty for future implementation."
      ],
      "metadata": {
        "id": "CwEOdoPh2msv"
      }
    },
    {
      "cell_type": "markdown",
      "source": [
        "Syntax\n",
        "\n",
        "---\n",
        "        See example below"
      ],
      "metadata": {
        "id": "Z35p4jQV3guO"
      }
    },
    {
      "cell_type": "markdown",
      "source": [
        "Examples\n",
        "\n",
        "---"
      ],
      "metadata": {
        "id": "9xOtkp363krb"
      }
    },
    {
      "cell_type": "code",
      "source": [
        "# Nested for loop with outermost pass statement\n",
        "\n",
        "myFirstList    = [ 1, 2, 3 ]\n",
        "mySecondList   = [ 1, 2, 3 ]\n",
        "\n",
        "for i in myFirstList:\n",
        "  if i == 2:\n",
        "    pass\n",
        "  for j in mySecondList:\n",
        "    print (str(i),str(j),\" \")"
      ],
      "metadata": {
        "id": "-H-zwOmzWjCE"
      },
      "execution_count": null,
      "outputs": []
    },
    {
      "cell_type": "markdown",
      "source": [
        "For loops using list comprehension\n",
        "---"
      ],
      "metadata": {
        "id": "0jYYeVUh5MwY"
      }
    },
    {
      "cell_type": "markdown",
      "source": [
        "Description\n",
        "\n",
        "---\n",
        "A *for* loop can be concisely expressed using list comprehension, which provides an easy and readable way to create new lists by applying an expression to each item in a sequence. Lists comprehensions are more efficient and cleaner that traditional *for* loops when generating *lists* for simple operations. They can also included nested loops or multiple conditions, making them a powerful tool for concise list generation.   "
      ],
      "metadata": {
        "id": "IofaRs3R3vbA"
      }
    },
    {
      "cell_type": "markdown",
      "source": [
        "![Presentation_list.png](data:image/png;base64,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)"
      ],
      "metadata": {
        "id": "LlUPb1c6HQ3G"
      }
    },
    {
      "cell_type": "markdown",
      "source": [
        "Syntax\n",
        "\n",
        "---\n",
        "          [expression for item in iterable if condition]"
      ],
      "metadata": {
        "id": "9Xgp7wDY4rdo"
      }
    },
    {
      "cell_type": "markdown",
      "source": [
        "Examples\n",
        "\n",
        "---"
      ],
      "metadata": {
        "id": "YRI5jxM14zfq"
      }
    },
    {
      "cell_type": "code",
      "source": [
        "# List comprehension\n",
        "\n",
        "myNumberList = [myNum for myNum in range(1,6)]\n",
        "\n",
        "print(myNumberList)\n",
        "\n"
      ],
      "metadata": {
        "id": "wQNLUBEG5cvm"
      },
      "execution_count": null,
      "outputs": []
    },
    {
      "cell_type": "code",
      "source": [
        "# A regular for loop, which is analogous to the list comprehension\n",
        "\n",
        "myNumberList = []\n",
        "\n",
        "for myNum in range(1,6):\n",
        "  myNumberList.append(myNum)\n",
        "\n",
        "print(myNumberList)"
      ],
      "metadata": {
        "id": "5d47je9s99nX"
      },
      "execution_count": null,
      "outputs": []
    },
    {
      "cell_type": "code",
      "source": [
        "# A list comprehension example\n",
        "\n",
        "myNumberList = [ myNum + 10  for myNum in range(0,10) if myNum % 2 == 0]\n",
        "\n",
        "print(myNumberList)"
      ],
      "metadata": {
        "id": "bX94tpu92FXK"
      },
      "execution_count": null,
      "outputs": []
    },
    {
      "cell_type": "code",
      "source": [
        "# A regular for loop, which is analogous to the list comprehension\n",
        "\n",
        "myNumberList = []\n",
        "\n",
        "for myNum in range(0,10):\n",
        "\n",
        "    if myNum % 2 == 0:\n",
        "      myNumberList.append(myNum + 10)\n",
        "\n",
        "print(myNumberList)"
      ],
      "metadata": {
        "id": "bBKoIhVj3bkp"
      },
      "execution_count": null,
      "outputs": []
    },
    {
      "cell_type": "markdown",
      "source": [
        "List comprehension with nested for loops\n",
        "---"
      ],
      "metadata": {
        "id": "Bfw4e0wL5d3u"
      }
    },
    {
      "cell_type": "markdown",
      "source": [
        "Description\n",
        "\n",
        "---\n",
        "Nested *for* loops can also be used within list comprehensions to create complex lists by combining multiple sequences. This allows you to iterateover multiple levels of data in a single line of code. List comprehensions with nested loops are especially useful for flattering matrices, creating Cartesian products, or performing operations across multiple datasets in a compact and readable format. However, the readability can suffer when complexity increases."
      ],
      "metadata": {
        "id": "3_U7VQuF5CPs"
      }
    },
    {
      "cell_type": "markdown",
      "source": [
        "Syntax\n",
        "\n",
        "---\n",
        "      [expression for item1 in sequence1 for item2 in sequence2]"
      ],
      "metadata": {
        "id": "xySt6a7C56pi"
      }
    },
    {
      "cell_type": "markdown",
      "source": [
        "Examples\n",
        "\n",
        "---"
      ],
      "metadata": {
        "id": "TxZDUkIu6ET7"
      }
    },
    {
      "cell_type": "code",
      "source": [
        "# List comprehension with nested for loops\n",
        "\n",
        "myNumberList = [ n for m in range(0,3) for n in range(0,3)]\n",
        "\n",
        "print(myNumberList)"
      ],
      "metadata": {
        "id": "yijfN7KT5jZP",
        "colab": {
          "base_uri": "https://localhost:8080/"
        },
        "outputId": "310bfac7-2831-4002-fc52-90f5420ec97a"
      },
      "execution_count": null,
      "outputs": [
        {
          "output_type": "stream",
          "name": "stdout",
          "text": [
            "[0, 1, 2, 0, 1, 2, 0, 1, 2]\n"
          ]
        }
      ]
    },
    {
      "cell_type": "code",
      "source": [
        "# Regular for loop, which is analogous to the list comprehension\n",
        "\n",
        "myNumberList = []\n",
        "\n",
        "for m in range(0,3):\n",
        "  for n in range(0,3):\n",
        "    myNumberList.append(n)\n",
        "\n",
        "print(myNumberList)"
      ],
      "metadata": {
        "id": "1LUCYYuj6hVr",
        "colab": {
          "base_uri": "https://localhost:8080/"
        },
        "outputId": "9326485c-e1bc-428a-d2e1-4367491b22f2"
      },
      "execution_count": null,
      "outputs": [
        {
          "output_type": "stream",
          "name": "stdout",
          "text": [
            "[0, 1, 2, 0, 1, 2, 0, 1, 2]\n"
          ]
        }
      ]
    },
    {
      "cell_type": "code",
      "source": [
        "# List comprehension with nested for loops: m x n matrix\n",
        "\n",
        "myMatrixList = [ [m for m in range(0,3)] for n in range(0,3)]\n",
        "\n",
        "print(myMatrixList)"
      ],
      "metadata": {
        "id": "9jwYIf9_-e27"
      },
      "execution_count": null,
      "outputs": []
    },
    {
      "cell_type": "code",
      "source": [
        "# Regular for loop, which is analogous to the list comprehension: m x n matrix\n",
        "\n",
        "myMatrixList = []\n",
        "\n",
        "for m in range(0,3):\n",
        "  myTempList = []\n",
        "  for n in range(0,3):\n",
        "    myTempList.append(n)\n",
        "  myMatrixList.append(myTempList)\n",
        "\n",
        "print(myMatrixList)"
      ],
      "metadata": {
        "id": "F5viOg6N-pQm"
      },
      "execution_count": null,
      "outputs": []
    },
    {
      "cell_type": "markdown",
      "source": [
        "For loops using dictionary comprehension\n",
        "---"
      ],
      "metadata": {
        "id": "j3VxRKs5awzq"
      }
    },
    {
      "cell_type": "markdown",
      "source": [
        "Description\n",
        "\n",
        "---\n",
        "Dictionary comprehension is a fast way of creating dictionaries in consice and readable way. It can also be used as a data filter. It is easier to read and understand. The syntax of the dictionary comprehension is similar to that of list comprehension. You can also include *if* statement to filter which items are included. Dictionary comprehensions are useful for transforming data, filtering keys or values, and creating mapping efficiently."
      ],
      "metadata": {
        "id": "MKaKJeFu6TLQ"
      }
    },
    {
      "cell_type": "markdown",
      "source": [
        "![Presentation_dictionary.png](data:image/png;base64,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)"
      ],
      "metadata": {
        "id": "Imc6l0ZmH1LV"
      }
    },
    {
      "cell_type": "markdown",
      "source": [
        "Syntax\n",
        "\n",
        "---\n",
        "          {key:value for item in iterable if condition}"
      ],
      "metadata": {
        "id": "Ym4fQJ6P6V9Y"
      }
    },
    {
      "cell_type": "markdown",
      "source": [
        "Examples\n",
        "\n",
        "---"
      ],
      "metadata": {
        "id": "8DglQa-I7Bo8"
      }
    },
    {
      "cell_type": "code",
      "source": [
        "# Dictionary comprehension\n",
        "\n",
        "newDictionary = { myNum: myNum + 10    for myNum in range(1,15)   if myNum * myNum % 2 == 0 }\n",
        "\n",
        "print(newDictionary)"
      ],
      "metadata": {
        "id": "r3k9LAGGH_jK"
      },
      "execution_count": null,
      "outputs": []
    },
    {
      "cell_type": "code",
      "source": [
        "# Regular for loop, which is analogous to the list comprehension\n",
        "\n",
        "newDictionary = {}\n",
        "\n",
        "for myNum in range(1,15):\n",
        "  if ( myNum * myNum % 2 == 0 ):\n",
        "    newDictionary[myNum] = myNum + 10\n",
        "\n",
        "print(newDictionary)"
      ],
      "metadata": {
        "id": "Emsk_YrB4ROm"
      },
      "execution_count": null,
      "outputs": []
    },
    {
      "cell_type": "markdown",
      "source": [
        "For loops using set comprehension\n",
        "---"
      ],
      "metadata": {
        "id": "dqXz25ogyCAE"
      }
    },
    {
      "cell_type": "markdown",
      "source": [
        "Description\n",
        "\n",
        "---\n",
        "Set comprehension is a concise way to create sets using a *for* loop structure in a single line of code. It uses curly braces. This approach authomatically removes duplicate values, if any, because sets only store unique elements. Set comprehension is particularly useful for filtering unique results from sequence or applying transformations while elemenating duplicates."
      ],
      "metadata": {
        "id": "xffZRRr97Nxp"
      }
    },
    {
      "cell_type": "markdown",
      "source": [
        "Syntax\n",
        "\n",
        "---\n",
        "      {expression for item in iterable if condition}"
      ],
      "metadata": {
        "id": "BrAKsf9v79Ew"
      }
    },
    {
      "cell_type": "markdown",
      "source": [
        "Examples\n",
        "\n",
        "---"
      ],
      "metadata": {
        "id": "9BvsUGFZ8EOU"
      }
    },
    {
      "cell_type": "code",
      "source": [
        "# A set can be created with the set comprehension in Python\n",
        "\n",
        "mySetList = { myNum + 2 for myNum in range(1,6)}\n",
        "print(mySetList)\n"
      ],
      "metadata": {
        "id": "GsMgdrR5_hWc"
      },
      "execution_count": null,
      "outputs": []
    },
    {
      "cell_type": "code",
      "source": [
        "# Regular for loop, which is analogous to the list comprehension\n",
        "\n",
        "newSet = set()\n",
        "\n",
        "for myNum in range(1,6):\n",
        "    newSet.add(myNum + 2)\n",
        "\n",
        "print(newSet, sep=\",\", end=\"\")"
      ],
      "metadata": {
        "id": "1LSPOsTVyTWV"
      },
      "execution_count": null,
      "outputs": []
    },
    {
      "cell_type": "markdown",
      "source": [
        "For loops using tuple comprehension\n",
        "---"
      ],
      "metadata": {
        "id": "qnrs51E5yNgv"
      }
    },
    {
      "cell_type": "markdown",
      "source": [
        "Description\n",
        "\n",
        "---\n",
        "There is no tuple comprehension in Python. What may appear to be a tuple comprehension - using paranthesis () is actually a generator expression, and not a tuple. A generator expression creates an iterator that yields items one by one and does not store them in memory all at once like a tuple would."
      ],
      "metadata": {
        "id": "57HuuvY98Q1J"
      }
    },
    {
      "cell_type": "markdown",
      "source": [
        "Syntax\n",
        "\n",
        "---\n",
        "          See examples below"
      ],
      "metadata": {
        "id": "WfCHff7z9IYs"
      }
    },
    {
      "cell_type": "markdown",
      "source": [
        "Examples\n",
        "\n",
        "---"
      ],
      "metadata": {
        "id": "qNjJJcqm9Fyx"
      }
    },
    {
      "cell_type": "code",
      "source": [
        "# There is no tuple comprehension in Python - generator\n",
        "\n",
        "myTupleList = ( myNum for myNum in range(1,6))\n",
        "print(myTupleList)"
      ],
      "metadata": {
        "id": "z5xunMl2-7Gi"
      },
      "execution_count": null,
      "outputs": []
    },
    {
      "cell_type": "code",
      "source": [
        "# Mimmiking the tuple comprehension - generator\n",
        "\n",
        "myTupleList = tuple( myNum + 2 for myNum in range(1,6))\n",
        "print(myTupleList)"
      ],
      "metadata": {
        "id": "CsJmTL5vyhVP"
      },
      "execution_count": null,
      "outputs": []
    },
    {
      "cell_type": "markdown",
      "source": [
        "For loop using the built-in functions\n",
        "---"
      ],
      "metadata": {
        "id": "2O1nmFpeVb2b"
      }
    },
    {
      "cell_type": "markdown",
      "source": [
        "Description\n",
        "\n",
        "---\n",
        "*for* loops can be used with build-in functions to process and manipulate sequences in a clear and efficient way. Functions like *range()*, *enumerate()*, *zip()*, *sorted()*, and *reversed()* are commonly used in conjuction with for loops. *range()* function allows to generate sequence of numbers, *enumerate()* function allows you to loop over a sequence and get both the index and the value, zip() function combines two or more iterables into pairs.These built-in functions make *for* loops more versatile and powerful for processing data."
      ],
      "metadata": {
        "id": "buV6nloX9Z8F"
      }
    },
    {
      "cell_type": "markdown",
      "source": [
        "Syntax\n",
        "\n",
        "---\n",
        "          See examples below"
      ],
      "metadata": {
        "id": "YMcXuEG3-O5K"
      }
    },
    {
      "cell_type": "markdown",
      "source": [
        "Examples\n",
        "\n",
        "---"
      ],
      "metadata": {
        "id": "m0D5OOuI-Tw7"
      }
    },
    {
      "cell_type": "code",
      "source": [
        "# For loop is built with the len() and range() functions\n",
        "\n",
        "myNumberList = [ 1, 2, 3, 4, 5 ]\n",
        "\n",
        "for number in range(len(myNumberList)): print(myNumberList[number], end = \" \")\n"
      ],
      "metadata": {
        "id": "Es17aMgPGDJy"
      },
      "execution_count": null,
      "outputs": []
    },
    {
      "cell_type": "code",
      "source": [
        "# For loop is built with the enumerate function\n",
        "\n",
        "myNumberList = [ 1, 2, 3, 4, 5 ]\n",
        "\n",
        "for number in enumerate(myNumberList): print(number, end = \" \")"
      ],
      "metadata": {
        "id": "nH44uiUo-Wrv"
      },
      "execution_count": null,
      "outputs": []
    },
    {
      "cell_type": "code",
      "source": [
        "# For loop with zip  function example\n",
        "\n",
        "myNumberList = [ 1, 2, 3, 4, 5 ]\n",
        "myStringList = [ \"one\", \"two\", \"three\", \"four\", \"five\" ]\n",
        "\n",
        "for number, string in zip(myNumberList, myStringList): print(number, string)"
      ],
      "metadata": {
        "id": "nWKCGgdK-q73"
      },
      "execution_count": null,
      "outputs": []
    },
    {
      "cell_type": "markdown",
      "source": [
        "4.3 While loops\n",
        "---\n"
      ],
      "metadata": {
        "id": "ilRCeQflNdkk"
      }
    },
    {
      "cell_type": "markdown",
      "source": [
        "Description\n",
        "\n",
        "---\n",
        "A *while* loop is used to repeatedly execute a block of code as long as a given condition is true. Unlike *for* loop, *while* loop are condition-controlled and continue running until the conditino becomes False. If the condition is never False, the loop can become infinite, so it is important to ensure that the loop variable is updated appropriately within the loop body. *while* loops are especially useful when the number of iterations is not known in advanced and the loop should continueuntil a specific state is reached."
      ],
      "metadata": {
        "id": "Vx4htHAL_i7_"
      }
    },
    {
      "cell_type": "markdown",
      "source": [
        "Syntax\n",
        "\n",
        "---\n",
        "      while condition: block of code"
      ],
      "metadata": {
        "id": "A9UdXCYnAYGM"
      }
    },
    {
      "cell_type": "markdown",
      "source": [
        "Examples\n",
        "\n",
        "---"
      ],
      "metadata": {
        "id": "SEUzu29GAeUY"
      }
    },
    {
      "cell_type": "code",
      "source": [
        "# While loop with pass statement\n",
        "\n",
        "while False: pass"
      ],
      "metadata": {
        "id": "7kFqQrczNNSP"
      },
      "execution_count": null,
      "outputs": []
    },
    {
      "cell_type": "code",
      "source": [
        "# While loop with pass statement\n",
        "\n",
        "while 0: pass"
      ],
      "metadata": {
        "id": "sI8LG-cUC2j1"
      },
      "execution_count": null,
      "outputs": []
    },
    {
      "cell_type": "code",
      "source": [
        "# Infinite while loop with pass statement\n",
        "\n",
        "while 1: pass"
      ],
      "metadata": {
        "id": "L6xdEwGlDO9s"
      },
      "execution_count": null,
      "outputs": []
    },
    {
      "cell_type": "code",
      "source": [
        "# Infinite while loop with print statement\n",
        "\n",
        "while True: print(\"Infinite loop\")"
      ],
      "metadata": {
        "id": "UvRL80ioNWvK"
      },
      "execution_count": null,
      "outputs": []
    },
    {
      "cell_type": "code",
      "source": [
        "# While loop statement with comparison operator: <\n",
        "\n",
        "myFirstVariable = 5\n",
        "i = 0\n",
        "\n",
        "while i < myFirstVariable:\n",
        "  print(i, end=\" \")\n",
        "  i += 1"
      ],
      "metadata": {
        "id": "iONeLn_OmUML"
      },
      "execution_count": null,
      "outputs": []
    },
    {
      "cell_type": "code",
      "source": [
        "# While loop statement with comparison operator: <=\n",
        "\n",
        "myFirstVariable = 5\n",
        "i = 0\n",
        "\n",
        "while i <= myFirstVariable:\n",
        "  print(i, end=\" \")\n",
        "  i += 1"
      ],
      "metadata": {
        "id": "O6w9WQ6Km_Jv"
      },
      "execution_count": null,
      "outputs": []
    },
    {
      "cell_type": "markdown",
      "source": [
        "While loop with the break, continue, and pass statements\n",
        "---\n"
      ],
      "metadata": {
        "id": "bM6lXGQ0nu98"
      }
    },
    {
      "cell_type": "markdown",
      "source": [
        "Description\n",
        "\n",
        "---\n",
        "*while* loops can be enhanced using the *break*, *continue*, and *pass* statements to control the flow of execution. The *break* statement immediately exits the loop when a specified condition is met, preventing further iterations. The *continue* statement skips the current iteration and jumps to the next one, useful for ignoring certain conditionswithout exiting the loop, and the *pass* statement acts as a placeholder, doing nothing when executed. It is often used when a block is required syntactically but no action is needed."
      ],
      "metadata": {
        "id": "KCSi0W1OAySi"
      }
    },
    {
      "cell_type": "markdown",
      "source": [
        "Syntax\n",
        "\n",
        "---\n",
        "          while condition:\n",
        "              if condition:\n",
        "                  break\n",
        "\n",
        "          while condition:\n",
        "              if condition:\n",
        "                  continue\n",
        "\n",
        "          while condition:\n",
        "              if condition:\n",
        "                  pass"
      ],
      "metadata": {
        "id": "TWl-gmIjBwWx"
      }
    },
    {
      "cell_type": "markdown",
      "source": [
        "Examples\n",
        "\n",
        "---"
      ],
      "metadata": {
        "id": "vWj7dzYVCSAM"
      }
    },
    {
      "cell_type": "code",
      "source": [
        "# While loop statement if comparison operator ( < ) and break statement\n",
        "\n",
        "myFirstVariable = 5\n",
        "i = 0\n",
        "\n",
        "while i < 5:\n",
        "  print(i)\n",
        "  if i == 3:\n",
        "    break     # stops the loop even with the while condition is being true\n",
        "  i += 1"
      ],
      "metadata": {
        "id": "KegP_whenyWD"
      },
      "execution_count": null,
      "outputs": []
    },
    {
      "cell_type": "code",
      "source": [
        "# While loop statement if comparison operator ( < ) and continue statement\n",
        "\n",
        "myFirstVariable = 5\n",
        "i = 0\n",
        "\n",
        "while i < 5:\n",
        "  i += 1\n",
        "  if i == 3:\n",
        "    continue\n",
        "  print(i)"
      ],
      "metadata": {
        "id": "GL4LSwifoWp_"
      },
      "execution_count": null,
      "outputs": []
    },
    {
      "cell_type": "code",
      "source": [
        "# While loop statement if comparison operator ( < ) and break statement\n",
        "\n",
        "myFirstVariable = 5\n",
        "i = 0\n",
        "\n",
        "while i < 5:\n",
        "  i += 1\n",
        "  if i == 3:\n",
        "    pass\n",
        "  print(i)\n"
      ],
      "metadata": {
        "id": "fgVKF9tzbIzk"
      },
      "execution_count": null,
      "outputs": []
    },
    {
      "cell_type": "markdown",
      "source": [
        "While loop with else statement\n",
        "---"
      ],
      "metadata": {
        "id": "hNPV-M38GlOd"
      }
    },
    {
      "cell_type": "markdown",
      "source": [
        "Description\n",
        "\n",
        "---\n",
        "A *while* loop can include an optional *else* clause, which executes after the loop finishes normally. This feature is useful for running a block of code when the loop condition becomes false, allowing post loop processing or confirmation that the loop ran to completion."
      ],
      "metadata": {
        "id": "lOGTqxu0CfXu"
      }
    },
    {
      "cell_type": "markdown",
      "source": [
        "Syntax\n",
        "\n",
        "---\n",
        "          while condition:\n",
        "              block of code\n",
        "          else:\n",
        "              block of code"
      ],
      "metadata": {
        "id": "tL5HBnGhDBZp"
      }
    },
    {
      "cell_type": "markdown",
      "source": [
        "Examples\n",
        "\n",
        "---"
      ],
      "metadata": {
        "id": "UKwJR9bTDLJK"
      }
    },
    {
      "cell_type": "code",
      "source": [
        "# While loop statement with else statement\n",
        "\n",
        "myFirstVariable = 5\n",
        "i = 0\n",
        "\n",
        "while i < 5:\n",
        "  print(i)\n",
        "  i += 1\n",
        "else:\n",
        "  print(\"i is not less than 5 anymore\")\n"
      ],
      "metadata": {
        "id": "6kiTek88oo5y"
      },
      "execution_count": null,
      "outputs": []
    },
    {
      "cell_type": "markdown",
      "source": [
        "Nested While loops\n",
        "---"
      ],
      "metadata": {
        "id": "xqgy6AXdcd0G"
      }
    },
    {
      "cell_type": "markdown",
      "source": [
        "Description\n",
        "\n",
        "---\n",
        "A nested *while* loop is a *while* loop placed inside of another *while* loop, allowing repeated iterations within repeated iterations. This is useful for working with multi-dimentional data or performin repetitive checks inside a broader condition. For instance, the outer loop could control rows and the inner loop could handle columns in a matrix. Each time the outer loop runs once, the inner loop runs completely if condition remain True. You need to update the loop variables properly inside both loops to avoid infinite loops."
      ],
      "metadata": {
        "id": "7mof_QFwDUvl"
      }
    },
    {
      "cell_type": "markdown",
      "source": [
        "Syntax\n",
        "\n",
        "---\n",
        "          while condition1:\n",
        "              block fo code\n",
        "                  while condition2:\n",
        "                      block of code"
      ],
      "metadata": {
        "id": "tZJBWtH-ENWB"
      }
    },
    {
      "cell_type": "markdown",
      "source": [
        "Examples\n",
        "\n",
        "---"
      ],
      "metadata": {
        "id": "xgzDMKbxEcH3"
      }
    },
    {
      "cell_type": "code",
      "source": [
        "# Nested while loops\n",
        "\n",
        "myFirstVariable = 5\n",
        "i, j = 0, 0\n",
        "\n",
        "while i < 5:\n",
        "  print(i)\n",
        "  i += 1\n",
        "  while j < 5:\n",
        "    print(j)\n",
        "    j += 1"
      ],
      "metadata": {
        "id": "tYrfkC9kbr8b"
      },
      "execution_count": null,
      "outputs": []
    },
    {
      "cell_type": "markdown",
      "source": [
        "Nested While loop with break statement\n",
        "---"
      ],
      "metadata": {
        "id": "ARPMvX49hBxh"
      }
    },
    {
      "cell_type": "markdown",
      "source": [
        "Description\n",
        "\n",
        "---\n",
        "A nested loop with a *break* statement allows you to exit not only the inner loop but also control the outer loop's execution based on certain conditions. When a break statement is encounterred within the inner loop, it immediately terminates that loop. A *break* in the inner loop can stop further iterations and a *break* statement in the outer loop will exit the outer loop once the condition is met."
      ],
      "metadata": {
        "id": "XQPZbbd6Eoro"
      }
    },
    {
      "cell_type": "markdown",
      "source": [
        "Syntax\n",
        "\n",
        "---\n",
        "          while condition1:\n",
        "              while condition2:\n",
        "                  if condition:\n",
        "                      break\n",
        "              else:\n",
        "                  continue\n",
        "              break"
      ],
      "metadata": {
        "id": "H9YFSgabFbjx"
      }
    },
    {
      "cell_type": "markdown",
      "source": [
        "Examples\n",
        "\n",
        "---"
      ],
      "metadata": {
        "id": "nTZ80LqBFyzo"
      }
    },
    {
      "cell_type": "code",
      "source": [
        "# Nested while loops with brake statements\n",
        "\n",
        "myFirstVariable = 5\n",
        "i, j = 0, 0\n",
        "\n",
        "while i < 5:\n",
        "  print(i, j)\n",
        "  i += 1\n",
        "  while j < 5:\n",
        "    j += 1\n",
        "    if j == 2:\n",
        "      break\n",
        "    print(i,j)\n",
        "else:\n",
        "  print(\"i is no longer less than 5\")"
      ],
      "metadata": {
        "id": "r27amWr4dpuv"
      },
      "execution_count": null,
      "outputs": []
    },
    {
      "cell_type": "markdown",
      "source": [
        "Nested While loop with continue statement\n",
        "---"
      ],
      "metadata": {
        "id": "dsOaEY-ThLje"
      }
    },
    {
      "cell_type": "markdown",
      "source": [
        "Description\n",
        "\n",
        "---\n",
        "A *while* loop with a *continue* statement allows you to skip the rest of the loop body for the current iteration and jump back to the loop condition check. This is useful to ignore certain cases while still continuing the loop."
      ],
      "metadata": {
        "id": "RpfB-4zDF-xb"
      }
    },
    {
      "cell_type": "markdown",
      "source": [
        "Syntax\n",
        "\n",
        "---\n",
        "          while condition1:\n",
        "              while condition2:\n",
        "                  if condition:\n",
        "                      continue"
      ],
      "metadata": {
        "id": "6Sov8EU1Gb4N"
      }
    },
    {
      "cell_type": "markdown",
      "source": [
        "Examples\n",
        "\n",
        "---"
      ],
      "metadata": {
        "id": "nSWq8AQuG0R2"
      }
    },
    {
      "cell_type": "code",
      "source": [
        "# Nested while loops with continue statement\n",
        "\n",
        "i, j = 0, 0\n",
        "\n",
        "while i < 3:\n",
        "  print(i, j)\n",
        "  i += 1\n",
        "  while j < 3:\n",
        "    j += 1\n",
        "    if j == 2:\n",
        "      continue\n",
        "    print(i,j)\n",
        "else:\n",
        "  print(\"i is no longer less than 5\")"
      ],
      "metadata": {
        "id": "Lcv8kMSnghdK"
      },
      "execution_count": null,
      "outputs": []
    },
    {
      "cell_type": "markdown",
      "source": [
        "Nested While loop with pass statement\n",
        "---"
      ],
      "metadata": {
        "id": "1Y3eBDVzhWVS"
      }
    },
    {
      "cell_type": "markdown",
      "source": [
        "Description\n",
        "\n",
        "---\n",
        "A nested while loop with the *pass* statement allows you to structurecomplex logic with placeholder code where actions are yet to be implemented. The *pass* statement does notheing and it simply acts as a syntactic placeholder where code is required but not yet written."
      ],
      "metadata": {
        "id": "Mp6cz5baHXTf"
      }
    },
    {
      "cell_type": "markdown",
      "source": [
        "Syntax\n",
        "\n",
        "---\n",
        "          while condition1:\n",
        "              while condition2:\n",
        "                  if condition\n",
        "                      pass"
      ],
      "metadata": {
        "id": "w9Gec7qVH2et"
      }
    },
    {
      "cell_type": "markdown",
      "source": [
        "Examples\n",
        "\n",
        "---"
      ],
      "metadata": {
        "id": "UdYUyqJIIDe-"
      }
    },
    {
      "cell_type": "code",
      "source": [
        "# Nested while loops with else statements\n",
        "\n",
        "myFirstVariable = 5\n",
        "i, j = 0, 0\n",
        "\n",
        "while i < 5:\n",
        "  print(i,j)\n",
        "  i += 1\n",
        "  while j < 5:\n",
        "    print(i,j)\n",
        "    j += 1\n",
        "  else:\n",
        "    pass\n",
        "else:\n",
        "  print(\"i is no longer less than 5\")"
      ],
      "metadata": {
        "id": "VxUh7T69dTfa"
      },
      "execution_count": null,
      "outputs": []
    },
    {
      "cell_type": "markdown",
      "source": [
        "# Section 5: Functions\n",
        "\n",
        "5.1 User defined functions\n",
        "\n",
        "5.2 Global and local variables\n",
        "\n",
        "5.3 Parameters vs arguments\n",
        "\n",
        "5.4 Recursive functions\n",
        "\n",
        "5.5 Lambda functions\n",
        "\n",
        "5.6 Function annotations"
      ],
      "metadata": {
        "id": "7fTzpI_2ctcu"
      }
    },
    {
      "cell_type": "markdown",
      "source": [
        "5.1 User-defined functions\n",
        "---"
      ],
      "metadata": {
        "id": "Wg0zS8uzfmxy"
      }
    },
    {
      "cell_type": "markdown",
      "source": [
        "Description\n",
        "\n",
        "---\n",
        "Function is a block of orginized code to perform a specific action. Python language provides many built-in functions like *print()*, *len()*, *range()*, and ... However, you can create your own functions that are usually called user-define functions. Functions help to improve readability and usageability of your code.\n",
        "Python reads the program from top to bottom and you need to define a function before yuo can use it. There are a few rules to define a function.\n",
        "\n",
        "1. A function declared using the def keyword following by a function name and parenthesis, and ending with a column.\n",
        "2. Parameters can be placed inside of the parenthesis.\n",
        "3. The code block or multiple statements should be indented.\n",
        "4. The return statement will exit the function and pass a result to the caller.value"
      ],
      "metadata": {
        "id": "zWf43zmYIT3c"
      }
    },
    {
      "cell_type": "markdown",
      "source": [
        "Syntax\n",
        "\n",
        "---\n",
        "          def functionName(parameters): block of code / return value\n"
      ],
      "metadata": {
        "id": "CGQvvKu-IYX-"
      }
    },
    {
      "cell_type": "markdown",
      "source": [
        "Basics of user-defined functions\n",
        "---"
      ],
      "metadata": {
        "id": "g4htAKhYwVNp"
      }
    },
    {
      "cell_type": "markdown",
      "source": [
        "Description\n",
        "\n",
        "---\n",
        "User-defined functions allow programmers to create reusable blocks of code that perform specific tasks. A function is defined using the *def* keyword followed by the function name, parentheses, which may include parameters, and a colon. The function body is intended and contains the code to be executed when the function is called. Function can return values using *return* statement, or simply perform actions without returning anything. User defined functions make code more modular, readable, and easier to maintain by avoiding repetition and organizing logic into logical units."
      ],
      "metadata": {
        "id": "Pi8bzaTPIxaB"
      }
    },
    {
      "cell_type": "markdown",
      "source": [
        "Syntax\n",
        "\n",
        "---\n",
        "          See examples below"
      ],
      "metadata": {
        "id": "lx6R5c4gJqbh"
      }
    },
    {
      "cell_type": "markdown",
      "source": [
        "Examples\n",
        "\n",
        "---"
      ],
      "metadata": {
        "id": "NBw5yfw5Jvmn"
      }
    },
    {
      "cell_type": "code",
      "source": [
        "# Defining an empty function\n",
        "\n",
        "def myEmptyFunction(): # Function definition\n",
        "    pass"
      ],
      "metadata": {
        "id": "vo7eK4VRgGoX"
      },
      "execution_count": null,
      "outputs": []
    },
    {
      "cell_type": "code",
      "source": [
        "# Defining a function\n",
        "\n",
        "def myFirstFunction():\n",
        "    pass               # Body statement"
      ],
      "metadata": {
        "id": "CmxKjXaipd6l"
      },
      "execution_count": null,
      "outputs": []
    },
    {
      "cell_type": "code",
      "source": [
        "# Defining a function and making a call\n",
        "\n",
        "def myFirstFunction():\n",
        "    pass\n",
        "\n",
        "myFirstFunction()        # Function call"
      ],
      "metadata": {
        "id": "A7HTNeh5gYbE"
      },
      "execution_count": null,
      "outputs": []
    },
    {
      "cell_type": "code",
      "source": [
        "# Defining function with the body statement making a call\n",
        "\n",
        "def myFirstFunction():    # Function definition\n",
        "  print(\"Hello World!\")   # Body statement\n",
        "\n",
        "myFirstFunction()         # Function call"
      ],
      "metadata": {
        "id": "umNfb4qcey1Q"
      },
      "execution_count": null,
      "outputs": []
    },
    {
      "cell_type": "markdown",
      "source": [
        "Function with the return statement\n",
        "---"
      ],
      "metadata": {
        "id": "KUH1VtuG01Au"
      }
    },
    {
      "cell_type": "markdown",
      "source": [
        "Description\n",
        "---\n",
        "A function with a *return* statement sends a value back to the part of the program where the function was called. The return statement inside of a function will terminate the function execution and return to the calling position with some return value. The return value can be any data type including int, float, complex data, data sequencies,and user-defined objects like classes and functions. The return value can be omited or you can have a single return statement. A function can have multiple *return* statements often within conditional blocks, but only one will be executed and function will exit. If no *return* statement is given, the function returns None by default. Using *return* allows the functions to produce outputs that can be reused elsewhere in a program, making them more versatile and powerful."
      ],
      "metadata": {
        "id": "AgyqYZ_pJ-_w"
      }
    },
    {
      "cell_type": "markdown",
      "source": [
        "Syntax\n",
        "\n",
        "---\n",
        "          See examples below"
      ],
      "metadata": {
        "id": "5pwwEXtxKDhm"
      }
    },
    {
      "cell_type": "markdown",
      "source": [
        "Examples\n",
        "\n",
        "---"
      ],
      "metadata": {
        "id": "u6jcwdoTKJJp"
      }
    },
    {
      "cell_type": "code",
      "source": [
        "# Defining function with a return statement\n",
        "\n",
        "def myTestFunction(): return\n",
        "\n",
        "myTestFunction()"
      ],
      "metadata": {
        "id": "WD5rmSjS2pMu"
      },
      "execution_count": null,
      "outputs": []
    },
    {
      "cell_type": "code",
      "source": [
        "# Defining function with an explicit return statement\n",
        "\n",
        "def myFirstFunction():\n",
        "  print(\"Before the return statement\")\n",
        "  return\n",
        "  print(\"After the return statement\")\n",
        "\n",
        "myFirstFunction()"
      ],
      "metadata": {
        "id": "P8tdEAYyNeoz"
      },
      "execution_count": null,
      "outputs": []
    },
    {
      "cell_type": "code",
      "source": [
        "# Defining function with an explicit return value in one line\n",
        "\n",
        "def myFirstFunction(): return 2 + 3\n",
        "\n",
        "print(myFirstFunction())\n"
      ],
      "metadata": {
        "id": "46Fzh95PgqGX"
      },
      "execution_count": null,
      "outputs": []
    },
    {
      "cell_type": "code",
      "source": [
        "# Returning a list of values using list comprehension\n",
        "\n",
        "def myListFunction(myNumberList):\n",
        "  myNumber = [i for i in myNumberList if i % 2 == 0]\n",
        "  return myNumber\n",
        "\n",
        "myNumberList = [ 1, 2, 3, 4, 5, 6, 7, 8]\n",
        "\n",
        "print(myListFunction(myNumberList))"
      ],
      "metadata": {
        "id": "xJwu4Zsq3Tbq"
      },
      "execution_count": null,
      "outputs": []
    },
    {
      "cell_type": "markdown",
      "source": [
        "5.2 Global and local variables\n",
        "---"
      ],
      "metadata": {
        "id": "mHnCtEfthjdC"
      }
    },
    {
      "cell_type": "markdown",
      "source": [
        "Description\n",
        "\n",
        "---\n",
        "Local and global variables determine the scope and accessiblility of data within the program. A local variable is defined inside a function and can only be accessed within that function. In contrast, a global variable is defined outside any function and can be accessed throughout the entire Python program, including inside functions. If you want to modify a global variable variable within a function, you must use the *global* keyword, otherwise, Python will treat any assignments as creating a new local variable."
      ],
      "metadata": {
        "id": "h5YXiTnWLQed"
      }
    },
    {
      "cell_type": "markdown",
      "source": [
        "Syntax\n",
        "\n",
        "---\n",
        "          Local variable\n",
        "\n",
        "          def functionName():\n",
        "              localVariable = value\n",
        "\n",
        "          Global variable\n",
        "          \n",
        "          def functionName():\n",
        "              global globalVariable"
      ],
      "metadata": {
        "id": "hiFlZq2UMTGQ"
      }
    },
    {
      "cell_type": "markdown",
      "source": [
        "Examples\n",
        "\n",
        "---"
      ],
      "metadata": {
        "id": "p6K8GjGwNKOl"
      }
    },
    {
      "cell_type": "code",
      "source": [
        "# Global variable is defined outside of a function\n",
        "\n",
        "myGlobalVariable = \"cool!\"\n",
        "\n",
        "def myTestFunc():\n",
        "  print(\"Python is \" + myGlobalVariable)\n",
        "\n",
        "myTestFunc()"
      ],
      "metadata": {
        "id": "MdPiV7DsR2iP"
      },
      "execution_count": null,
      "outputs": []
    },
    {
      "cell_type": "code",
      "source": [
        "# Local variable is defined inside of a function\n",
        "\n",
        "def myTestFunc():\n",
        "  myLocalVariable = \"cool!\"\n",
        "  print(\"Python is \" + myLocalVariable)\n",
        "\n",
        "myTestFunc()"
      ],
      "metadata": {
        "id": "gpAxV2-CIDSL"
      },
      "execution_count": null,
      "outputs": []
    },
    {
      "cell_type": "code",
      "source": [
        "# Global and local variables\n",
        "\n",
        "def myTestFunc():\n",
        "  myLocalVariable = \"fantastic\"\n",
        "  print(\"Python is \" + myGlobalVariable + \"!\" + \"- from function\")\n",
        "  print(\"Python is \" + myLocalVariable  + \"!\" + \"- from function\")\n",
        "\n",
        "myGlobalVariable = \"awesome\"\n",
        "\n",
        "myTestFunc()\n",
        "\n",
        "#print(\"Python is \" + myLocalVariable)"
      ],
      "metadata": {
        "id": "o7apT8-SSt8z"
      },
      "execution_count": null,
      "outputs": []
    },
    {
      "cell_type": "code",
      "source": [
        "# If global and local variables are defined with the same name\n",
        "\n",
        "def myTestFunc():\n",
        "  myVariable = \"fantastic\"\n",
        "  print(\"Python is \" + myVariable + \"!\" + \" - from function\")\n",
        "\n",
        "myVariable = \"awesome\"\n",
        "\n",
        "myTestFunc()\n",
        "\n",
        "print(\"Python is \" + myVariable)"
      ],
      "metadata": {
        "id": "YixOhDAtJGjC"
      },
      "execution_count": null,
      "outputs": []
    },
    {
      "cell_type": "code",
      "source": [
        "# How can you create a global variable in the local scope, inside of a function\n",
        "\n",
        "def myTestFunc():\n",
        "    global myLocalVariable\n",
        "\n",
        "    myLocalVariable = \"fantastic\"\n",
        "\n",
        "    print(\"Python is \" + myGlobalVariable + \"!\" + \" from function\")\n",
        "    print(\"Python is \" + myLocalVariable  + \"!\" + \" from function\")\n",
        "\n",
        "myGlobalVariable = \"awesome\"\n",
        "\n",
        "myTestFunc()\n",
        "\n",
        "print(\"Python is \" + myLocalVariable + \"!\")"
      ],
      "metadata": {
        "id": "-SYqmQRRT_fm"
      },
      "execution_count": null,
      "outputs": []
    },
    {
      "cell_type": "code",
      "source": [
        "# If global variable needs to be modified\n",
        "\n",
        "def myTestFunc():\n",
        "  global myVariable\n",
        "  myVariable += \" fantastic\"    # Remember the assignment operator x = x + value\n",
        "  print(\"Python is \" + myVariable + \"!\" + \" - from the function\")\n",
        "\n",
        "myVariable = \"awesome\"\n",
        "\n",
        "myTestFunc()\n",
        "\n",
        "print(\"Python is \" + myVariable)"
      ],
      "metadata": {
        "id": "jJqEv6KHJ_i_"
      },
      "execution_count": null,
      "outputs": []
    },
    {
      "cell_type": "markdown",
      "source": [
        "5.3 Parameters vs arguments\n",
        "---"
      ],
      "metadata": {
        "id": "m3KHxwxemXUW"
      }
    },
    {
      "cell_type": "markdown",
      "source": [
        "Description\n",
        "\n",
        "---\n",
        "A parameter placed inside of the parentheses when function is defined. Parameter is accessible only inside the function and argument can be accessible from anywhere in the program. An argument passed to the function when function is called. The shorthand notation for the arguments is args and for the keyword arguments is kwargs.  You can call a function with the following arguments:\n",
        "\n",
        "* Positional arguments;\n",
        "* Keyword arguments;\n",
        "* Mixed arguments - a mix of positional and keyword arguments.\n",
        "\n",
        "It is also important to provide the same number of arguments as defined in the parameter field of a function."
      ],
      "metadata": {
        "id": "8SX7HBEjNcax"
      }
    },
    {
      "cell_type": "markdown",
      "source": [
        "Syntax\n",
        "\n",
        "---\n",
        "          def  functionName(param 1, param 2, ..., param n): block of code\n",
        "          call functionName(arg 1, arg 2, ..., arg n)\n",
        "\n",
        "          def  functionName(param 1, param 2, ..., param n): block of code\n",
        "          call functionName(arg 1 = val 1, arg 2 = val 2, ..., arg n = val n)\n",
        "\n",
        "          def  functionName(param 1, param 2, ..., param n): block of code\n",
        "          call functionName(arg 1, arg 2 = val 2, ..., arg n = val n)"
      ],
      "metadata": {
        "id": "Li40fdGONiGH"
      }
    },
    {
      "cell_type": "markdown",
      "source": [
        "Positional arguments\n",
        "---"
      ],
      "metadata": {
        "id": "nrejez6cEEix"
      }
    },
    {
      "cell_type": "markdown",
      "source": [
        "Description\n",
        "\n",
        "---\n",
        "Positional arguments are the most common way to pass values to a function. They are characterized by their positional order. These arguments are assigned to function parameters based strictly on their position in the functional call. The first argumant is matched to the first parameter, the second to the second, and so on. The positional order is important when you pass arguments to a function."
      ],
      "metadata": {
        "id": "yr83RlVyOFgv"
      }
    },
    {
      "cell_type": "markdown",
      "source": [
        "Syntax\n",
        "\n",
        "---\n",
        "      See examples below"
      ],
      "metadata": {
        "id": "C1ekxlXeO6hv"
      }
    },
    {
      "cell_type": "markdown",
      "source": [
        "Examples\n",
        "\n",
        "---"
      ],
      "metadata": {
        "id": "y_pAgH9MPDzY"
      }
    },
    {
      "cell_type": "code",
      "source": [
        "# Functions with one positional argument\n",
        "\n",
        "def mySecondFunction(PersonName):\n",
        "  print(PersonsName)\n",
        "\n",
        "mySecondFunction(\"Olaf\")\n",
        "mySecondFunction(\"Kalfeoie\")"
      ],
      "metadata": {
        "id": "boytjDE8pq3n"
      },
      "execution_count": null,
      "outputs": []
    },
    {
      "cell_type": "code",
      "source": [
        "# Functions with two positional arguments\n",
        "\n",
        "def myThirdFunction( myFirstName, mySecondName ):\n",
        "  print(myFirstName + \"  \" + mySecondName)\n",
        "\n",
        "myFirstName  = \"Olaf\"\n",
        "mySecondName = \"Kalfeoie\"\n",
        "\n",
        "myThirdFunction(myFirstName, mySecondName)"
      ],
      "metadata": {
        "id": "5i5F-obtqTLl"
      },
      "execution_count": null,
      "outputs": []
    },
    {
      "cell_type": "code",
      "source": [
        "# Functions with three positional arguments\n",
        "\n",
        "def myThirdFunction( myFirstName, mySecondName, phoneNumber ):\n",
        "  print(myFirstName + \"  \" + mySecondName + \"  \" + phoneNumber)\n",
        "\n",
        "myFirstName  = \"Olaf\"\n",
        "mySecondName = \"Kalfeoie\"\n",
        "phoneNumber  = \"1231234-1234\"\n",
        "\n",
        "myThirdFunction(myFirstName, mySecondName, phoneNumber)"
      ],
      "metadata": {
        "id": "EsFxiyHNQ4SP"
      },
      "execution_count": null,
      "outputs": []
    },
    {
      "cell_type": "markdown",
      "source": [
        "Keyword arguments\n",
        "---"
      ],
      "metadata": {
        "id": "cuazNY6KQORb"
      }
    },
    {
      "cell_type": "markdown",
      "source": [
        "Description\n",
        "\n",
        "---\n",
        "Keyword arguments allow you to pass values to a function by explicitly specifying the parameter names in the function call, rather relying on their positions. This makes the code more readable and flexible, especially when function has many parameters. Keyword arguments also allow you to skip certain parameters if they have default values.  "
      ],
      "metadata": {
        "id": "HqjR27dPPSIL"
      }
    },
    {
      "cell_type": "markdown",
      "source": [
        "Syntax\n",
        "\n",
        "---\n",
        "          See examples below"
      ],
      "metadata": {
        "id": "VlHVyVSlP5HM"
      }
    },
    {
      "cell_type": "markdown",
      "source": [
        "Examples\n",
        "\n",
        "---"
      ],
      "metadata": {
        "id": "y4f4_ytoP-JR"
      }
    },
    {
      "cell_type": "code",
      "source": [
        "# Keyword arguments with the key = value format in positional order\n",
        "\n",
        "def myRegularFunction(name1, name2, name3):\n",
        "  print(name1, name2, name3)\n",
        "\n",
        "myRegularFunction(name1=\"Olaf\", name2=\"Holiaf\", name3=\"Linux\")"
      ],
      "metadata": {
        "id": "oCkZZY-GsPdH"
      },
      "execution_count": null,
      "outputs": []
    },
    {
      "cell_type": "code",
      "source": [
        "# Function with various key = value arguments without positional order\n",
        "\n",
        "def myRegularFunction(name3, name1, name2):\n",
        "  print(name1, name2, name3)\n",
        "\n",
        "myRegularFunction(name2=\"Holiaf\", name3=\"Linux\", name1=\"Olaf\")\n"
      ],
      "metadata": {
        "id": "2RnOxHvezL_s"
      },
      "execution_count": null,
      "outputs": []
    },
    {
      "cell_type": "code",
      "source": [
        "# Function with the keyword arguments without a positional order\n",
        "\n",
        "def myAddFunction(numOne, numTwo):\n",
        "  return numOne + numTwo\n",
        "\n",
        "print ( myAddFunction(numTwo = 25, numOne = 5) )"
      ],
      "metadata": {
        "id": "yjCB6e5cyYUf"
      },
      "execution_count": null,
      "outputs": []
    },
    {
      "cell_type": "markdown",
      "source": [
        "Mixed arguments - a mix of positional and keyword arguments\n",
        "---"
      ],
      "metadata": {
        "id": "89nMshtqV7ON"
      }
    },
    {
      "cell_type": "markdown",
      "source": [
        "Description\n",
        "\n",
        "---\n",
        "Mixed arguments refer to a combination of positional and keyword arguments used in a function call. When using mixed arguments, the positional arguments must appera first, followed by the keyword arguments. This allows for flexibility in passing arguments, ensuring that the required arguments are provided in order while optional ones can be specified by name. Using mixed arguments makes the function call more readable and helps to avoid errors, especially when dealing with functions that have many parameters, some of wich might have default values.\n",
        "\n",
        "The rule of thumb, all the positional arguments should go before the keyword arguments."
      ],
      "metadata": {
        "id": "ScnsHlZlQZsw"
      }
    },
    {
      "cell_type": "markdown",
      "source": [
        "Syntax\n",
        "\n",
        "---\n",
        "          See examples below"
      ],
      "metadata": {
        "id": "REuGBCzgRUJ3"
      }
    },
    {
      "cell_type": "markdown",
      "source": [
        "Examples\n",
        "\n",
        "---"
      ],
      "metadata": {
        "id": "KCjzyo-SRYH7"
      }
    },
    {
      "cell_type": "code",
      "source": [
        "# Functions with positional and keyword arguments\n",
        "\n",
        "def myMixArgsFunction(firstVar, secondVar, thirdVar):\n",
        "  print(\"Mixed arguments :\", firstVar,\" \", secondVar,\" \", thirdVar)\n",
        "\n",
        "myMixArgsFunction(2, thirdVar = 12, secondVar = 3)"
      ],
      "metadata": {
        "id": "j9wbvVM2WCLI"
      },
      "execution_count": null,
      "outputs": []
    },
    {
      "cell_type": "code",
      "source": [
        "# Functions with positional and keyword arguments\n",
        "\n",
        "def myMixArgsFunction(firstVar, secondVar, thirdVar):\n",
        "  print(\"Mixed arguments :\", firstVar,\" \", secondVar,\" \", thirdVar)\n",
        "\n",
        "myMixArgsFunction(2, 12, secondVar = 3)"
      ],
      "metadata": {
        "id": "-Zn26I54XZEP"
      },
      "execution_count": null,
      "outputs": []
    },
    {
      "cell_type": "markdown",
      "source": [
        "Functions with arbitrary number of arguments\n",
        "---"
      ],
      "metadata": {
        "id": "QaGbTpE7Coqz"
      }
    },
    {
      "cell_type": "markdown",
      "source": [
        "Description\n",
        "\n",
        "---\n",
        "The \\*args is a convention in Python when a number of arguments to be passed to the function is unknown. The \\*args parameter allow to pass a variable number of positional arguments to the function. The wildcard * in front of args word makes the parameter iterable."
      ],
      "metadata": {
        "id": "hJ8i0z6hRicX"
      }
    },
    {
      "cell_type": "markdown",
      "source": [
        "Syntax\n",
        "\n",
        "---\n",
        "          def functionName(*args):"
      ],
      "metadata": {
        "id": "iOATmlx4Rlz0"
      }
    },
    {
      "cell_type": "markdown",
      "source": [
        "Examples\n",
        "\n",
        "---"
      ],
      "metadata": {
        "id": "TtdgXtvIR06P"
      }
    },
    {
      "cell_type": "code",
      "source": [
        "# Arbitrary number of arguments (*args), receives a tuple of arguments\n",
        "\n",
        "def myFifthFunction(*args):\n",
        "  print(args)\n",
        "\n",
        "myFifthFunction(\"Olaf\", \"Stella\", \"Klaus\", \"Kontrate\")"
      ],
      "metadata": {
        "id": "nqFeTyLUrQeW"
      },
      "execution_count": null,
      "outputs": []
    },
    {
      "cell_type": "markdown",
      "source": [
        "Functions with arbitrary number of keyword positional arguments\n",
        "---"
      ],
      "metadata": {
        "id": "IuuKTYFKQvVC"
      }
    },
    {
      "cell_type": "markdown",
      "source": [
        "Description\n",
        "\n",
        "---\n",
        "To accept an arbitrary number of key word arguments one needs to use \\**kwargs syntax. The double asterisk is used to indicate that the function can accept multiple key word arguments."
      ],
      "metadata": {
        "id": "o4D_5F-CSAeQ"
      }
    },
    {
      "cell_type": "markdown",
      "source": [
        "Syntax\n",
        "\n",
        "---\n",
        "          def functionName(**kwargs):"
      ],
      "metadata": {
        "id": "6J8mnKTVR6O5"
      }
    },
    {
      "cell_type": "markdown",
      "source": [
        "Examples\n",
        "\n",
        "---"
      ],
      "metadata": {
        "id": "JNeslKF0SFED"
      }
    },
    {
      "cell_type": "code",
      "source": [
        "# Arbitrary number of keyword arguments (**kwargs) recieves a dictionary of arguments\n",
        "\n",
        "def myTestFunction(**kwargs):\n",
        "  print(kwargs, end=\" \")\n",
        "\n",
        "myTestFunction(num1 = 1, num2 = 2, num3 = 3, num4 = 4)"
      ],
      "metadata": {
        "id": "Gev7VgrMBAIC"
      },
      "execution_count": null,
      "outputs": []
    },
    {
      "cell_type": "code",
      "source": [
        "# Arbitrary number of keywords arguments\n",
        "\n",
        "def myRegularFunction(**kwargs):\n",
        "  print(kwargs)\n",
        "\n",
        "myRegularFunction(myFirstName = \"Oleaf\", myLastName=\"Kwwiec\", myMiddleName = \"Komntras\")"
      ],
      "metadata": {
        "id": "OFBpGrPCs21Z"
      },
      "execution_count": null,
      "outputs": []
    },
    {
      "cell_type": "markdown",
      "source": [
        "Functions with arbitrary number of positional arguments and keyword arguments\n",
        "---"
      ],
      "metadata": {
        "id": "TmMawt1iRxgG"
      }
    },
    {
      "cell_type": "markdown",
      "source": [
        "Description\n",
        "\n",
        "---\n",
        "It is also possible to create a function that will accept an arbitrary number of positional arguments and an arbitrary number of key word arguments. This function will collect the positional arguments into a tuple and key word arguments into a dictionary.\n",
        "\n",
        "Rule of thumb \\*args should come before \\**kwargs."
      ],
      "metadata": {
        "id": "1DdlZReYSMK4"
      }
    },
    {
      "cell_type": "markdown",
      "source": [
        "Note\n",
        "\n",
        "---\n",
        "\\*args collects all positional arguments passed to the function into a tuple.\n",
        "\n",
        "\\**kwargs collects all the keyword arguments to the function into a dictionary."
      ],
      "metadata": {
        "id": "qGDclIyUTXVX"
      }
    },
    {
      "cell_type": "markdown",
      "source": [
        "Syntax\n",
        "\n",
        "---\n",
        "          def functionName(*args, **kwargs):"
      ],
      "metadata": {
        "id": "9EaC74ehSO6d"
      }
    },
    {
      "cell_type": "markdown",
      "source": [
        "Examples\n",
        "\n",
        "---"
      ],
      "metadata": {
        "id": "TmxBMvuRSa4a"
      }
    },
    {
      "cell_type": "code",
      "source": [
        "# Arbitrary number of arguments (*args) and keyword arguments (**kwargs)\n",
        "\n",
        "def myTestFunction(*args, **kwargs):\n",
        "  print(args, kwargs, end=\" \")\n",
        "\n",
        "myTestFunction(1, 2, 3, num1 = 1, num2 = 2, num3 = 3, num4 = 4)"
      ],
      "metadata": {
        "id": "1w1U2ZMcRH9T"
      },
      "execution_count": null,
      "outputs": []
    },
    {
      "cell_type": "markdown",
      "source": [
        "Functions with default parameters\n",
        "---"
      ],
      "metadata": {
        "id": "oZMfUN14XwPg"
      }
    },
    {
      "cell_type": "markdown",
      "source": [
        "Description\n",
        "\n",
        "---\n",
        "Functions with default parameters allow you to assign default values to one or more parameters when defining a function. These default values are used if no arguments is provided for the parameter during the function call. Default parameters are specified using the assignment operator (=) in the function definition. It is important to place default parameters after all required (non-default) parameters in the function signature to avoid syntax errors."
      ],
      "metadata": {
        "id": "7f8q8KLCUgEa"
      }
    },
    {
      "cell_type": "markdown",
      "source": [
        "Syntax\n",
        "\n",
        "---\n",
        "          def  functionName(param 1, param 2 = val 2, ..., param n = value n): block of code\n",
        "          call functionName(arg 1, arg 2, ..., arg n)"
      ],
      "metadata": {
        "id": "4fpINr35VZCW"
      }
    },
    {
      "cell_type": "markdown",
      "source": [
        "Examples\n",
        "\n",
        "---"
      ],
      "metadata": {
        "id": "tLtCN8jrViaL"
      }
    },
    {
      "cell_type": "code",
      "source": [
        "# Functions with default parameters\n",
        "\n",
        "def myRegularFunction( myVar1, myVar2 = 0.34, myVar3 = 10 ):\n",
        "  print(myVar1,\" \", myVar2,\" \", myVar3)\n",
        "\n",
        "myRegularFunction(0.1)\n",
        "myRegularFunction(0.1, 0.22)\n",
        "myRegularFunction(0.1, 0.22, 123456)"
      ],
      "metadata": {
        "id": "LwyW8wd8tx1Y"
      },
      "execution_count": null,
      "outputs": []
    },
    {
      "cell_type": "markdown",
      "source": [
        "5.4 Recursive functions\n",
        "---"
      ],
      "metadata": {
        "id": "cWD1MYyqYtle"
      }
    },
    {
      "cell_type": "markdown",
      "source": [
        "Description\n",
        "\n",
        "---\n",
        "A recursive function is a function that calls itself in order to solve a problem. This technique is useful for breaking down complex problems into simpler problems of the same type. A recursive function must have a base case to stop the recursion and prevent an infinite loop. A recursive case reduces the problem and makes a self-call. Recursive functions are powerful for tasks that involve repeated patterns, such as traversing trees or perform divide-and-conquer algorithms.\n",
        "\n",
        "The recursive functions is when a function is referring to itself."
      ],
      "metadata": {
        "id": "nyyPT5FzVyeS"
      }
    },
    {
      "cell_type": "markdown",
      "source": [
        "![Presentation_recursive.png](data:image/png;base64,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)"
      ],
      "metadata": {
        "id": "ronyGdM0dKN6"
      }
    },
    {
      "cell_type": "markdown",
      "source": [
        "Syntax\n",
        "\n",
        "---\n",
        "          def functionName(parameters):\n",
        "              if condition:\n",
        "                  return value\n",
        "              else\n",
        "                  # recursive case\n",
        "              return functionName(updated parameters)"
      ],
      "metadata": {
        "id": "twQbrjpiWxig"
      }
    },
    {
      "cell_type": "markdown",
      "source": [
        "Examples\n",
        "\n",
        "---"
      ],
      "metadata": {
        "id": "16OUYdG3XUfq"
      }
    },
    {
      "cell_type": "code",
      "source": [
        "# Recursive function - can call itself (5! = 1*2*3*4*5)\n",
        "\n",
        "def myRecursiveFunction(x):\n",
        "  \"\"\" This is a recursive function to find a fuctorial\"\"\"\n",
        "  if x ==1:\n",
        "    return 1;\n",
        "  else:\n",
        "    return (x * myRecursiveFunction(x-1))\n",
        "\n",
        "x = 5\n",
        "print(\"The factorial of x\", x, \"is\", myRecursiveFunction(x))\n"
      ],
      "metadata": {
        "id": "p3SipIbNxsp1"
      },
      "execution_count": null,
      "outputs": []
    },
    {
      "cell_type": "markdown",
      "source": [
        "Functions with data sequences passed as arguments\n",
        "---"
      ],
      "metadata": {
        "id": "hJpAfegVRhXv"
      }
    },
    {
      "cell_type": "markdown",
      "source": [
        "Description\n",
        "\n",
        "---\n",
        "Functions can accept data sequences such as strings, lists, tuple, and sets as arguments, allowing them to perform operations on collection of values. When a sequence is passed to the function, it can be accessed using loops oe sequence operations like indexing, slicing, or built-in functions. One can create functions to accept the data sequences. This allows to perform operations on the data sequences within a function. Here are a few examples with list, dictionary, tuple, and set."
      ],
      "metadata": {
        "id": "ZNH8feXiXiOq"
      }
    },
    {
      "cell_type": "markdown",
      "source": [
        "Syntax\n",
        "\n",
        "---\n",
        "          def functionName(sequence):\n",
        "              for item in sequence:\n",
        "                  block of code"
      ],
      "metadata": {
        "id": "S9xzWNgvYNlL"
      }
    },
    {
      "cell_type": "markdown",
      "source": [
        "Examples\n",
        "\n",
        "---"
      ],
      "metadata": {
        "id": "wwcY8wtsYn_N"
      }
    },
    {
      "cell_type": "code",
      "source": [
        "# Functions with a list as an argument\n",
        "\n",
        "def myFishFunction(fish):\n",
        "  for i in fish:\n",
        "    print(i, end=\"; \")\n",
        "\n",
        "fish = [ \"Carp\", \"Bass\", \"Red Snapper\", \"Labeo culbasu\", \"Chanda Nama\", \"Ruffe\" ]\n",
        "\n",
        "myFishFunction(fish)"
      ],
      "metadata": {
        "id": "ylLWPkYKvhGi"
      },
      "execution_count": null,
      "outputs": []
    },
    {
      "cell_type": "code",
      "source": [
        "# Functions with a tuple as an argument, key values by default, fish.values(), fish.items().\n",
        "\n",
        "def myFishFunction(fish):\n",
        "  for i in fish:\n",
        "    print(i, end=\"; \")\n",
        "\n",
        "fish = ( \"Carp\", \"Bass\", \"Red Snapper\", \"Labeo culbasu\", \"Chanda Nama\", \"Ruffe\" )\n",
        "\n",
        "myFishFunction(fish)"
      ],
      "metadata": {
        "id": "z6vBmlBZRwDt"
      },
      "execution_count": null,
      "outputs": []
    },
    {
      "cell_type": "code",
      "source": [
        "# Functions with a set as an argument\n",
        "\n",
        "def myFishFunction(fish):\n",
        "  for i in fish:\n",
        "    print(i, end=\"; \")\n",
        "\n",
        "fish = { \"Carp\", \"Bass\", \"Red Snapper\", \"Labeo culbasu\", \"Chanda Nama\", \"Ruffe\" }\n",
        "\n",
        "myFishFunction(fish)"
      ],
      "metadata": {
        "id": "9sTn-OZqR3_S"
      },
      "execution_count": null,
      "outputs": []
    },
    {
      "cell_type": "code",
      "source": [
        "# Functions with a dictionary as an argument, key values by default, fish.values(), fish.items().\n",
        "\n",
        "def myFishFunction(fish):\n",
        "  for i in fish:\n",
        "    print(i, end=\"; \")\n",
        "\n",
        "fish = { \"Carp\":1, \"Bass\":2, \"Red Snapper\":3, \"Labeo culbasu\":4, \"Chanda Nama\":5, \"Ruffe\":6 }\n",
        "\n",
        "myFishFunction(fish)"
      ],
      "metadata": {
        "id": "9hIJBPDJ7VkY"
      },
      "execution_count": null,
      "outputs": []
    },
    {
      "cell_type": "markdown",
      "source": [
        "Modyfing a list inside of the function\n",
        "---"
      ],
      "metadata": {
        "id": "FTQXkDKjtOMq"
      }
    },
    {
      "cell_type": "markdown",
      "source": [
        "Description\n",
        "\n",
        "---\n",
        "You can return a modified sequence from a function just like any other value. After processing or transforming the sequence, the function can use the return statement to send the modified results back to the caller.\n",
        "\n",
        "The data sequence can be modified inside of the function!"
      ],
      "metadata": {
        "id": "4rMUlD8yY7WP"
      }
    },
    {
      "cell_type": "markdown",
      "source": [
        "Syntax\n",
        "\n",
        "---\n",
        "          def functionName(sequence):\n",
        "              block of code\n",
        "              modified_sequence = ...\n",
        "              return modified_sequence"
      ],
      "metadata": {
        "id": "pNixZuchZVla"
      }
    },
    {
      "cell_type": "markdown",
      "source": [
        "Examples\n",
        "\n",
        "---"
      ],
      "metadata": {
        "id": "i48J6CKdZtl7"
      }
    },
    {
      "cell_type": "code",
      "source": [
        "# Some examples with the list\n",
        "\n",
        "def myListFunction(lst):\n",
        "  del lst[2]                              # deleting number 3 from the list\n",
        "  print(\"List after deleting the second index\", lst)\n",
        "\n",
        "lst = [1, 2, 3, 4, 5]\n",
        "\n",
        "print( \"My list before the deletion\", lst )\n",
        "myListFunction(lst)\n",
        "print( \"My list after the deletion\",  lst )\n"
      ],
      "metadata": {
        "id": "OAXxUwTZnbF9"
      },
      "execution_count": null,
      "outputs": []
    },
    {
      "cell_type": "markdown",
      "source": [
        "5.5 Lambda function\n",
        "---"
      ],
      "metadata": {
        "id": "AEUhSBDteg5a"
      }
    },
    {
      "cell_type": "markdown",
      "source": [
        "Description\n",
        "\n",
        "---\n",
        "A lambda function is a small, anonymous function defined using the *lambda* keyword instead of the standard *def* syntax. Lambda functions are typically used for short, simple operations where defining a full function would be unnecessary verbose. Unlike regular functions, a lambda function can only contain a single expression and can not include multiple statements or assignments. They are often used as arguments to higher-order functions like *map()*, *filter()*, and *sorted()* for inline, on-the-fly functionality.\n",
        "\n",
        "Lambda function is a function that does not have a function name. A lambda function can take any number of arguments but can have only one expression!"
      ],
      "metadata": {
        "id": "cRwKRA4UZ7Yi"
      }
    },
    {
      "cell_type": "markdown",
      "source": [
        "Syntax\n",
        "\n",
        "---\n",
        "          lambda variable: one expression"
      ],
      "metadata": {
        "id": "HZKXQ0ilbB79"
      }
    },
    {
      "cell_type": "markdown",
      "source": [
        "Examples\n",
        "\n",
        "---"
      ],
      "metadata": {
        "id": "4eoabluEbH53"
      }
    },
    {
      "cell_type": "code",
      "source": [
        "# A lambda function can take any number of arguments but have only one expression\n",
        "# lambda arguments : expression\n",
        "\n",
        "myLambdaFunction = lambda myVar: myVar + 10.0\n",
        "print(myLambdaFunction(10))"
      ],
      "metadata": {
        "id": "42tLupuqzKxu"
      },
      "execution_count": null,
      "outputs": []
    },
    {
      "cell_type": "code",
      "source": [
        "# A lambda function with multiple arguments\n",
        "\n",
        "myLambdaFunction = lambda myVar1, myVar2 : myVar1 * myVar2\n",
        "print(myLambdaFunction(64, 256))"
      ],
      "metadata": {
        "id": "jxCiwzbN0PP8"
      },
      "execution_count": null,
      "outputs": []
    },
    {
      "cell_type": "code",
      "source": [
        "# A lambda function with multiple arguments\n",
        "\n",
        "myLambdaFunction = lambda myVar1, myVar2, myVar3 : (myVar1 + myVar2)/myVar3\n",
        "\n",
        "print(myLambdaFunction(0.3, 0.4, 1.23))\n"
      ],
      "metadata": {
        "id": "hXOZHJET0j2h"
      },
      "execution_count": null,
      "outputs": []
    },
    {
      "cell_type": "markdown",
      "source": [
        "5.6 Function annotations\n",
        "---"
      ],
      "metadata": {
        "id": "J3KW5QWR5Z6u"
      }
    },
    {
      "cell_type": "markdown",
      "source": [
        "Description\n",
        "\n",
        "---\n",
        "Function annotations are optional and can be used for parameters and return values. It is a way of connecting some function expressions and other parts of functions. Annotation is always preceding the parameter's default value. Columns are used to define an annotation. Annotation for the excess parameters are also used as args and kwargs. Lambda function does not support annotations."
      ],
      "metadata": {
        "id": "2eAvdxNpbZHr"
      }
    },
    {
      "cell_type": "markdown",
      "source": [
        "Syntax\n",
        "\n",
        "---\n",
        "          def functionName(a: expression, b: expression):\n",
        "          def functionName() -> expression\n",
        "          def functionName(*args: expression, **kwargs: expression)"
      ],
      "metadata": {
        "id": "tdwa38XFbdHl"
      }
    },
    {
      "cell_type": "markdown",
      "source": [
        "Return value annotation\n",
        "---"
      ],
      "metadata": {
        "id": "fcNE2ApaZtSb"
      }
    },
    {
      "cell_type": "markdown",
      "source": [
        "Description\n",
        "\n",
        "---\n",
        "You can see the -> operator in some functions, which is the return value annotation. It is optional, it is just for information only and makes no difference for the interpreter."
      ],
      "metadata": {
        "id": "MJcFE017bo2P"
      }
    },
    {
      "cell_type": "markdown",
      "source": [
        "Syntax\n",
        "\n",
        "---\n",
        "          def functionName(parameter) -> type:\n",
        "              block of code\n",
        "              return value"
      ],
      "metadata": {
        "id": "9L10TBxnbtgi"
      }
    },
    {
      "cell_type": "markdown",
      "source": [
        "Examples\n",
        "\n",
        "---"
      ],
      "metadata": {
        "id": "8XJ65DN3b3EJ"
      }
    },
    {
      "cell_type": "code",
      "source": [
        "# Return value annotation with integer type\n",
        "\n",
        "def myIntFunction(myVal1: int, myVal2: int) -> int:\n",
        "  return (myVal1 * myVal2)\n",
        "\n",
        "print(myIntFunction(1,2))"
      ],
      "metadata": {
        "id": "mMyQSygGiHkS"
      },
      "execution_count": null,
      "outputs": []
    },
    {
      "cell_type": "code",
      "source": [
        "# Return value annotation with float type\n",
        "\n",
        "def myFloatFunction(myVal1: float, myVal2: float) -> float:\n",
        "  return (myVal1 * myVal2)\n",
        "\n",
        "print(myFloatFunction(1.1, 2.4))"
      ],
      "metadata": {
        "id": "FzNCqhi_FEYV"
      },
      "execution_count": null,
      "outputs": []
    },
    {
      "cell_type": "code",
      "source": [
        "# Return value annotation with str type\n",
        "\n",
        "def myStrFunction(myVal1: str, myVal2: str) -> str:\n",
        "  return (myVal1 + myVal2)\n",
        "\n",
        "print(myStrFunction(\"***\", \"*****\"))"
      ],
      "metadata": {
        "id": "GH5rvw3IGOk0"
      },
      "execution_count": null,
      "outputs": []
    },
    {
      "cell_type": "code",
      "source": [
        "# To annotate the list return type you can use the return value annotation.\n",
        "\n",
        "def myListFunction() -> list[str]:\n",
        "   myList=[1,2,3,4,5]\n",
        "   return myList\n",
        "\n",
        "myList=myListFunction()\n",
        "print(myList)"
      ],
      "metadata": {
        "id": "fBs8VSJtCEGD"
      },
      "execution_count": null,
      "outputs": []
    },
    {
      "cell_type": "code",
      "source": [
        "# To annotate the dictioanry return type you can use the return value annotation.\n",
        "\n",
        "def myDictFunction() -> dict[str:int]:\n",
        "   myDict={\"IDnumber\":123456,\"age\":32}\n",
        "   return myDict\n",
        "\n",
        "myDict=myDictFunction()\n",
        "print(myDict)"
      ],
      "metadata": {
        "id": "OEt1WZh4LnfD"
      },
      "execution_count": null,
      "outputs": []
    },
    {
      "cell_type": "code",
      "source": [
        "# Return value annotation with a default parameter, the default parameter will be ignored.\n",
        "\n",
        "def myTestFunction(myVal1: int, myVal2: int = 5) -> int:\n",
        "  return (myVal1 * myVal2)\n",
        "\n",
        "print(myTestFunction(1,2))"
      ],
      "metadata": {
        "id": "kLMIfGQkGB8k"
      },
      "execution_count": null,
      "outputs": []
    },
    {
      "cell_type": "code",
      "source": [
        "# To annotate the tuple return type you can use the return value annotation.\n",
        "\n",
        "def myTupleFunction(*args) -> tuple[int]:\n",
        "    return args\n",
        "\n",
        "myTuple = myTupleFunction(1,2,3,4,5)\n",
        "\n",
        "print(myTuple)\n",
        "print(type(myTuple))"
      ],
      "metadata": {
        "id": "hDaxqbIcNPqw"
      },
      "execution_count": null,
      "outputs": []
    },
    {
      "cell_type": "code",
      "source": [
        "# To annotate the tuple return type you can use the return value annotation.\n",
        "\n",
        "def myDictFunction(**kwargs) -> dict[str,str]:\n",
        "    return kwargs\n",
        "\n",
        "myDict = myDictFunction(Name=\"Oleaf\", age=\"39\")\n",
        "\n",
        "print(myDict)\n",
        "print(type(myDict))"
      ],
      "metadata": {
        "id": "SdIepmv-PLHk"
      },
      "execution_count": null,
      "outputs": []
    },
    {
      "cell_type": "markdown",
      "source": [
        "# Section 6: Modules\n",
        "\n",
        "6.1 Built-in modules\n",
        "\n",
        "6.2 User defined modules\n",
        "\n",
        "6.3 Importing modules\n",
        "\n",
        "6.4 Plotting modules\n",
        "\n",
        "6.5 Molecular visualization modules\n"
      ],
      "metadata": {
        "id": "oK3oYTd9fuxi"
      }
    },
    {
      "cell_type": "markdown",
      "source": [
        "6.1 Built-in modules\n",
        "---"
      ],
      "metadata": {
        "id": "R9KqUQVCZolv"
      }
    },
    {
      "cell_type": "markdown",
      "source": [
        "Description\n",
        "\n",
        "---\n",
        "We decompose our code in smaller pieces to make our code more readable. The way we can do this is to import modules to the code. A file that contains a set of functions is called a module. This module can be accessed from a program using \"**import**\" keyword. A module can also contain variables of all data types. You need to import a module to access all the functions and variables. Most python distributions come with many build-in modules like os, sys, time, math ... Here are a few examples with built-in functions such as os, sys, time, datetime, and math."
      ],
      "metadata": {
        "id": "o7GJVAeActwD"
      }
    },
    {
      "cell_type": "markdown",
      "source": [
        "Syntax\n",
        "\n",
        "---\n",
        "          import module"
      ],
      "metadata": {
        "id": "-BKKM9PTcyJ-"
      }
    },
    {
      "cell_type": "markdown",
      "source": [
        "Examples\n",
        "\n",
        "---"
      ],
      "metadata": {
        "id": "9_inZeqqc3Nb"
      }
    },
    {
      "cell_type": "code",
      "source": [
        "# To get current working directory path\n",
        "\n",
        "import os\n",
        "\n",
        "cwd = os.getcwd()\n",
        "\n",
        "print(\"My current working directory: \", cwd)"
      ],
      "metadata": {
        "id": "ldJduVgxuTUc"
      },
      "execution_count": null,
      "outputs": []
    },
    {
      "cell_type": "code",
      "source": [
        "# To list content of your directory\n",
        "\n",
        "import os\n",
        "\n",
        "path=\"/content\"\n",
        "\n",
        "dir_content=os.listdir(path)\n",
        "\n",
        "print(\"Content of my directory: \", dir_content)"
      ],
      "metadata": {
        "id": "YYDu5IL9u6oi"
      },
      "execution_count": null,
      "outputs": []
    },
    {
      "cell_type": "code",
      "source": [
        "# In this example the version of Python interpreter is return as string\n",
        "import sys\n",
        "\n",
        "print(sys.version)"
      ],
      "metadata": {
        "id": "UOIGTJNDp8Og"
      },
      "execution_count": null,
      "outputs": []
    },
    {
      "cell_type": "code",
      "source": [
        "# In this example we use sys.path that returns a list of directories\n",
        "# where the Python interpreter will search for the available modules.\n",
        "import sys\n",
        "\n",
        "print(sys.path)"
      ],
      "metadata": {
        "id": "qMZ_QbSSsVyv"
      },
      "execution_count": null,
      "outputs": []
    },
    {
      "cell_type": "code",
      "source": [
        "# How to use time module\n",
        "import time\n",
        "\n",
        "print(time.strftime(\"%H:%M:%S\"))\n"
      ],
      "metadata": {
        "id": "IQAmTZrWlJGL"
      },
      "execution_count": null,
      "outputs": []
    },
    {
      "cell_type": "code",
      "source": [
        "# Date time now\n",
        "import datetime\n",
        "\n",
        "print(datetime.datetime.now())"
      ],
      "metadata": {
        "id": "TGU64hC9mGBT"
      },
      "execution_count": null,
      "outputs": []
    },
    {
      "cell_type": "code",
      "source": [
        "# To specify exact entity we need to use the following syntax.\n",
        "import math\n",
        "\n",
        "print(math.pi)"
      ],
      "metadata": {
        "id": "_J3FKW-GwZ1F"
      },
      "execution_count": null,
      "outputs": []
    },
    {
      "cell_type": "code",
      "source": [
        "# There is a dir() function that lists all the functions inside of a module\n",
        "\n",
        "import math\n",
        "\n",
        "myFirstList=dir(math)\n",
        "print(myFirstList)"
      ],
      "metadata": {
        "id": "uPkzXV5soOd4"
      },
      "execution_count": null,
      "outputs": []
    },
    {
      "cell_type": "markdown",
      "source": [
        "6.2 User defined modules\n",
        "---"
      ],
      "metadata": {
        "id": "Sx9dS5rmdY6Z"
      }
    },
    {
      "cell_type": "markdown",
      "source": [
        "Description\n",
        "\n",
        "---\n",
        "The following example should be performed in Jupyter Lab. Once you import a module the Python executes it immediately, that is why most of the modules contain functions and variables' definitions only. Some modules not only contain the functions but also some automated tests making sure that the functions work correctly. These tests are not activated upon the call but independently. Each module will be initialized only once eventhough you might have a few initializations in different files. Python will be aware of all the modules imported in other files.  "
      ],
      "metadata": {
        "id": "fEArmgf9c-bw"
      }
    },
    {
      "cell_type": "markdown",
      "source": [
        "Syntax\n",
        "\n",
        "---\n",
        "          Creating a module\n",
        "\n",
        "          # mymodule.py\n",
        "\n",
        "          def myFunction(parameters):\n",
        "              block of code\n",
        "              return result\n",
        "\n",
        "          Using the module\n",
        "\n",
        "          import mymodule\n",
        "          mymodule.myFunction(arguments)"
      ],
      "metadata": {
        "id": "Sw2F3ouydC6P"
      }
    },
    {
      "cell_type": "markdown",
      "source": [
        "Examples\n",
        "\n",
        "---"
      ],
      "metadata": {
        "id": "FoIFkXfQdvbz"
      }
    },
    {
      "cell_type": "code",
      "source": [
        "# myOwnModule\n",
        "if __name__==\"__main__\":\n",
        "  print(\"This module runs directly\")\n",
        "else:\n",
        "  print(\"This module is imported\")\n"
      ],
      "metadata": {
        "id": "pLkPIS7CS2_Y"
      },
      "execution_count": null,
      "outputs": []
    },
    {
      "cell_type": "code",
      "source": [
        "#Main code\n",
        "import myOwnModule"
      ],
      "metadata": {
        "id": "71wJebGsTT1S"
      },
      "execution_count": null,
      "outputs": []
    },
    {
      "cell_type": "code",
      "source": [
        "# Save your file as myFirstModule.py\n",
        "\n",
        "def greeting(name):\n",
        "  print(\"Hello, \" + name)\n",
        "\n",
        "worker={\"name\":\"John\", \"age\":48, \"country\":\"Germany\"}"
      ],
      "metadata": {
        "id": "grEllPwTmn7k"
      },
      "execution_count": null,
      "outputs": []
    },
    {
      "cell_type": "code",
      "source": [
        "# Import my own module\n",
        "import myFirstModule\n",
        "\n",
        "myFirstModule.greeting(\"Daniel\")\n",
        "myFirstModule.worker[\"age\"]"
      ],
      "metadata": {
        "id": "MPgybNvQm0oY"
      },
      "execution_count": null,
      "outputs": []
    },
    {
      "cell_type": "markdown",
      "source": [
        "6.3 Importing modules\n",
        "---"
      ],
      "metadata": {
        "id": "F6KnIkoE4aU8"
      }
    },
    {
      "cell_type": "markdown",
      "source": [
        "Description\n",
        "\n",
        "---\n",
        "Modules are imported using the *import* statement, which allows you to access functions, classes, and variables defined in another file or built-in library. You can import an entire module using *import module name* statement, access its members with dot notation. To simplify access or avoid naming conflicts, you can assign an alias as *import module name as alias*. If you need only specific componentsfrom a module, you can use *from module name import item1, item2, ... * which lets you to use those items directly withoutthe module prefix. Additionally, *from module name import* * will import all public components, but it can lead to the namespace conflicts."
      ],
      "metadata": {
        "id": "jIXVP4M8d7t1"
      }
    },
    {
      "cell_type": "markdown",
      "source": [
        "Syntax\n",
        "\n",
        "---\n",
        "\n",
        "        import module\n",
        "\n",
        "        from module import *\n",
        "        \n",
        "        from module import entity1, entity2, ...\n",
        "        \n",
        "        import module as short name or alias\n",
        "        \n",
        "        from module import entity name as short name\n",
        "        \n",
        "        Both statements ( 1. and 2. ) are importing all\n",
        "        the entities from the module. The difference is\n",
        "        that in the first example you need to use prefix\n",
        "        (module.method) to refer to the method and in the\n",
        "        second example you do not need to use the prefix."
      ],
      "metadata": {
        "id": "F_UQwCalfaPe"
      }
    },
    {
      "cell_type": "markdown",
      "source": [
        "Examples\n",
        "\n",
        "---"
      ],
      "metadata": {
        "id": "9xONirTUflFt"
      }
    },
    {
      "cell_type": "code",
      "source": [
        "# Importing just the entire module, importing all the entities.\n",
        "import math\n",
        "\n",
        "print(math.pi) # Built in"
      ],
      "metadata": {
        "id": "uDTfAqzir-gN"
      },
      "execution_count": null,
      "outputs": []
    },
    {
      "cell_type": "code",
      "source": [
        "# You can import everything from the module using an asterisk.\n",
        "# It is not recommended to do so since a lot of conflicts can appear with your\n",
        "# own function names and they will be replaced. You also need to notice that\n",
        "# you do not need to specify math prefix anymore. You can just use the name itself.\n",
        "\n",
        "from math import *\n",
        "\n",
        "print(\"Pi number\", pi)"
      ],
      "metadata": {
        "id": "lZNlPe6x28l5"
      },
      "execution_count": null,
      "outputs": []
    },
    {
      "cell_type": "code",
      "source": [
        "# Importing just some of the entities.\n",
        "from math import acos, pi\n",
        "\n",
        "print(acos(-1))\n",
        "print(pi)"
      ],
      "metadata": {
        "id": "82t5Q1a4oxXE"
      },
      "execution_count": null,
      "outputs": []
    },
    {
      "cell_type": "code",
      "source": [
        "# You can also import a module using an alias to refer to the module,\n",
        "# a shorter name or an acronym for example.\n",
        "import math as mth\n",
        "\n",
        "print(\"Pi number :\", mth.pi)\n"
      ],
      "metadata": {
        "id": "eRWXYhzA-lHl"
      },
      "execution_count": null,
      "outputs": []
    },
    {
      "cell_type": "code",
      "source": [
        "# You can also import a module using an alias to refer to the module,\n",
        "# a shorter name or an acronym for example.\n",
        "\n",
        "import random as rnd\n",
        "\n",
        "print(rnd.randint(0,9)) #Returns a number in a<=N<=b or [a,b] inclusive\n"
      ],
      "metadata": {
        "id": "oIFdB3bupc87"
      },
      "execution_count": null,
      "outputs": []
    },
    {
      "cell_type": "code",
      "source": [
        "# Generating an array of random numbers\n",
        "from numpy.random import seed\n",
        "from numpy.random import randint\n",
        "\n",
        "seed(1)\n",
        "\n",
        "randomValues = randint(0,10,20)\n",
        "print(randomValues)\n"
      ],
      "metadata": {
        "id": "XHdJnkxYp8Ux"
      },
      "execution_count": null,
      "outputs": []
    },
    {
      "cell_type": "markdown",
      "source": [
        "Note\n",
        "\n",
        "---\n",
        "Most popular python modules\n",
        "\n",
        "1. Data analysis\n",
        "\n",
        "          **NumPy** - module is used for variety of mathematical operations on arrays.\n",
        "\n",
        "          **Pandas** - module designed to work with the datasets, data analysis.\n",
        "\n",
        "2. Artificial intelligence and machine learning\n",
        "\n",
        "          **Scikit-learn** - module with machine learning libraries.\n",
        "\n",
        "          **TensorFlow** - end-to-end machine learning module.\n",
        "\n",
        "          **PyTorch** - module with the largest machine learning library.\n",
        "\n",
        "          **Keras** - module with machine learning libraries.\n",
        "\n",
        "3. Web development\n",
        "\n",
        "          **Django** - module designed to help build webpages using pyhton.\n",
        "\n",
        "          **Flask**  - a lightweight and flexible micro-framework.\n",
        "\n",
        "4. Data visualization\n",
        "\n",
        "          **MatplotLib** - module for creating static, animated, and interactive graphs.\n",
        "\n",
        "5. Scientific computing\n",
        "\n",
        "          **SciPy** - module with a lot of mathematical algorithms and functions.\n",
        "---"
      ],
      "metadata": {
        "id": "_7hiGX6arYIG"
      }
    },
    {
      "cell_type": "markdown",
      "source": [
        "6.4 Plotting module\n",
        "---"
      ],
      "metadata": {
        "id": "J0ozzjJcuiB9"
      }
    },
    {
      "cell_type": "markdown",
      "source": [
        "Description\n",
        "\n",
        "---\n",
        "The plotiing module usually refers to the plotting libraries like Matplotlib or Seaborn, which are used to create visualizations such as line graphs, bar charts, histograms, scatterplots, animations, and more. Matplotlib is a versatile plotting library that provides a wide range of static, animated, and interactive plots. It allows a user to customize almost all aspects of a plot, including labels, titles, colors, and styles. It provides a higher level interface for creating aesthetically pleasing and informative statistical graphics, with buil-in themes and color pallets. This library is commonly used in data analysis, data science, and machine learning projects to visualize trends, distributions, and relationships between variables, helping to understand data better and communicate more effectively.\n",
        "\n",
        "Matplotlib is the most popular plotting module. It is used to create static, animated, and interactive graphs!"
      ],
      "metadata": {
        "id": "THtyTBbpgBAI"
      }
    },
    {
      "cell_type": "markdown",
      "source": [
        "Syntax\n",
        "\n",
        "---\n",
        "      import matplotlib.pyPlot as plt"
      ],
      "metadata": {
        "id": "0lQLIkrhheHw"
      }
    },
    {
      "cell_type": "markdown",
      "source": [
        "Examples\n",
        "\n",
        "---"
      ],
      "metadata": {
        "id": "SIfbIb_Khjui"
      }
    },
    {
      "cell_type": "code",
      "source": [
        "# Importing the required module as alias plt\n",
        "import matplotlib.pyplot as plt\n",
        "\n",
        "# Generate x,y-axis values\n",
        "x=[1,2,3,4]\n",
        "y=[1,2,3,4]\n",
        "\n",
        "# Plotting the points\n",
        "plt.plot(x,y)\n",
        "\n",
        "# Figure and axis titles\n",
        "plt.title ('Figure Title', fontsize=12, color='red')\n",
        "plt.xlabel('X-axis Title', fontsize=12, color='blue')\n",
        "plt.ylabel('Y-axis Title', fontsize=12, color='black')\n",
        "\n",
        "# Show the plot using show() function\n",
        "plt.show()"
      ],
      "metadata": {
        "id": "oAJVc5R5FLfK"
      },
      "execution_count": null,
      "outputs": []
    },
    {
      "cell_type": "code",
      "source": [
        "# Importing the required module as alias plt and np\n",
        "import matplotlib.pyplot as plt\n",
        "import numpy as np\n",
        "\n",
        "# Generate x,y-axis values\n",
        "x = np.array([1, 8])\n",
        "y = np.array([3, 10])\n",
        "\n",
        "# Plotting the points\n",
        "plt.plot(x, y)\n",
        "\n",
        "# Figure and axis titles\n",
        "plt.title ('Figure Title', fontsize=12, color='red')\n",
        "plt.xlabel('X-axis Title', fontsize=12, color='blue')\n",
        "plt.ylabel('Y-axis Title', fontsize=12, color='black')\n",
        "\n",
        "# Show the plot using show() function\n",
        "plt.show()"
      ],
      "metadata": {
        "id": "1sylivpD3Bqq"
      },
      "execution_count": null,
      "outputs": []
    },
    {
      "cell_type": "code",
      "source": [
        "# Importing the required module as alias plt and np\n",
        "import matplotlib.pyplot as plt\n",
        "import numpy as np\n",
        "\n",
        "# Generate 150 evenly spaced theta values from 0 to 2pi.\n",
        "theta = np.linspace( 0 , 2 * np.pi , 150 )\n",
        "\n",
        "# Setting up radius of the circle\n",
        "radius = 0.2\n",
        "\n",
        "# Calculating the x and y coordinates of points on a circle given the radius\n",
        "x = radius * np.cos( theta )\n",
        "y = radius * np.sin( theta )\n",
        "\n",
        "# Creating two variables figure and axes\n",
        "# figure represents the entire figure\n",
        "# axes represent the plot itself\n",
        "# plt.subplots(1) creates just one plot\n",
        "figure, axes = plt.subplots( 1 )\n",
        "\n",
        "# Plotting the points\n",
        "axes.plot( x, y )\n",
        "\n",
        "# Setting the aspect ratio to 1, plot will have equal scaling in x and y\n",
        "axes.set_aspect( 1 )\n",
        "\n",
        "# Show the title of the plot\n",
        "plt.title( 'Parametric Equation Circle', fontsize=12, color='red' )\n",
        "plt.xlabel('X-axis Title', fontsize=12, color='blue')\n",
        "plt.ylabel('Y-axis Title', fontsize=12, color='black')\n",
        "\n",
        "# Show the plot using show() function\n",
        "plt.show()"
      ],
      "metadata": {
        "id": "KLUa6Xe1F-xi"
      },
      "execution_count": null,
      "outputs": []
    },
    {
      "cell_type": "code",
      "source": [
        "# Importing the required module as alias plt, mth, and np\n",
        "import matplotlib.pyplot as plt\n",
        "import math as mth\n",
        "import numpy as np\n",
        "\n",
        "# Generate x from 0 to 1*pi (not included) with the step size of 0.01 between each value\n",
        "x = np.arange(0,10 * np.pi, 0.01)\n",
        "y = np.cos(x)\n",
        "\n",
        "# Plotting the points\n",
        "plt.plot(x, y)\n",
        "plt.grid(True)\n",
        "\n",
        "plt.xlabel('x', fontsize=12, color='blue')\n",
        "plt.ylabel('cos(x)', fontsize=12, color='blue')\n",
        "plt.title('Cosine Function', fontsize=12, color='blue')\n",
        "\n",
        "# Show the plot using show() function\n",
        "plt.show()"
      ],
      "metadata": {
        "id": "CqI6cVNLuCGq"
      },
      "execution_count": null,
      "outputs": []
    },
    {
      "cell_type": "markdown",
      "source": [
        "6.5 Molecular visualization modules\n",
        "---"
      ],
      "metadata": {
        "id": "AZm2zH1UBDxD"
      }
    },
    {
      "cell_type": "markdown",
      "source": [
        "Description\n",
        "\n",
        "---\n",
        "Py3Dmol and RDKit are popular Python modules widely used for molecular visualization and cheminformatics. Py3Dmol is a Python wrapper for the JavaScript-based 3Dmol.js library, allowing users to create high-quality interactive 3D visualizations of molecular structures directly in Python environments, such as in Jupyter notebooks. It supports formats like PDB, MOL, and SDF providing tools to render molecular surfaces, labels, and animations, making it ideal for structural biology and computational chemistry.\n",
        "\n",
        "RDKit is powerful tool for cheminformatics, enabling manipulation for chemical structures, computationa of molecular descriptors, and generation of 2D and 3D representations.It can also generate static and iinteractive visualizations, often in combinations with tools like Py3Dmol."
      ],
      "metadata": {
        "id": "UfzrzZ9nhyvG"
      }
    },
    {
      "cell_type": "markdown",
      "source": [
        "Syntax\n",
        "\n",
        "---\n",
        "          See examples below"
      ],
      "metadata": {
        "id": "93wUK6fWjUfP"
      }
    },
    {
      "cell_type": "markdown",
      "source": [
        "Examples\n",
        "\n",
        "---"
      ],
      "metadata": {
        "id": "vfbuJWkEjcDT"
      }
    },
    {
      "cell_type": "code",
      "source": [
        "!pip install Py3Dmol"
      ],
      "metadata": {
        "colab": {
          "base_uri": "https://localhost:8080/"
        },
        "id": "7OMVo0J0Cpl9",
        "outputId": "8609dd8d-4d9a-4221-8ae0-04dff0dded3c"
      },
      "execution_count": null,
      "outputs": [
        {
          "output_type": "stream",
          "name": "stdout",
          "text": [
            "Collecting Py3Dmol\n",
            "  Downloading py3Dmol-2.0.4-py2.py3-none-any.whl (12 kB)\n",
            "Installing collected packages: Py3Dmol\n",
            "Successfully installed Py3Dmol-2.0.4\n"
          ]
        }
      ]
    },
    {
      "cell_type": "code",
      "source": [
        "import py3Dmol"
      ],
      "metadata": {
        "id": "pQ9_HIHBCw7r"
      },
      "execution_count": null,
      "outputs": []
    },
    {
      "cell_type": "code",
      "source": [
        "p = py3Dmol.view(query='mmtf:1ylr')"
      ],
      "metadata": {
        "id": "3QUEaC8jkjwI"
      },
      "execution_count": null,
      "outputs": []
    },
    {
      "cell_type": "markdown",
      "source": [
        "![Slide1.png](data:image/png;base64,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![Slide2.png](data:image/png;base64,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![Slide2.png](data:image/png;base64,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)))"
      ],
      "metadata": {
        "id": "2Urs3r6pkXP_"
      }
    },
    {
      "cell_type": "code",
      "source": [
        "p.setStyle({'cartoon': {'color':'spectrum'}})"
      ],
      "metadata": {
        "id": "J-OpGi3tkgu4"
      },
      "execution_count": null,
      "outputs": []
    },
    {
      "cell_type": "code",
      "source": [
        "!pip install rdkit"
      ],
      "metadata": {
        "colab": {
          "base_uri": "https://localhost:8080/"
        },
        "id": "p3tk56uaCciB",
        "outputId": "1a97760a-ede5-4b25-94d8-93384a366f24"
      },
      "execution_count": null,
      "outputs": [
        {
          "output_type": "stream",
          "name": "stdout",
          "text": [
            "Collecting rdkit\n",
            "  Downloading rdkit-2023.9.5-cp310-cp310-manylinux_2_17_x86_64.manylinux2014_x86_64.whl (34.4 MB)\n",
            "\u001b[2K     \u001b[90m━━━━━━━━━━━━━━━━━━━━━━━━━━━━━━━━━━━━━━━━\u001b[0m \u001b[32m34.4/34.4 MB\u001b[0m \u001b[31m42.8 MB/s\u001b[0m eta \u001b[36m0:00:00\u001b[0m\n",
            "\u001b[?25hRequirement already satisfied: numpy in /usr/local/lib/python3.10/dist-packages (from rdkit) (1.25.2)\n",
            "Requirement already satisfied: Pillow in /usr/local/lib/python3.10/dist-packages (from rdkit) (9.4.0)\n",
            "Installing collected packages: rdkit\n",
            "Successfully installed rdkit-2023.9.5\n"
          ]
        }
      ]
    },
    {
      "cell_type": "code",
      "source": [
        "from rdkit import Chem\n",
        "from rdkit.Chem.Draw import IPythonConsole\n",
        "from rdkit.Chem import Draw\n",
        "from rdkit.Chem import rdAbbreviations"
      ],
      "metadata": {
        "id": "VWyM06MtCMay"
      },
      "execution_count": null,
      "outputs": []
    },
    {
      "cell_type": "code",
      "source": [
        "m = Chem.MolFromSmiles('COc1ccc(C(=O)[O-])cc1')\n",
        "substructure = Chem.MolFromSmarts('C(=O)')\n",
        "print(m.GetSubstructMatches(substructure))\n",
        "m"
      ],
      "metadata": {
        "id": "o-iQw9AGCldg"
      },
      "execution_count": null,
      "outputs": []
    },
    {
      "cell_type": "markdown",
      "source": [
        "# Section 7: Classes\n",
        "\n",
        "7.1 Building simple classes\n",
        "\n",
        "7.2 Classes and objects\n",
        "\n",
        "7.3 Encapsulation and abstraction\n",
        "\n",
        "7.4 Inheritance\n",
        "\n",
        "7.5 Methods overriding\n",
        "\n",
        "7.6 Polymorphism\n"
      ],
      "metadata": {
        "id": "-G6SVv9MmBAR"
      }
    },
    {
      "cell_type": "markdown",
      "source": [
        "7.1 Building simple classes\n",
        "---\n",
        "Python is an object-oriented high-level programming (OOP) language. Objects are an important part of Python programming. In fact, everything is an object in Python with default data and some functionality. Objects have attributes (variables) and methods (functions) specified in the class. To build an object, you need to use a constructor function ( _ _ init _ _() ). A constructor is a special function that is used to make an instance of a class. A class is like a blueprint that helps to create an object. You can then use that object (instance) of a class to assign some data and functionality. There are four main principles of object-oriented high-level programming.\n",
        "\n",
        "1. Encapsulation,\n",
        "\n",
        "2. Abstraction,\n",
        "\n",
        "3. Inheritance, and\n",
        "\n",
        "4. Polymorphism.\n",
        "\n",
        "---\n",
        "\n",
        "Syntax:\n",
        "\n",
        "        class ClassName():\n",
        "              def _ _ init _ _(self):\n",
        "                  block of code\n"
      ],
      "metadata": {
        "id": "0YXKKOpz0SCb"
      }
    },
    {
      "cell_type": "markdown",
      "source": [
        "Note\n",
        "\n",
        "---\n",
        "Unlike variables, classes always start with the capital letters.\n",
        "\n",
        "---"
      ],
      "metadata": {
        "id": "jNOztWcu2uYC"
      }
    },
    {
      "cell_type": "code",
      "source": [
        "# Creating your first class\n",
        "\n",
        "class FirstClass:\n",
        "      myVariable = 1\n"
      ],
      "metadata": {
        "id": "dnPGxwL1XEdK"
      },
      "execution_count": null,
      "outputs": []
    },
    {
      "cell_type": "markdown",
      "source": [
        "7.2 Classes and objects\n",
        "---\n",
        "The _ _ init _ _() function is called automatically everytime a new object is created. All python constructors must have at least one parameter, by convention it is called \"**self**\", however, you can call it anything you want. The \"**self**\" parameter is used to access variables that belong to the class. First argument of the constructor is always filled automatically for us. Attributes are just variables inside of your constructor function.\n",
        "\n",
        "---"
      ],
      "metadata": {
        "id": "6wgruaYIY95g"
      }
    },
    {
      "cell_type": "code",
      "source": [
        "# Using _ _init_ _() function with classes\n",
        "\n",
        "# Class definition template\n",
        "class Employee:\n",
        "\n",
        "      # Class constructor\n",
        "      def __init__(self, name, age):\n",
        "\n",
        "        # Class attributes\n",
        "        self.name = name\n",
        "        self.age = age\n"
      ],
      "metadata": {
        "id": "bYjwcX9ZX97R"
      },
      "execution_count": null,
      "outputs": []
    },
    {
      "cell_type": "code",
      "source": [
        "# Using _ _init_ _() function with classes\n",
        "\n",
        "# Class definition template\n",
        "class Employee:\n",
        "      def __init__(self, name, age):\n",
        "        self.name = name\n",
        "        self.age = age\n",
        "\n",
        "      # Class method\n",
        "      def listInfo(self):\n",
        "        print(\"Hello, My name is\", self.name, \"and I am\", self.age, \"years old.\")\n"
      ],
      "metadata": {
        "id": "R-vqt1bP6NHd"
      },
      "execution_count": null,
      "outputs": []
    },
    {
      "cell_type": "code",
      "source": [
        "# Using _ _init_ _() function with classes\n",
        "\n",
        "# Class definition template\n",
        "class Employee:\n",
        "      def __init__(self, name, age):\n",
        "        self.name = name\n",
        "        self.age = age\n",
        "\n",
        "      # Class method\n",
        "      def listInfo(self):\n",
        "        print(\"Hello, My name is\", self.name, \"and I am\", self.age, \"years old.\")\n",
        "\n",
        "# Creating a new object of a class\n",
        "mySecondObject = Employee(\"John\", 48)\n"
      ],
      "metadata": {
        "id": "PkQDrip48FBK"
      },
      "execution_count": null,
      "outputs": []
    },
    {
      "cell_type": "code",
      "source": [
        "# Using _ _init_ _() function with classes\n",
        "\n",
        "# Class definition template\n",
        "class Employee:\n",
        "      def __init__(self, name, age):\n",
        "        self.name = name\n",
        "        self.age = age\n",
        "\n",
        "      # Class method\n",
        "      def listInfo(self):\n",
        "        print(\"Hello, My name is\", self.name, \"and I am\", self.age, \"years old.\")\n",
        "\n",
        "# Creating a new object of a class, the first argument is the reference to the object.\n",
        "mySecondObject = Employee(\"John\", 48)\n",
        "\n",
        "# Accessing the method of the class\n",
        "mySecondObject.listInfo()"
      ],
      "metadata": {
        "colab": {
          "base_uri": "https://localhost:8080/"
        },
        "id": "KWZ7jm2lACRB",
        "outputId": "de4e1ffb-d987-4884-feaf-4a043308ce06"
      },
      "execution_count": null,
      "outputs": [
        {
          "output_type": "stream",
          "name": "stdout",
          "text": [
            "Hello, My name is John and I am 48 years old.\n"
          ]
        }
      ]
    },
    {
      "cell_type": "markdown",
      "source": [
        "7.3 Encapsulation and abstraction\n",
        "---\n",
        " Encapsulation involves the bundling of data (attributes) and method (functions) that operate on data within a single unit. A single unit is known as a class. It allows one to access and modify the attributes while keeping the attributes private.\n",
        "\n",
        " Abstraction is a way to simplify the complex reality by creating a class and hide some unnecessary details. You can implement abstraction using classes and methods, where you show only the relevant details and hiding the internal implementation.  \n",
        "\n",
        "---"
      ],
      "metadata": {
        "id": "MP6T0xGIEQx7"
      }
    },
    {
      "cell_type": "code",
      "source": [
        "class Train:\n",
        "\n",
        "    # Constructor\n",
        "    def __init__(self, kind, length, speed):\n",
        "\n",
        "        # Adding properties of the class\n",
        "        self.kind     = kind\n",
        "        self.length   = length\n",
        "        self.speed    = speed"
      ],
      "metadata": {
        "id": "RasKB3sHFBWF"
      },
      "execution_count": null,
      "outputs": []
    },
    {
      "cell_type": "code",
      "source": [
        "class Train:\n",
        "\n",
        "    # Constructor\n",
        "    def __init__(self, kind, length, speed):\n",
        "\n",
        "        # Properties of the class\n",
        "        self.kind     = kind\n",
        "        self.length   = length\n",
        "        self.speed    = speed\n",
        "\n",
        "    # Adding methods of the class\n",
        "    def speed_up(self):\n",
        "        self.speed += 1\n",
        "\n",
        "    def speed_down(self):\n",
        "        self.speed -= 1\n",
        "\n",
        "    def show_speed(self):\n",
        "        print(\"Current speed of my train is\", speed)"
      ],
      "metadata": {
        "id": "ao_iAT_VKmkU"
      },
      "execution_count": null,
      "outputs": []
    },
    {
      "cell_type": "code",
      "source": [
        "class Train:\n",
        "\n",
        "    # Constructor\n",
        "    def __init__(self, kind, length, speed):\n",
        "\n",
        "        # Properties of the class\n",
        "        self.kind     = kind\n",
        "        self.length   = length\n",
        "        self.speed    = speed\n",
        "\n",
        "    # Adding methods of the class\n",
        "    def speed_up(self):\n",
        "        self.speed += 1\n",
        "\n",
        "    def speed_down(self):\n",
        "        self.speed -= 1\n",
        "\n",
        "    def show_speed(self):\n",
        "        print(\"Current speed of my train is\", self.speed)\n",
        "\n",
        "# Creating an object\n",
        "myTrain = Train(\"High-speed\", 2, 0)"
      ],
      "metadata": {
        "id": "iIkmyX5zLwG1"
      },
      "execution_count": null,
      "outputs": []
    },
    {
      "cell_type": "code",
      "source": [
        "class Train:\n",
        "\n",
        "    # Constructor\n",
        "    def __init__(self, kind, length, speed):\n",
        "\n",
        "        # Properties of the class\n",
        "        self.kind     = kind\n",
        "        self.length   = length\n",
        "        self.speed    = speed\n",
        "\n",
        "    # Adding methods of the class\n",
        "    def speed_up(self):\n",
        "        self.speed += 1\n",
        "\n",
        "    def speed_down(self):\n",
        "        self.speed -= 1\n",
        "\n",
        "    def show_speed(self):\n",
        "        print(\"Current speed of my train is\", self.speed, \"miles an hour\")\n",
        "\n",
        "# Creating an object\n",
        "myTrain = Train(\"High-speed\", 2, 0)\n",
        "\n",
        "myTrain.speed_up()\n",
        "myTrain.speed_up()\n",
        "myTrain.speed_up()\n",
        "\n",
        "myTrain.show_speed()"
      ],
      "metadata": {
        "id": "FvoPSdNGMcFb"
      },
      "execution_count": null,
      "outputs": []
    },
    {
      "cell_type": "code",
      "source": [
        "class Train:\n",
        "\n",
        "    # Constructor\n",
        "    def __init__(self, kind, length, speed):\n",
        "\n",
        "        # Properties of the class\n",
        "        self.kind     = kind\n",
        "        self.length   = length\n",
        "        self.speed    = speed\n",
        "\n",
        "    # Adding methods of the class\n",
        "    def speed_up(self):\n",
        "        self.speed += 1\n",
        "\n",
        "    def speed_down(self):\n",
        "        self.speed -= 1\n",
        "\n",
        "    def show_speed(self):\n",
        "        print(\"Current speed of my\", self.kind, \" train is\", self.speed, \"miles an hour\")\n",
        "\n",
        "# Creating an object\n",
        "myTrain = Train(\"High-speed\", 2, 0)\n",
        "\n",
        "\n",
        "# Accessing the speed and kind properties directly\n",
        "myTrain.speed = -200\n",
        "myTrain.kind  = \"Regional\"\n",
        "\n",
        "myTrain.show_speed()"
      ],
      "metadata": {
        "id": "ZHtqnB5WQ5D2"
      },
      "execution_count": null,
      "outputs": []
    },
    {
      "cell_type": "markdown",
      "source": [
        "Private property\n",
        "---\n",
        "One can have a property private that should be prefixed with an underscore _ or _ _ . While it does not make it entirely private, it sends a signal to a developer that these properties should not be accessed directly.\n",
        "Changing a name with two underscores (mangling) makes it harder to access or override. However, you wont be able to hide the attributes completely and you can still access them.\n",
        "\n",
        "---"
      ],
      "metadata": {
        "id": "8eJwD8aVSaac"
      }
    },
    {
      "cell_type": "code",
      "source": [
        "class Train:\n",
        "\n",
        "    # Constructor\n",
        "    def __init__(self, kind, length, speed):\n",
        "\n",
        "        # Properties of the class\n",
        "        self.__kind       = kind\n",
        "        self.length     = length\n",
        "\n",
        "        # Making the speed property private\n",
        "        self._speed    = speed\n",
        "\n",
        "    # Adding methods of the class\n",
        "    def speed_up(self):\n",
        "        self._speed += 1\n",
        "\n",
        "    def speed_down(self):\n",
        "        self._speed -= 1\n",
        "\n",
        "    def show_speed(self):\n",
        "        print(\"Current speed of my\", self.__kind, \" train is\", self._speed, \"miles an hour\")\n",
        "\n",
        "# Creating an object\n",
        "myTrain = Train(\"High-speed\", 2, 0)\n",
        "\n",
        "# Accessing the speed and kind properties directly\n",
        "myTrain.speed = -200\n",
        "myTrain.kind  = \"Regional\"\n",
        "\n",
        "myTrain.show_speed()"
      ],
      "metadata": {
        "id": "TsLVO5IjSnFq"
      },
      "execution_count": null,
      "outputs": []
    },
    {
      "cell_type": "markdown",
      "source": [
        "Private method\n",
        "---\n",
        "One can have a private method defined within a class. It also should be prefixed with an underscore _ or _ _ by convention.\n",
        "\n",
        "---"
      ],
      "metadata": {
        "id": "pxBszfM2SqWQ"
      }
    },
    {
      "cell_type": "code",
      "source": [
        "class Train:\n",
        "\n",
        "    # Constructor\n",
        "    def __init__(self, kind, length, speed):\n",
        "\n",
        "        # Properties of the class\n",
        "        self.__kind       = kind\n",
        "        self.length     = length\n",
        "\n",
        "        # Making the speed property private\n",
        "        self._speed    = speed\n",
        "\n",
        "    # Adding methods of the class\n",
        "    def speed_up(self):\n",
        "        self._speed += 1\n",
        "\n",
        "    def _speed_down(self):\n",
        "        self._speed -= 1\n",
        "\n",
        "    def show_speed(self):\n",
        "        print(\"Current speed of my\", self.__kind, \" train is\", self._speed, \"miles an hour\")\n",
        "\n",
        "# Creating an object\n",
        "myTrain = Train(\"High-speed\", 2, 0)\n",
        "\n",
        "# Accessing the private method speed_down.\n",
        "myTrain.speed_down()"
      ],
      "metadata": {
        "id": "ur1OBtk1S9wK"
      },
      "execution_count": null,
      "outputs": []
    },
    {
      "cell_type": "markdown",
      "source": [
        "7.4 Enheritance\n",
        "---\n",
        " Enheritance provides a way to create a new class based on the existing class, inheriting its attributes and methods. We can create a superclass, which is broad and subclass that is more detailed. Here is an example of the inheritance.\n",
        "\n",
        "---"
      ],
      "metadata": {
        "id": "UN9AYtepZ4ei"
      }
    },
    {
      "cell_type": "code",
      "source": [
        "# Define a parent or superclass class.\n",
        "# Animal is the broad category, encompassing all living organisms.\n",
        "\n",
        "class Animal:\n",
        "    pass\n",
        "\n",
        "# Define a child or subclass class that inherits from Animal.\n",
        "# Mammals are a specific class of animals, they are characterized\n",
        "# by certain distinctive features like mammary glands and hair.\n",
        "\n",
        "class Mammal(Animal):\n",
        "    pass\n",
        "\n",
        "# Define a child or subclass class that inherits from Mammal.\n",
        "# Dog is the specific specie within the mammal class.\n",
        "\n",
        "class Dog(Mammal):\n",
        "    pass\n",
        "\n",
        "#issubclass(Mammal,Animal)\n",
        "#issubclass(Dog,Mammal)\n",
        "#issubclass(Dog,Animal)\n",
        "\n",
        "myDog = Dog()\n",
        "print(myDog.__dict__)"
      ],
      "metadata": {
        "id": "cDtFMbAc0MTF"
      },
      "execution_count": null,
      "outputs": []
    },
    {
      "cell_type": "code",
      "source": [
        "# Define a parent or superclass class.\n",
        "# Animal is the broad category, encompassing all living organisms.\n",
        "\n",
        "class Animal:\n",
        "    def __init__(self,name):\n",
        "      self.name = name\n",
        "\n",
        "# Define a child or subclass class that inherits from Animal.\n",
        "class Mammal(Animal):\n",
        "    pass\n",
        "\n",
        "# If you do not specify the constructor explicitely in Dog subclass\n",
        "class Dog(Mammal):\n",
        "    pass\n",
        "\n",
        "myDog = Dog(\"Rex\")\n",
        "print(myDog.__dict__)"
      ],
      "metadata": {
        "id": "xTGElYfu-9Zz"
      },
      "execution_count": null,
      "outputs": []
    },
    {
      "cell_type": "code",
      "source": [
        "# Define a parent or superclass class.\n",
        "# Animal is the broad category, encompassing all living organisms.\n",
        "\n",
        "class Animal:\n",
        "    def __init__(self,name):\n",
        "      self.name = name\n",
        "\n",
        "# Define a child or subclass class that inherits from Animal.\n",
        "# Mammals are a specific class of animals, they are characterized\n",
        "# by certain distinctive features like mammary glands and hair.\n",
        "\n",
        "class Mammal(Animal):\n",
        "    def __init__(self, color):\n",
        "      self.color = color\n",
        "\n",
        "# If you do not specify the constructor explicitely in Dog subclass\n",
        "# Python will look for it in superclass\n",
        "\n",
        "class Dog(Mammal):\n",
        "    pass\n",
        "\n",
        "myDog = Dog(\"golden\")\n",
        "print(myDog.__dict__)"
      ],
      "metadata": {
        "colab": {
          "base_uri": "https://localhost:8080/"
        },
        "id": "UWe3bw8AAcj9",
        "outputId": "8c7dc088-b951-40f9-d226-828cfe8e8961"
      },
      "execution_count": null,
      "outputs": [
        {
          "output_type": "stream",
          "name": "stdout",
          "text": [
            "{'color': 'golden'}\n"
          ]
        }
      ]
    },
    {
      "cell_type": "code",
      "source": [
        "# Define a parent or superclass class.\n",
        "# Animal is the broad category, encompassing all living organisms.\n",
        "\n",
        "class Animal:\n",
        "    def __init__(self,name):\n",
        "      self.name = name\n",
        "\n",
        "# Define a child or subclass class that inherits from Animal.\n",
        "# Mammals are a specific class of animals, they are characterized\n",
        "# by certain distinctive features like mammary glands and hair.\n",
        "\n",
        "class Mammal(Animal):\n",
        "    def __init__(self, name, color):\n",
        "      Animal.__init__(self, name)\n",
        "      self.color = color\n",
        "\n",
        "# If you do not specify the constructor explicitely in Dog subclass\n",
        "# Python will look for it in superclass\n",
        "\n",
        "class Dog(Mammal):\n",
        "    pass\n",
        "\n",
        "myDog = Dog(\"Rex\", \"golden\")\n",
        "print(myDog.__dict__)"
      ],
      "metadata": {
        "id": "YXlnk9kpCBSq"
      },
      "execution_count": null,
      "outputs": []
    },
    {
      "cell_type": "code",
      "source": [
        "# Define a parent or superclass class.\n",
        "# Animal is the broad category, encompassing all living organisms.\n",
        "\n",
        "class Animal:\n",
        "    def __init__(self,name):\n",
        "      self.name = name\n",
        "\n",
        "# Define a child or subclass class that inherits from Animal.\n",
        "# Mammals are a specific class of animals, they are characterized\n",
        "# by certain distinctive features like mammary glands and hair.\n",
        "\n",
        "class Mammal(Animal):\n",
        "    def __init__(self, name, color):\n",
        "      super().__init__(name)\n",
        "      self.color = color\n",
        "\n",
        "# If you do not specify the constructor explicitely in Dog subclass\n",
        "# Python will look for it in superclass\n",
        "\n",
        "class Dog(Mammal):\n",
        "    pass\n",
        "\n",
        "myDog = Dog(\"Rex\", \"golden\")\n",
        "print(myDog.__dict__)"
      ],
      "metadata": {
        "id": "Rcwq_1y9Dq_8"
      },
      "execution_count": null,
      "outputs": []
    },
    {
      "cell_type": "code",
      "source": [
        "# Define a parent or superclass class.\n",
        "# Animal is the broad category, encompassing all living organisms.\n",
        "\n",
        "class Animal:\n",
        "    def __init__(self,name):\n",
        "      self.name = name\n",
        "\n",
        "# Define a child or subclass class that inherits from Animal.\n",
        "# Mammals are a specific class of animals, they are characterized\n",
        "# by certain distinctive features like mammary glands and hair.\n",
        "\n",
        "class Mammal(Animal):\n",
        "    def __init__(self, name, color):\n",
        "      super().__init__(name)\n",
        "      self.color = color\n",
        "\n",
        "# If you do not specify the constructor explicitely in Dog subclass\n",
        "# Python will look for it in superclass\n",
        "\n",
        "class Dog(Mammal):\n",
        "    pass\n",
        "\n",
        "myDog = Dog(\"Rex\", \"golden\")\n",
        "print(myDog.__dict__)\n",
        "\n",
        "# Inheriting the name variable from Animal superclass\n",
        "myDog.name = \"Rocky\"\n",
        "print(myDog.__dict__)"
      ],
      "metadata": {
        "id": "op4s5WeWGtdP"
      },
      "execution_count": null,
      "outputs": []
    },
    {
      "cell_type": "markdown",
      "source": [
        "Note\n",
        "\n",
        "---\n",
        "In case of super() keyword you do not need a self parameter since it is going to be taken automatically.\n",
        "\n",
        "___\n",
        "\n",
        "Syntax:\n",
        "\n",
        "        ClassName.__init__(self, varName)\n",
        "          super().__init__(varName)"
      ],
      "metadata": {
        "id": "j4ZXSUOPEg6l"
      }
    },
    {
      "cell_type": "code",
      "source": [
        "# Define a parent or superclass class.\n",
        "# Animal is the broad category, encompassing all living organisms.\n",
        "\n",
        "class Animal:\n",
        "    message = \"This message is from Animal superclass\"\n",
        "    def __init__(self,name):\n",
        "      self.name = name\n",
        "\n",
        "# Define a child or subclass class that inherits from Animal.\n",
        "# Mammals are a specific class of animals, they are characterized\n",
        "# by certain distinctive features like mammary glands and hair.\n",
        "\n",
        "class Mammal(Animal):\n",
        "    def __init__(self, name, color):\n",
        "      super().__init__(name)\n",
        "      self.color = color\n",
        "      print(super().message)\n",
        "\n",
        "# If you do not specify the constructor explicitely in Dog subclass\n",
        "# Python will look for it in superclass\n",
        "\n",
        "class Dog(Mammal):\n",
        "    pass\n",
        "\n",
        "myDog = Dog(\"Rex\", \"golden\")"
      ],
      "metadata": {
        "id": "9kQh5yWFIg-T"
      },
      "execution_count": null,
      "outputs": []
    },
    {
      "cell_type": "markdown",
      "source": [
        "Note\n",
        "\n",
        "---\n",
        "Method Resolution Order (MRO) is the order in which Python looks for a method or attribute when it is called on an instance of a class that involves inheritance. It becomes especially important in cases of multiple inheritance.\n",
        "\n",
        "---\n",
        "\n",
        "Syntax:\n",
        "\n",
        "        Class Name._ _ mro _ _\n",
        "                  "
      ],
      "metadata": {
        "id": "2yqf8aTgcglL"
      }
    },
    {
      "cell_type": "markdown",
      "source": [
        "7.5 Diamond problem\n",
        "---\n",
        " There is a specific issue when you deal with multiple inheritance, it is called a diamond problem. A one class inherits from two classes that both inherits from a common superclass. This can call ambiguity in the Method Resolutin Order (MRO). Which method gets called when a method is invoked.  \n",
        "\n",
        "---"
      ],
      "metadata": {
        "id": "_Nen3mYyaTGt"
      }
    },
    {
      "cell_type": "markdown",
      "source": [
        " 7.5  Method overriding\n",
        "---\n",
        "Method overriding provides a subclass to define a method that has alredy being\n",
        "defined in its superclass.\n",
        "\n",
        "---"
      ],
      "metadata": {
        "id": "YHYe8k_mJ48T"
      }
    },
    {
      "cell_type": "code",
      "source": [
        "# Define a parent or superclass class.\n",
        "class Animal:\n",
        "    def __init__(self, name):\n",
        "        self.name = name\n",
        "\n",
        "    def speak(self):\n",
        "        pass  # This method will be overridden in subclasses\n",
        "\n",
        "# Define a child or subclass class that inherits from Animal.\n",
        "class Dog(Animal):\n",
        "    def speak(self):\n",
        "        print (\"Woof, Woof!\")\n",
        "\n",
        "# Define a child or subclass class that inherits from Animal.\n",
        "class Cat(Animal):\n",
        "    def speak(self):\n",
        "        print (\"Meow, Meow!\")\n",
        "\n",
        "# Create instances of the subclasses\n",
        "myDog = Dog(\"Rex\")\n",
        "myCat = Cat(\"Misty\")\n",
        "\n",
        "# Call the speak method on each instance\n",
        "myDog.speak()\n",
        "myCat.speak()"
      ],
      "metadata": {
        "id": "H3jlHwEdaWR9"
      },
      "execution_count": null,
      "outputs": []
    },
    {
      "cell_type": "markdown",
      "source": [
        "7.6 Polymorphism\n",
        "---\n",
        " Polymorphism is an ability for a method to be executed on different objects. We can have multiple classes with the same method name.  \n",
        "\n",
        "---"
      ],
      "metadata": {
        "id": "jd3fN1PBwFnD"
      }
    },
    {
      "cell_type": "code",
      "source": [
        "# Define a parent or superclass class.\n",
        "class Animal:\n",
        "    def __init__(self, name):\n",
        "        self.name = name\n",
        "\n",
        "    def speak(self):\n",
        "        pass  # This method will be overridden in subclasses\n",
        "\n",
        "# Define a child or subclass class that inherits from Animal.\n",
        "class Dog(Animal):\n",
        "    def speak(self):\n",
        "        print (\"Woof, Woof!\")\n",
        "\n",
        "# Define a child or subclass class that inherits from Animal.\n",
        "class Cat(Animal):\n",
        "    def speak(self):\n",
        "        print (\"Meow, Meow!\")\n",
        "\n",
        "# Create instances of Dog and Cat\n",
        "myDog = Dog(\"Rex\")\n",
        "myCat = Cat(\"Misty\")\n",
        "\n",
        "# Create a function that takes an Animal object and makes it speak\n",
        "# When myDog and myCat instances are passed to the function,\n",
        "# it is showing polymorphism. The function works with objects of\n",
        "# different classes and calls the appropriate speak method for\n",
        "#each object.\n",
        "\n",
        "def animalSpeak(animal):\n",
        "    return animal.speak()\n",
        "\n",
        "# Call the make_animal_speak function with different animal objects\n",
        "animalSpeak(myDog)\n",
        "animalSpeak(myCat)\n"
      ],
      "metadata": {
        "id": "Xw1a5OiHMZSc"
      },
      "execution_count": null,
      "outputs": []
    },
    {
      "cell_type": "markdown",
      "source": [
        "# Section 8: Exceptions"
      ],
      "metadata": {
        "id": "cC5EVsg9nIiH"
      }
    },
    {
      "cell_type": "markdown",
      "source": [
        "Description:\n",
        "\n",
        "---\n",
        "        An exception is activated by an execution error that will terminate the\n",
        "        program execution. Exceptions are controlled by try and except branches.\n",
        "\n",
        "        1. try is executed\n",
        "        2. if no exception occurs, exception is skipped\n",
        "        3. if exception occures matching the exception name, the exception statement is executed\n",
        "        4. if there is no exception named it passes to the outer try statement\n",
        "\n",
        "        The list of most common exceptions in Python language:\n",
        "\n",
        "        ZeroDivisionError - raised if division by zero has attempted;\n",
        "        AttributeError - raised if method tried that does not exist;\n",
        "        SyntaxError - raised in violation of Python's grammar;\n",
        "        ValueError - raised when wrong use of values;\n",
        "        TypeError - raised when wrong type of data;\n",
        "        NameError - raised when variable or function does does not exist.\n",
        "---\n",
        "\n",
        "Syntax:\n",
        "\n",
        "        try:    block of code that causes an exception\n",
        "        except: block of code to run when exception occures\n"
      ],
      "metadata": {
        "id": "T_HjwtQMl4k1"
      }
    },
    {
      "cell_type": "markdown",
      "source": [
        "Errors\n",
        "---\n",
        "Exceptions are the errors that Python generates. Python does not know what to do and it raises an exception. One of the most often errors is the syntax error. Syntax errors are very easy to find and fix. Here's an example of simple syntax error.\n",
        "\n",
        "---"
      ],
      "metadata": {
        "id": "pPomyhQ6VNZU"
      }
    },
    {
      "cell_type": "markdown",
      "source": [
        "8.1 Syntax error\n",
        "---\n",
        " The syntax errors are the most common errors in programming.\n",
        "\n",
        "---"
      ],
      "metadata": {
        "id": "vR-BDQuFr8UC"
      }
    },
    {
      "cell_type": "code",
      "source": [
        "\n",
        "if True;\n",
        "print(\"Hello, World!\")"
      ],
      "metadata": {
        "id": "4-wLVBqiU5WI"
      },
      "execution_count": null,
      "outputs": []
    },
    {
      "cell_type": "markdown",
      "source": [
        "8.2 Value error\n",
        "---\n",
        "\n",
        "---"
      ],
      "metadata": {
        "id": "DG2Mj9OrsjVJ"
      }
    },
    {
      "cell_type": "code",
      "source": [
        "# Exception for division by zero\n",
        "\n",
        "myDivision = (1.0/float(input(\"Enter any number except zero \")))"
      ],
      "metadata": {
        "id": "FFqyEg3BXPV-"
      },
      "execution_count": null,
      "outputs": []
    },
    {
      "cell_type": "markdown",
      "source": [
        "8.3 Zero division error\n",
        "---\n",
        "\n",
        "---"
      ],
      "metadata": {
        "id": "wv8vvLXitBk5"
      }
    },
    {
      "cell_type": "code",
      "source": [
        "# Exception for division by zero\n",
        "\n",
        "myDivision = (1.0/float(input(\"Enter any number except zero \")))"
      ],
      "metadata": {
        "id": "q9YTNF9-X6LC"
      },
      "execution_count": null,
      "outputs": []
    },
    {
      "cell_type": "markdown",
      "source": [
        "Note\n",
        "\n",
        "---\n",
        "When you see the error you are given some useful information, a line that produces the error, name of the error, and you can see a descriptive message that will help you to debug the program.\n",
        "\n",
        "---\n"
      ],
      "metadata": {
        "id": "Zdo6-5yVV5Bj"
      }
    },
    {
      "cell_type": "markdown",
      "source": [
        "8.4 Exception with one error\n",
        "---\n",
        " This example shows try: except: block implementation with ZeroDivisionError.\n",
        "\n",
        "---"
      ],
      "metadata": {
        "id": "taCjeqRXstyn"
      }
    },
    {
      "cell_type": "code",
      "source": [
        "# Exception for division by zero\n",
        "\n",
        "def devisionByZero():\n",
        "   myDivision = (1.0/float(input(\"Enter any number except zero \")))\n",
        "   return myDivision\n",
        "\n",
        "try:\n",
        "  devisionByZero()\n",
        "except ZeroDivisionError:\n",
        "  print('Division by zero has been attempted')\n"
      ],
      "metadata": {
        "id": "QasrCGBBnMmA"
      },
      "execution_count": null,
      "outputs": []
    },
    {
      "cell_type": "markdown",
      "source": [
        "8.5 Exception with three errors\n",
        "---\n",
        " This example shows try: except: block implementation with ValueError, ZeroDivisionError, and TypeError.\n",
        "\n",
        "---"
      ],
      "metadata": {
        "id": "DzqzMV5-td1F"
      }
    },
    {
      "cell_type": "code",
      "source": [
        "# Exception for division by zero\n",
        "\n",
        "def devisionByZero():\n",
        "   myDivision = (1.0/float(input(\"Enter any number except zero \")))\n",
        "   return myDivision\n",
        "\n",
        "try:\n",
        "    devisionByZero()\n",
        "except ValueError:\n",
        "  print(\"Wrong value input\")\n",
        "except ZeroDivisionError:\n",
        "  print(\"Division by zero\")\n",
        "except TypeError:\n",
        "  print(\"Error\")\n",
        "\n"
      ],
      "metadata": {
        "id": "uGxYFrK71Aq6"
      },
      "execution_count": null,
      "outputs": []
    },
    {
      "cell_type": "markdown",
      "source": [
        "8.6 Assertion exception\n",
        "---\n",
        " We can make some assumptions on outcome of our code and create an assertion. The assertion is uset for debugging and documenting your code.\n",
        "\n",
        "---"
      ],
      "metadata": {
        "id": "tmtl3cwK43Ct"
      }
    },
    {
      "cell_type": "code",
      "source": [
        "def inverse_function(a):\n",
        "  assert (a > 0), 'Division by zero, attempt!'\n",
        "  return 1/a"
      ],
      "metadata": {
        "id": "YqDpuVv25Xs4"
      },
      "execution_count": null,
      "outputs": []
    },
    {
      "cell_type": "code",
      "source": [
        "print(inverse_function(0.05))"
      ],
      "metadata": {
        "colab": {
          "base_uri": "https://localhost:8080/"
        },
        "id": "bBzxpjK97L7O",
        "outputId": "ac47c6f2-de81-48ca-ab6a-edcb92883e4b"
      },
      "execution_count": null,
      "outputs": [
        {
          "output_type": "stream",
          "name": "stdout",
          "text": [
            "20.0\n"
          ]
        }
      ]
    },
    {
      "cell_type": "code",
      "source": [
        "for subclass in ZeroDivisionError.__subclasses__():\n",
        "    print(subclass.__name__)"
      ],
      "metadata": {
        "id": "FOUlYCp84abi"
      },
      "execution_count": null,
      "outputs": []
    },
    {
      "cell_type": "markdown",
      "source": [
        "8.7 Exception with else statement\n",
        "---\n",
        " Here is the example of an exception with else statement. Everything will be executed for an else statement if any except statement will fail.\n",
        "\n",
        "---"
      ],
      "metadata": {
        "id": "Spwj7Vg68f0_"
      }
    },
    {
      "cell_type": "code",
      "source": [
        "try:\n",
        "  my_number = int(input(\"Enter any number\"))\n",
        "except:\n",
        "  print('You did not provide a number')\n",
        "else:\n",
        "  print('Great, this number works fine')"
      ],
      "metadata": {
        "id": "8xFVimEV-ooK"
      },
      "execution_count": null,
      "outputs": []
    },
    {
      "cell_type": "markdown",
      "source": [
        "8.8 Exception with finally statement\n",
        "---\n",
        " Here is the example of an exception with finally keyword. The finally keyword should be placed at the very end of the try: ... except: ... block. Everything will be executed regardless weather other exceptions catch the mistake.\n",
        "\n",
        "---"
      ],
      "metadata": {
        "id": "rKJYtjQ0_N2O"
      }
    },
    {
      "cell_type": "code",
      "source": [
        "try:\n",
        "  my_number = int(input(\"Enter any number\"))\n",
        "except:\n",
        "  print('You did not provide a number')\n",
        "else:\n",
        "  print('Great, this number works fine')\n",
        "finally:\n",
        "  print('Great, it finally works')"
      ],
      "metadata": {
        "id": "2OD5uyvxABmc"
      },
      "execution_count": null,
      "outputs": []
    },
    {
      "cell_type": "markdown",
      "source": [
        "8.9 Exception with raise statement\n",
        "---\n",
        " Here is the example of an exception with raise keyword. The raise keyword should be placed within your code if you want to debug and to verify your code.\n",
        "\n",
        "---"
      ],
      "metadata": {
        "id": "atU-uxCQB1gF"
      }
    },
    {
      "cell_type": "code",
      "source": [
        "def my_number(a):\n",
        "  try:\n",
        "    return 1/a\n",
        "  except:\n",
        "   raise"
      ],
      "metadata": {
        "id": "WadhmBmmf7mf"
      },
      "execution_count": null,
      "outputs": []
    },
    {
      "cell_type": "code",
      "source": [
        "my_number(0)"
      ],
      "metadata": {
        "id": "_5ZOS8_e4LNC"
      },
      "execution_count": null,
      "outputs": []
    },
    {
      "cell_type": "markdown",
      "source": [
        "8.10 Exception object\n",
        "---\n",
        " This example shows try: except: block implementation with objects.\n",
        " Meaningful error messages can be obtained using this method.\n",
        "\n",
        "---"
      ],
      "metadata": {
        "id": "lRReYAFKuoIW"
      }
    },
    {
      "cell_type": "code",
      "source": [
        "def compare_two_numbers(a,b):\n",
        "    if a > b: return a\n",
        "    else: return b"
      ],
      "metadata": {
        "id": "97wiE3-quyMH"
      },
      "execution_count": null,
      "outputs": []
    },
    {
      "cell_type": "code",
      "source": [
        "try:\n",
        "      compare_two_numbers(5,'d')\n",
        "except Exception as e:\n",
        "       print (e)"
      ],
      "metadata": {
        "colab": {
          "base_uri": "https://localhost:8080/"
        },
        "id": "aBE1NY8oxlaB",
        "outputId": "f9d0685a-19bc-464a-df3a-1ecf277f1367"
      },
      "execution_count": null,
      "outputs": [
        {
          "output_type": "stream",
          "name": "stdout",
          "text": [
            "'>' not supported between instances of 'int' and 'str'\n"
          ]
        }
      ]
    },
    {
      "cell_type": "code",
      "source": [
        "try:\n",
        "   raise Exception ('I like it')\n",
        "except Exception as e:\n",
        "  print(e.args)"
      ],
      "metadata": {
        "colab": {
          "base_uri": "https://localhost:8080/"
        },
        "id": "6Kr7JRbkuInR",
        "outputId": "eba97606-c7bf-410a-853c-1bf4b36a2fa4"
      },
      "execution_count": null,
      "outputs": [
        {
          "output_type": "stream",
          "name": "stdout",
          "text": [
            "('I like it',)\n"
          ]
        }
      ]
    },
    {
      "cell_type": "code",
      "source": [
        "try:\n",
        "   5 < 'a'\n",
        "except Exception as e:\n",
        "  print(e.args)"
      ],
      "metadata": {
        "colab": {
          "base_uri": "https://localhost:8080/"
        },
        "id": "8wXaAJfnIGU9",
        "outputId": "3265f8f5-7fbe-4226-87ae-19e6e35eeaf8"
      },
      "execution_count": null,
      "outputs": [
        {
          "output_type": "stream",
          "name": "stdout",
          "text": [
            "(\"'<' not supported between instances of 'int' and 'str'\",)\n"
          ]
        }
      ]
    },
    {
      "cell_type": "code",
      "source": [
        "try:\n",
        "   1/0\n",
        "except Exception as e:\n",
        "  print(e.args)"
      ],
      "metadata": {
        "colab": {
          "base_uri": "https://localhost:8080/"
        },
        "id": "qYF-VrMeIQt1",
        "outputId": "8b0483ea-d910-465b-a1dc-ee343a5ded76"
      },
      "execution_count": null,
      "outputs": [
        {
          "output_type": "stream",
          "name": "stdout",
          "text": [
            "('division by zero',)\n"
          ]
        }
      ]
    },
    {
      "cell_type": "markdown",
      "source": [
        "8.11 Creating your own exceptions\n",
        "---\n",
        "\n",
        "---"
      ],
      "metadata": {
        "id": "o5SW47xSIbTG"
      }
    },
    {
      "cell_type": "markdown",
      "source": [
        "8.12 Subclasses of a class\n",
        "---\n",
        " There is an hierarchy of exceptions.\n",
        "\n",
        "                BaseExceptions\n",
        "                    |\n",
        "                Exception - SystemExit - KeyboardInterrupt - ...\n",
        "                    |\n",
        "                ArithmeticError - LookupError - ...\n",
        "                    |\n",
        "                ZeroDivisionError - ...\n",
        "\n",
        "\n",
        " You can see all subclasses keyword with _ _ name _ _ method to print them all.\n",
        "\n",
        "---"
      ],
      "metadata": {
        "id": "SPSR0o_A0Bw1"
      }
    },
    {
      "cell_type": "code",
      "source": [
        "for subclass in BaseException.__subclasses__():\n",
        "    print(subclass.__name__)"
      ],
      "metadata": {
        "id": "HF8GvpkkvCjA"
      },
      "execution_count": null,
      "outputs": []
    },
    {
      "cell_type": "code",
      "source": [
        "for subclass in Exception.__subclasses__():\n",
        "    print(subclass.__name__)"
      ],
      "metadata": {
        "id": "iPT8aPS_0bpd"
      },
      "execution_count": null,
      "outputs": []
    },
    {
      "cell_type": "code",
      "source": [
        "for subclass in ArithmeticError.__subclasses__():\n",
        "    print(subclass.__name__)"
      ],
      "metadata": {
        "id": "bwCfo4HY4CBO"
      },
      "execution_count": null,
      "outputs": []
    },
    {
      "cell_type": "markdown",
      "source": [
        "# Section 9: Input and output (I/O) operations\n",
        "\n",
        "9.1 User input\n",
        "\n",
        "9.2 File input output\n",
        "\n",
        "9.3 Print function"
      ],
      "metadata": {
        "id": "iMOkr-q9dKwM"
      }
    },
    {
      "cell_type": "markdown",
      "source": [
        "Note\n",
        "\n",
        "---\n",
        "Input and output in Python involves reading data from various sources and writing data to various destinations. Pyhton provides several ways to handle input and output. Here are examples of the most commpn methods.\n",
        "\n",
        "---"
      ],
      "metadata": {
        "id": "Qm3dHdq6ILg_"
      }
    },
    {
      "cell_type": "markdown",
      "source": [
        "9.1 User input\n",
        "---\n",
        "User input is allowed in Python. The input() method (python 3.6) or raw_input method in python (2.7) can be used.\n",
        "\n",
        "---\n",
        "\n",
        "Syntax:\n",
        "\n",
        "        variable = input( \" Corresponding text for a user \" )"
      ],
      "metadata": {
        "id": "Qww9K1IrvtMy"
      }
    },
    {
      "cell_type": "code",
      "source": [
        "# The user input\n",
        "\n",
        "userName = input(\"Enter your user name plz: \\n\")\n",
        "\n",
        "print(\"Your username is: \" + userName)"
      ],
      "metadata": {
        "id": "MCyFZIP6wN8F"
      },
      "execution_count": null,
      "outputs": []
    },
    {
      "cell_type": "markdown",
      "source": [
        "9.2 File input and output\n",
        "---\n",
        "File input and output in Python is a way to read from and write to a file on your loacal machine. Python provides a few methods to work with files. Files in Pyhton can be created, read, appended, ... open() function can be used to work with files in Python. This function takes two parameters: filename and mode.\n",
        "\n",
        "---\n",
        "        \n",
        "        Method (mode) for opening a file:\n",
        "        r - Read - Default value. Opens a file for reading, error if the file does not exist\n",
        "        a - Append - Opens a file for appending, creates the file if it does not exist\n",
        "        w - Write - Opens a file for writing, creates the file if it does not exist\n",
        "        x - Create - Creates the specified file, returns an error if the file exists\n",
        "        \n",
        "        In the text or binary modes\n",
        "        \n",
        "        t - Text - Default value. Text mode\n",
        "        b - Binary - Binary mode (e.g. images)\n",
        "\n",
        "Syntax:\n",
        "\n",
        "        file = open(\"filename\", \"mode\")\n",
        "\n",
        "___"
      ],
      "metadata": {
        "id": "1tFhadtVhsYr"
      }
    },
    {
      "cell_type": "code",
      "source": [
        "# To open a file - requires explicit closing\n",
        "\n",
        "myFirstFile = open( \"myDataFile.txt\", \"rt\" )\n",
        "myFirstFile.close()                       #Close the file when you are finished.\n"
      ],
      "metadata": {
        "id": "atZC5_fvzbE4"
      },
      "execution_count": null,
      "outputs": []
    },
    {
      "cell_type": "code",
      "source": [
        "# To open a file - requires explicit closing\n",
        "\n",
        "myFirstFile = open( \"myDataFile.txt\", \"r\" )\n",
        "\n",
        "myFirstFile.read()\n",
        "myFirstFile.readline()\n",
        "\n",
        "myFirstFile.close()                       #Close the file when you are finished."
      ],
      "metadata": {
        "id": "NOXK2KZizzPo"
      },
      "execution_count": null,
      "outputs": []
    },
    {
      "cell_type": "code",
      "source": [
        "# Loop through the entire file\n",
        "\n",
        "myFirstFile = open( \"myDataFile.txt\", \"r\" )\n",
        "\n",
        "for i in myFirstFile: print(i)\n",
        "\n",
        "myFirstFile.close()                      # Close the file when you are finished."
      ],
      "metadata": {
        "id": "ZXnx5l380U6c",
        "colab": {
          "base_uri": "https://localhost:8080/"
        },
        "outputId": "b15b9e46-4100-4842-94a1-eda57b541c2d"
      },
      "execution_count": null,
      "outputs": [
        {
          "output_type": "stream",
          "name": "stdout",
          "text": [
            "It is going to the end of a file\n"
          ]
        }
      ]
    },
    {
      "cell_type": "code",
      "source": [
        "# To append to a file you need to use \"a\" parameter\n",
        "\n",
        "myFirstFile = open( \"myDataFile.txt\", \"a\" )\n",
        "\n",
        "myFirstFile.write(\"It is going to the end of a file\")\n",
        "\n",
        "myFirstFile.close() #Close the file when you are finished.\n",
        "\n",
        "# Open and read the file after the appending\n",
        "\n",
        "myFirstFile = open( \"myDataFile.txt\", \"r\" )\n",
        "\n",
        "print(myFirstFile.read())\n",
        "\n",
        "myFirstFile.close() #Close the file when you are finished."
      ],
      "metadata": {
        "id": "9Rig5pof07Ex"
      },
      "execution_count": null,
      "outputs": []
    },
    {
      "cell_type": "markdown",
      "source": [
        "Creating a new file\n",
        "---\n",
        "\n",
        "        Method (mode) for opening a file:\n",
        "        r  - Open   - will open a file for reading;\n",
        "        x  - Create - will create a file, returns an error if the file exist;\n",
        "        a  - Append - will create a file if the specified file does not exist;\n",
        "        w  - Write  - will create a file if the specified file does not exist."
      ],
      "metadata": {
        "id": "Vp08HtUm1mIo"
      }
    },
    {
      "cell_type": "code",
      "source": [
        "# Creating a new file\n",
        "\n",
        "myFirstFile = open( \"myDataFile2.txt\", \"x\" ) # a new and empty file is created\n",
        "myFirstFile = open( \"myDataFile3.txt\", \"w\" ) # if there is no file, it will be created\n",
        "myFirstFile = open( \"myDataFile4.txt\", \"a\" ) # if there is no file, it will be created\n",
        "\n",
        "myFirstFile.close()"
      ],
      "metadata": {
        "id": "5pPLB68H1ju1"
      },
      "execution_count": null,
      "outputs": []
    },
    {
      "cell_type": "code",
      "source": [
        "# To delete the file you need to import the os module\n",
        "\n",
        "import os\n",
        "\n",
        "if os.path.exists(\"myDataFile.txt\"):\n",
        "   os.remove(\"myDataFile.txt\")\n",
        "else:\n",
        "  print(\"This file does not exist\")"
      ],
      "metadata": {
        "id": "IxNAreqU2S12"
      },
      "execution_count": null,
      "outputs": []
    },
    {
      "cell_type": "code",
      "source": [
        "# To delete the entire folder\n",
        "\n",
        "import os\n",
        "\n",
        "os.rmdir(\"myFolder\")"
      ],
      "metadata": {
        "id": "ujyMAxjC2wJR"
      },
      "execution_count": null,
      "outputs": []
    },
    {
      "cell_type": "markdown",
      "source": [
        "Open file with \"with\" option\n",
        "---"
      ],
      "metadata": {
        "id": "1LwBL9NejBpq"
      }
    },
    {
      "cell_type": "markdown",
      "source": [
        "Description:\n",
        "\n",
        "---\n",
        "        Using the open() method requires you to use the close() method to close\n",
        "        the file. \"with\" option allows to open files as it returns a file\n",
        "        object, which has methods and attributes to manipulate the files.\n",
        "\n",
        "---\n",
        "Syntax:\n",
        "\n",
        "        with open(\"myDataFile.txt) as file:\n",
        "\n"
      ],
      "metadata": {
        "id": "QtKPdXsP3maX"
      }
    },
    {
      "cell_type": "code",
      "source": [
        "# Using \"with\" - no explicit closing of a file is required\n",
        "\n",
        "with open(\"myDataFile.txt\", \"a\") as myFirstFile:\n",
        "  myFirstFile.write(\"Hello World!\")\n",
        "\n",
        "# You do not need to close it explicitely"
      ],
      "metadata": {
        "id": "496pG5655Div"
      },
      "execution_count": null,
      "outputs": []
    },
    {
      "cell_type": "markdown",
      "source": [
        "9.3 Print function\n",
        "---\n",
        "Print function is usually used for to print python objects as standard output.\n",
        "\n",
        "---\n",
        "Syntax:\n",
        "\n",
        "        print(objects, sep, end, file, flush)\n",
        "\n",
        "        objects - strings, tuples, lists, etc.\n",
        "        sep - an optional parameter that is used to define a separation.\n",
        "        end - an optional parameter that is used to define an end of a string printed.\n",
        "        file - an optional parameter when writing to the file.\n",
        "        flush - an optional boolean parameter setting flushed or buffered output.\n"
      ],
      "metadata": {
        "id": "Zk_SMAm04wBR"
      }
    },
    {
      "cell_type": "code",
      "source": [
        "# Printing the objects\n",
        "\n",
        "myList   = [ 1, 2, 3, 4, 5 ]\n",
        "\n",
        "myTuple  = ( 1, 2, 3, 4, 5 )\n",
        "\n",
        "myString = \"1, 2, 3, 4, 5\"\n",
        "\n",
        "print(myList, myTuple, myString)"
      ],
      "metadata": {
        "colab": {
          "base_uri": "https://localhost:8080/"
        },
        "id": "5PogbvQP6fF4",
        "outputId": "7ad5ef73-1026-407e-aaf1-23eb39737489"
      },
      "execution_count": null,
      "outputs": [
        {
          "output_type": "stream",
          "name": "stdout",
          "text": [
            "[1, 2, 3, 4, 5] (1, 2, 3, 4, 5) 1, 2, 3, 4, 5\n"
          ]
        }
      ]
    },
    {
      "cell_type": "code",
      "source": [
        "# Printing objects with a separator\n",
        "\n",
        "myList   = [ 1, 2, 3, 4, 5 ]\n",
        "myTuple  = ( 1, 2, 3, 4, 5 )\n",
        "myString = \" 1, 2, 3, 4, 5 \"\n",
        "\n",
        "print(myList, myTuple, myString, sep=\"/\")"
      ],
      "metadata": {
        "colab": {
          "base_uri": "https://localhost:8080/"
        },
        "id": "_m1jkA966-ZC",
        "outputId": "8fa6006c-4d3a-4385-da71-0da0357d62f2"
      },
      "execution_count": null,
      "outputs": [
        {
          "output_type": "stream",
          "name": "stdout",
          "text": [
            "[1, 2, 3, 4, 5]/(1, 2, 3, 4, 5)/ 1, 2, 3, 4, 5 \n"
          ]
        }
      ]
    },
    {
      "cell_type": "code",
      "source": [
        "# Printing objects with a separator and an end\n",
        "\n",
        "myList   = [ 1, 2, 3, 4, 5 ]\n",
        "myTuple  = ( 1, 2, 3, 4, 5 )\n",
        "myString = \" 1, 2, 3, 4, 5 \"\n",
        "\n",
        "print(myList, myTuple, myString, sep=\" ; \", end=\" END\")"
      ],
      "metadata": {
        "colab": {
          "base_uri": "https://localhost:8080/"
        },
        "id": "kRAkXYEC7NRb",
        "outputId": "96ce292a-6c69-4cd8-e572-4e0b673e45eb"
      },
      "execution_count": null,
      "outputs": [
        {
          "output_type": "stream",
          "name": "stdout",
          "text": [
            "[1, 2, 3, 4, 5] ; (1, 2, 3, 4, 5) ;  1, 2, 3, 4, 5  END"
          ]
        }
      ]
    },
    {
      "cell_type": "code",
      "source": [
        "# Using flush command\n",
        "\n",
        "import time\n",
        "countSeconds = 3\n",
        "\n",
        "for i in reversed(range(countSeconds + 1)):\n",
        "  if i> 0:\n",
        "    print(i, end=\"/\", flush=True)  #flush specifies if it is flushed (True) or buffered (False)\n",
        "    time.sleep(1)\n",
        "  else:\n",
        "    print('End of a file')"
      ],
      "metadata": {
        "colab": {
          "base_uri": "https://localhost:8080/"
        },
        "id": "DoHFBSLi8_wx",
        "outputId": "de753511-90b0-41f7-f490-06b8ad7d0e98"
      },
      "execution_count": null,
      "outputs": [
        {
          "output_type": "stream",
          "name": "stdout",
          "text": [
            "3/2/1/End of a file\n"
          ]
        }
      ]
    },
    {
      "cell_type": "markdown",
      "source": [
        "Formating output from print() function\n",
        "---\n",
        "General syntax is listed for a format placeholder.\n",
        "\n",
        "---\n",
        "Syntax:\n",
        "              \n",
        "             ' %d %s ... %.2f '    %         ( 1, 2, ..., n)\n",
        "            |------------------|   %   |-------------------------|\n",
        "                  template      modulus    positional arguments   \n",
        "       print(' %d %s ... %.2f'     %         ( 1, 2, ..., n)     )  \n",
        "\n",
        "\n",
        "            |------------------|.format|-------------------------|\n",
        "                  template       format    positional arguments\n",
        "       print(' {} {} ... {} n'  .format      ( 1, 2, ..., n )    )\n",
        "\n",
        "       print(' {key} ... {} n'  .format     (key = value, ...)   )\n",
        "\n",
        "       print(f'{} {} ... {} n' )"
      ],
      "metadata": {
        "id": "RP6FalHu_XVv"
      }
    },
    {
      "cell_type": "code",
      "source": [
        "# Output formatting in python\n",
        "# This program is showing how to use\n",
        "# string modulo operator(%) to print various data types\n",
        "\n",
        "# print integer and float value\n",
        "print(\"Integer number : %2d, float number : %5.2f\" % (11, 05.333))\n",
        "\n",
        "# print integer value\n",
        "print(\"Total students : %3d, Boys : %2d\" % (240, 120))\n",
        "\n",
        "# print octal value\n",
        "print(\"%7.3o\" % (25))\n",
        "\n",
        "# print integer value\n",
        "print(\"%7.3d\" % (25))\n",
        "\n",
        "# print exponential value\n",
        "print(\"%10.3e\" % (356.08977))"
      ],
      "metadata": {
        "id": "wvwhB3nG-HeZ"
      },
      "execution_count": null,
      "outputs": []
    },
    {
      "cell_type": "code",
      "source": [
        "# Output formatting in python\n",
        "# This program is showing how to use\n",
        "# string modulo operator(%) to print various data types\n",
        "print('%d %s cost $%.2f' % (3, 'oranges', 5.11))"
      ],
      "metadata": {
        "id": "wLuaHaR8F_Y9"
      },
      "execution_count": null,
      "outputs": []
    },
    {
      "cell_type": "code",
      "source": [
        "# Control output using format() method with one argument\n",
        "\n",
        "myString = \"Python language was created in {}\"\n",
        "\n",
        "print(myString.format(1985))"
      ],
      "metadata": {
        "id": "hPiIxPtYrb-z"
      },
      "execution_count": null,
      "outputs": []
    },
    {
      "cell_type": "code",
      "source": [
        "# Python’s string.format() method is used instead\n",
        "print('{0} {1} cost ${2}'.format(3, 'oranges', 5.11))\n",
        "#     |-----------------|.format|--------------------------|\n",
        "#           template     .format    positional arguments"
      ],
      "metadata": {
        "id": "7doVvSOuGnvT"
      },
      "execution_count": null,
      "outputs": []
    },
    {
      "cell_type": "code",
      "source": [
        "# Using keyword parameters instead of positional arguments\n",
        "print('{quantity} {item} cost ${price}'.format(quantity=3,item='oranges',price=5.11))"
      ],
      "metadata": {
        "id": "e38SwInxH-6J"
      },
      "execution_count": null,
      "outputs": []
    },
    {
      "cell_type": "code",
      "source": [
        "# Output formatting in Python\n",
        "# This program is showing how to use\n",
        "# f-string to print various data types\n",
        "\n",
        "quantity = 3\n",
        "item = 'oranges'\n",
        "price = 5.11\n",
        "\n",
        "print(f'{quantity} {item} cost ${price}')"
      ],
      "metadata": {
        "id": "XB9582OjVOqt"
      },
      "execution_count": null,
      "outputs": []
    }
  ]
}